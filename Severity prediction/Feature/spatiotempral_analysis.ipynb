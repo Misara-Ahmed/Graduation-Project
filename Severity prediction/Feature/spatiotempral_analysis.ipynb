{
 "cells": [
  {
   "cell_type": "code",
   "execution_count": 1,
   "id": "0e2bc788",
   "metadata": {},
   "outputs": [
    {
     "name": "stderr",
     "output_type": "stream",
     "text": [
      "C:\\Users\\User\\Anaconda3\\lib\\site-packages\\scipy\\__init__.py:155: UserWarning: A NumPy version >=1.18.5 and <1.25.0 is required for this version of SciPy (detected version 1.26.4\n",
      "  warnings.warn(f\"A NumPy version >={np_minversion} and <{np_maxversion}\"\n"
     ]
    }
   ],
   "source": [
    "from scipy import signal\n",
    "from scipy.signal import find_peaks\n",
    "import numpy as np\n",
    "import statistics as st"
   ]
  },
  {
   "cell_type": "code",
   "execution_count": 2,
   "id": "7733c200",
   "metadata": {},
   "outputs": [],
   "source": [
    "def functionswingtime(idxTO, idxHS, sample_frequency, time):\n",
    "\n",
    "    swingTO = np.array([])\n",
    "    swingHS = np.array([])\n",
    "        \n",
    "    for i in range(len(idxHS)):\n",
    "        lastTO = np.argwhere(idxTO < idxHS[i])\n",
    "        if len(lastTO) > 0:\n",
    "            lastTO = lastTO[-1][0]\n",
    "            swingTO = np.append(swingTO, idxTO[lastTO])\n",
    "            swingHS = np.append(swingHS, idxHS[i])\n",
    "         \n",
    "    return  swingTO, swingHS"
   ]
  },
  {
   "cell_type": "code",
   "execution_count": 3,
   "id": "a773bed2",
   "metadata": {},
   "outputs": [],
   "source": [
    "def functionstancetime(idxTO, idxHS, sample_frequency, time):\n",
    "    \n",
    "    stanceTO = np.array([])\n",
    "    stanceHS = np.array([])\n",
    "        \n",
    "    for i in range(len(idxTO)):\n",
    "        lastHS = np.argwhere(idxHS < idxTO[i])\n",
    "        if len(lastHS) > 0:\n",
    "            lastHS = lastHS[-1][0]\n",
    "            stanceTO = np.append(stanceTO, idxTO[i])\n",
    "            stanceHS = np.append(stanceHS, idxHS[lastHS])\n",
    "    \n",
    "    return  stanceTO, stanceHS\n",
    "\n"
   ]
  },
  {
   "cell_type": "code",
   "execution_count": 4,
   "id": "9ddceef9",
   "metadata": {},
   "outputs": [],
   "source": [
    "def accPeaks(fcacc, time,idxHS):\n",
    "    # Initialize lists for first higher and lower peaks between heel strikes\n",
    "    first_higher_peaks_times = []\n",
    "    first_higher_peaks_values = []\n",
    "    first_lower_peaks_times = []\n",
    "    first_lower_peaks_values = []\n",
    "\n",
    "    # Loop through each pair of consecutive heel strikes\n",
    "    for i in range(len(idxHS) - 1):\n",
    "        start_idx = idxHS[i]\n",
    "        end_idx = idxHS[i + 1]\n",
    "\n",
    "        # Extract the segment of the signal between heel strikes\n",
    "        segment = fcacc[start_idx:end_idx]\n",
    "        segment_time = time.iloc[start_idx:end_idx]\n",
    "\n",
    "#         Detect all higher peaks (local maxima)\n",
    "        higher_peaks = find_peaks(segment, prominence=3)[0]\n",
    "        # Detect all lower peaks (local minima) by inverting the signal\n",
    "        lower_peaks = find_peaks(-segment, prominence=3)[0]\n",
    "\n",
    "#         # Check if higher_peaks and lower_peaks are not empty\n",
    "        if higher_peaks.size > 0 and lower_peaks.size > 0:\n",
    "            if segment[higher_peaks[0]] >segment[lower_peaks[0]]:\n",
    "                first_idx = higher_peaks[0]\n",
    "                next_peak_indices = lower_peaks[lower_peaks > first_idx]\n",
    "                if next_peak_indices.size > 0:\n",
    "                    first_higher_peaks_times.append(segment_time.iloc[first_idx])\n",
    "                    first_higher_peaks_values.append(segment[first_idx])\n",
    "                    first_lower_peaks_times.append(segment_time.iloc[next_peak_indices[0]])\n",
    "                    first_lower_peaks_values.append(segment[next_peak_indices[0]])\n",
    "            else:\n",
    "                first_idx = lower_peaks[0]\n",
    "                next_peak_indices = higher_peaks[higher_peaks > first_idx]\n",
    "                if next_peak_indices.size > 0:\n",
    "                    first_higher_peaks_times.append(segment_time.iloc[next_peak_indices[0]])\n",
    "                    first_higher_peaks_values.append(segment[next_peak_indices[0]])\n",
    "                    first_lower_peaks_times.append(segment_time.iloc[first_idx])\n",
    "                    first_lower_peaks_values.append(segment[first_idx])\n",
    "    return first_lower_peaks_times, first_lower_peaks_values, first_higher_peaks_times, first_higher_peaks_values\n"
   ]
  }
 ],
 "metadata": {
  "kernelspec": {
   "display_name": "Python 3 (ipykernel)",
   "language": "python",
   "name": "python3"
  },
  "language_info": {
   "codemirror_mode": {
    "name": "ipython",
    "version": 3
   },
   "file_extension": ".py",
   "mimetype": "text/x-python",
   "name": "python",
   "nbconvert_exporter": "python",
   "pygments_lexer": "ipython3",
   "version": "3.9.13"
  }
 },
 "nbformat": 4,
 "nbformat_minor": 5
}
