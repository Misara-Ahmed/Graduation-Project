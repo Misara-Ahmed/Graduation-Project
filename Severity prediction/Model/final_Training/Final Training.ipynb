{
 "cells": [
  {
   "cell_type": "code",
   "execution_count": 1,
   "id": "9d138420-16ea-4bd5-828c-db9899b3601c",
   "metadata": {},
   "outputs": [
    {
     "name": "stderr",
     "output_type": "stream",
     "text": [
      "C:\\Users\\User\\Anaconda3\\lib\\site-packages\\scipy\\__init__.py:155: UserWarning: A NumPy version >=1.18.5 and <1.25.0 is required for this version of SciPy (detected version 1.26.4\n",
      "  warnings.warn(f\"A NumPy version >={np_minversion} and <{np_maxversion}\"\n"
     ]
    }
   ],
   "source": [
    "import pandas as pd\n",
    "import numpy as np\n",
    "# import matplotlib.pyplot as plt\n",
    "import seaborn as sns\n",
    "from sklearn.utils import shuffle\n",
    "from sklearn.model_selection import train_test_split\n",
    "from sklearn.metrics import classification_report, accuracy_score, precision_score, recall_score, f1_score, confusion_matrix, classification_report\n",
    "from sklearn.feature_selection import SelectKBest, f_classif, mutual_info_classif\n",
    "from sklearn.ensemble import RandomForestClassifier\n",
    "from sklearn.linear_model import LogisticRegression\n",
    "from sklearn.neighbors import KNeighborsClassifier\n",
    "from xgboost import XGBClassifier\n",
    "from sklearn.svm import SVC\n",
    "import warnings\n",
    "warnings.filterwarnings('ignore')\n",
    "import random\n",
    "random_seed = 1234\n",
    "random.seed(random_seed)\n",
    "np.random.seed(random_seed)\n",
    "\n",
    "import Functions as f"
   ]
  },
  {
   "cell_type": "markdown",
   "id": "2b1e7e1e-a27c-4614-97d6-68fd013af260",
   "metadata": {},
   "source": [
    "## File Paths:"
   ]
  },
  {
   "cell_type": "code",
   "execution_count": 2,
   "id": "e9c91be2-4040-409a-87f8-af2e5c2ed48a",
   "metadata": {},
   "outputs": [
    {
     "data": {
      "text/html": [
       "<div>\n",
       "<style scoped>\n",
       "    .dataframe tbody tr th:only-of-type {\n",
       "        vertical-align: middle;\n",
       "    }\n",
       "\n",
       "    .dataframe tbody tr th {\n",
       "        vertical-align: top;\n",
       "    }\n",
       "\n",
       "    .dataframe thead th {\n",
       "        text-align: right;\n",
       "    }\n",
       "</style>\n",
       "<table border=\"1\" class=\"dataframe\">\n",
       "  <thead>\n",
       "    <tr style=\"text-align: right;\">\n",
       "      <th></th>\n",
       "      <th>patient_id</th>\n",
       "      <th>swing_time_max</th>\n",
       "      <th>swing_time_min</th>\n",
       "      <th>stance_time_max</th>\n",
       "      <th>stance_time_min</th>\n",
       "      <th>stride_time_max</th>\n",
       "      <th>stride_time_min</th>\n",
       "      <th>setting_angle</th>\n",
       "      <th>mean_hs_angle</th>\n",
       "      <th>mean_to_angle</th>\n",
       "      <th>...</th>\n",
       "      <th>powerY_ 3_C</th>\n",
       "      <th>powerY_ 4_C</th>\n",
       "      <th>powerY_ 5_C</th>\n",
       "      <th>powerY_ 6_C</th>\n",
       "      <th>powerZ_ 1_C</th>\n",
       "      <th>powerZ_ 2_C</th>\n",
       "      <th>powerZ_ 3_C</th>\n",
       "      <th>powerZ_ 4_C</th>\n",
       "      <th>powerZ_ 5_C</th>\n",
       "      <th>powerZ_ 6_C</th>\n",
       "    </tr>\n",
       "  </thead>\n",
       "  <tbody>\n",
       "    <tr>\n",
       "      <th>0</th>\n",
       "      <td>1</td>\n",
       "      <td>1.04</td>\n",
       "      <td>0.46</td>\n",
       "      <td>1.18</td>\n",
       "      <td>0.81</td>\n",
       "      <td>1.99</td>\n",
       "      <td>1.31</td>\n",
       "      <td>71.29</td>\n",
       "      <td>24.000000</td>\n",
       "      <td>38.840000</td>\n",
       "      <td>...</td>\n",
       "      <td>1040.211971</td>\n",
       "      <td>73.481629</td>\n",
       "      <td>141.905164</td>\n",
       "      <td>10.216969</td>\n",
       "      <td>1.571939e+06</td>\n",
       "      <td>607.747259</td>\n",
       "      <td>533.161447</td>\n",
       "      <td>2633.837158</td>\n",
       "      <td>3055.918834</td>\n",
       "      <td>173.842186</td>\n",
       "    </tr>\n",
       "    <tr>\n",
       "      <th>1</th>\n",
       "      <td>1</td>\n",
       "      <td>1.22</td>\n",
       "      <td>0.42</td>\n",
       "      <td>1.39</td>\n",
       "      <td>0.08</td>\n",
       "      <td>2.24</td>\n",
       "      <td>0.53</td>\n",
       "      <td>64.05</td>\n",
       "      <td>21.227143</td>\n",
       "      <td>34.982857</td>\n",
       "      <td>...</td>\n",
       "      <td>1964.301772</td>\n",
       "      <td>816.673624</td>\n",
       "      <td>404.261715</td>\n",
       "      <td>228.916362</td>\n",
       "      <td>2.954191e+06</td>\n",
       "      <td>109.416956</td>\n",
       "      <td>2606.851615</td>\n",
       "      <td>10.729508</td>\n",
       "      <td>5185.243035</td>\n",
       "      <td>25.271313</td>\n",
       "    </tr>\n",
       "    <tr>\n",
       "      <th>2</th>\n",
       "      <td>1</td>\n",
       "      <td>1.01</td>\n",
       "      <td>0.42</td>\n",
       "      <td>1.01</td>\n",
       "      <td>0.23</td>\n",
       "      <td>2.02</td>\n",
       "      <td>0.65</td>\n",
       "      <td>67.16</td>\n",
       "      <td>17.451667</td>\n",
       "      <td>32.843333</td>\n",
       "      <td>...</td>\n",
       "      <td>4199.071301</td>\n",
       "      <td>3488.940407</td>\n",
       "      <td>113.009892</td>\n",
       "      <td>760.522046</td>\n",
       "      <td>1.902485e+06</td>\n",
       "      <td>860.193745</td>\n",
       "      <td>304.164403</td>\n",
       "      <td>12119.034787</td>\n",
       "      <td>1532.932283</td>\n",
       "      <td>537.452090</td>\n",
       "    </tr>\n",
       "    <tr>\n",
       "      <th>3</th>\n",
       "      <td>10</td>\n",
       "      <td>0.90</td>\n",
       "      <td>0.43</td>\n",
       "      <td>0.85</td>\n",
       "      <td>0.52</td>\n",
       "      <td>1.61</td>\n",
       "      <td>1.00</td>\n",
       "      <td>71.26</td>\n",
       "      <td>11.700000</td>\n",
       "      <td>27.365000</td>\n",
       "      <td>...</td>\n",
       "      <td>753.474303</td>\n",
       "      <td>535.838457</td>\n",
       "      <td>105.252777</td>\n",
       "      <td>182.907451</td>\n",
       "      <td>9.738762e+05</td>\n",
       "      <td>2350.306948</td>\n",
       "      <td>2954.338341</td>\n",
       "      <td>2614.545432</td>\n",
       "      <td>1978.834077</td>\n",
       "      <td>105.690189</td>\n",
       "    </tr>\n",
       "    <tr>\n",
       "      <th>4</th>\n",
       "      <td>10</td>\n",
       "      <td>0.61</td>\n",
       "      <td>0.36</td>\n",
       "      <td>0.86</td>\n",
       "      <td>0.34</td>\n",
       "      <td>1.43</td>\n",
       "      <td>0.95</td>\n",
       "      <td>69.07</td>\n",
       "      <td>17.008571</td>\n",
       "      <td>28.935714</td>\n",
       "      <td>...</td>\n",
       "      <td>442.169719</td>\n",
       "      <td>431.027909</td>\n",
       "      <td>176.619568</td>\n",
       "      <td>75.768927</td>\n",
       "      <td>1.519685e+06</td>\n",
       "      <td>72.975955</td>\n",
       "      <td>462.167270</td>\n",
       "      <td>1289.025156</td>\n",
       "      <td>711.321877</td>\n",
       "      <td>26.048736</td>\n",
       "    </tr>\n",
       "  </tbody>\n",
       "</table>\n",
       "<p>5 rows × 56 columns</p>\n",
       "</div>"
      ],
      "text/plain": [
       "   patient_id  swing_time_max  swing_time_min  stance_time_max  \\\n",
       "0           1            1.04            0.46             1.18   \n",
       "1           1            1.22            0.42             1.39   \n",
       "2           1            1.01            0.42             1.01   \n",
       "3          10            0.90            0.43             0.85   \n",
       "4          10            0.61            0.36             0.86   \n",
       "\n",
       "   stance_time_min  stride_time_max  stride_time_min  setting_angle  \\\n",
       "0             0.81             1.99             1.31          71.29   \n",
       "1             0.08             2.24             0.53          64.05   \n",
       "2             0.23             2.02             0.65          67.16   \n",
       "3             0.52             1.61             1.00          71.26   \n",
       "4             0.34             1.43             0.95          69.07   \n",
       "\n",
       "   mean_hs_angle  mean_to_angle  ...  powerY_ 3_C  powerY_ 4_C  powerY_ 5_C  \\\n",
       "0      24.000000      38.840000  ...  1040.211971    73.481629   141.905164   \n",
       "1      21.227143      34.982857  ...  1964.301772   816.673624   404.261715   \n",
       "2      17.451667      32.843333  ...  4199.071301  3488.940407   113.009892   \n",
       "3      11.700000      27.365000  ...   753.474303   535.838457   105.252777   \n",
       "4      17.008571      28.935714  ...   442.169719   431.027909   176.619568   \n",
       "\n",
       "   powerY_ 6_C   powerZ_ 1_C  powerZ_ 2_C  powerZ_ 3_C   powerZ_ 4_C  \\\n",
       "0    10.216969  1.571939e+06   607.747259   533.161447   2633.837158   \n",
       "1   228.916362  2.954191e+06   109.416956  2606.851615     10.729508   \n",
       "2   760.522046  1.902485e+06   860.193745   304.164403  12119.034787   \n",
       "3   182.907451  9.738762e+05  2350.306948  2954.338341   2614.545432   \n",
       "4    75.768927  1.519685e+06    72.975955   462.167270   1289.025156   \n",
       "\n",
       "   powerZ_ 5_C  powerZ_ 6_C  \n",
       "0  3055.918834   173.842186  \n",
       "1  5185.243035    25.271313  \n",
       "2  1532.932283   537.452090  \n",
       "3  1978.834077   105.690189  \n",
       "4   711.321877    26.048736  \n",
       "\n",
       "[5 rows x 56 columns]"
      ]
     },
     "execution_count": 2,
     "metadata": {},
     "output_type": "execute_result"
    }
   ],
   "source": [
    "womac_path = \"../csv/data_training/classify.csv\"\n",
    "features_path = \"../csv/data_training/AllFeatures_true.csv\"\n",
    "\n",
    "wdf = f.read_csv_file(womac_path)\n",
    "fdf = f.read_csv_file(features_path)\n",
    "\n",
    "fdf.columns = fdf.columns.str.strip()\n",
    "wdf.columns = wdf.columns.str.strip()\n",
    "\n",
    "assert 'patient_id' in fdf.columns, \"'patient_id' not found in fdf columns\"\n",
    "assert 'patient_id' in wdf.columns, \"'patient_id' not found in wdf columns\"\n",
    "\n",
    "fdf.head()\n",
    "# wdf.head()"
   ]
  },
  {
   "cell_type": "markdown",
   "id": "7f02c845-bc9f-4f97-aa18-ff1efa37be19",
   "metadata": {},
   "source": [
    "# Preprocessing:"
   ]
  },
  {
   "cell_type": "markdown",
   "id": "0da73c5b-7492-449d-b737-48a454c36400",
   "metadata": {},
   "source": [
    "## Merging two Dataframes"
   ]
  },
  {
   "cell_type": "code",
   "execution_count": 3,
   "id": "027f108f-651a-427d-90db-bb4972c1f37d",
   "metadata": {},
   "outputs": [
    {
     "name": "stdout",
     "output_type": "stream",
     "text": [
      "Merged succesfully\n"
     ]
    },
    {
     "data": {
      "text/html": [
       "<div>\n",
       "<style scoped>\n",
       "    .dataframe tbody tr th:only-of-type {\n",
       "        vertical-align: middle;\n",
       "    }\n",
       "\n",
       "    .dataframe tbody tr th {\n",
       "        vertical-align: top;\n",
       "    }\n",
       "\n",
       "    .dataframe thead th {\n",
       "        text-align: right;\n",
       "    }\n",
       "</style>\n",
       "<table border=\"1\" class=\"dataframe\">\n",
       "  <thead>\n",
       "    <tr style=\"text-align: right;\">\n",
       "      <th></th>\n",
       "      <th>patient_id</th>\n",
       "      <th>swing_time_max</th>\n",
       "      <th>swing_time_min</th>\n",
       "      <th>stance_time_max</th>\n",
       "      <th>stance_time_min</th>\n",
       "      <th>stride_time_max</th>\n",
       "      <th>stride_time_min</th>\n",
       "      <th>setting_angle</th>\n",
       "      <th>mean_hs_angle</th>\n",
       "      <th>mean_to_angle</th>\n",
       "      <th>...</th>\n",
       "      <th>powerZ_ 3_C</th>\n",
       "      <th>powerZ_ 4_C</th>\n",
       "      <th>powerZ_ 5_C</th>\n",
       "      <th>powerZ_ 6_C</th>\n",
       "      <th>name</th>\n",
       "      <th>gender</th>\n",
       "      <th>leg</th>\n",
       "      <th>age</th>\n",
       "      <th>BMI</th>\n",
       "      <th>severity</th>\n",
       "    </tr>\n",
       "  </thead>\n",
       "  <tbody>\n",
       "    <tr>\n",
       "      <th>0</th>\n",
       "      <td>1</td>\n",
       "      <td>1.04</td>\n",
       "      <td>0.46</td>\n",
       "      <td>1.18</td>\n",
       "      <td>0.81</td>\n",
       "      <td>1.99</td>\n",
       "      <td>1.31</td>\n",
       "      <td>71.29</td>\n",
       "      <td>24.000000</td>\n",
       "      <td>38.840000</td>\n",
       "      <td>...</td>\n",
       "      <td>533.161447</td>\n",
       "      <td>2633.837158</td>\n",
       "      <td>3055.918834</td>\n",
       "      <td>173.842186</td>\n",
       "      <td>marwa abdelaly</td>\n",
       "      <td>f</td>\n",
       "      <td>right</td>\n",
       "      <td>40.0</td>\n",
       "      <td>35.755956</td>\n",
       "      <td>mild</td>\n",
       "    </tr>\n",
       "    <tr>\n",
       "      <th>1</th>\n",
       "      <td>1</td>\n",
       "      <td>1.22</td>\n",
       "      <td>0.42</td>\n",
       "      <td>1.39</td>\n",
       "      <td>0.08</td>\n",
       "      <td>2.24</td>\n",
       "      <td>0.53</td>\n",
       "      <td>64.05</td>\n",
       "      <td>21.227143</td>\n",
       "      <td>34.982857</td>\n",
       "      <td>...</td>\n",
       "      <td>2606.851615</td>\n",
       "      <td>10.729508</td>\n",
       "      <td>5185.243035</td>\n",
       "      <td>25.271313</td>\n",
       "      <td>marwa abdelaly</td>\n",
       "      <td>f</td>\n",
       "      <td>right</td>\n",
       "      <td>40.0</td>\n",
       "      <td>35.755956</td>\n",
       "      <td>mild</td>\n",
       "    </tr>\n",
       "    <tr>\n",
       "      <th>2</th>\n",
       "      <td>1</td>\n",
       "      <td>1.01</td>\n",
       "      <td>0.42</td>\n",
       "      <td>1.01</td>\n",
       "      <td>0.23</td>\n",
       "      <td>2.02</td>\n",
       "      <td>0.65</td>\n",
       "      <td>67.16</td>\n",
       "      <td>17.451667</td>\n",
       "      <td>32.843333</td>\n",
       "      <td>...</td>\n",
       "      <td>304.164403</td>\n",
       "      <td>12119.034787</td>\n",
       "      <td>1532.932283</td>\n",
       "      <td>537.452090</td>\n",
       "      <td>marwa abdelaly</td>\n",
       "      <td>f</td>\n",
       "      <td>right</td>\n",
       "      <td>40.0</td>\n",
       "      <td>35.755956</td>\n",
       "      <td>mild</td>\n",
       "    </tr>\n",
       "    <tr>\n",
       "      <th>3</th>\n",
       "      <td>10</td>\n",
       "      <td>0.90</td>\n",
       "      <td>0.43</td>\n",
       "      <td>0.85</td>\n",
       "      <td>0.52</td>\n",
       "      <td>1.61</td>\n",
       "      <td>1.00</td>\n",
       "      <td>71.26</td>\n",
       "      <td>11.700000</td>\n",
       "      <td>27.365000</td>\n",
       "      <td>...</td>\n",
       "      <td>2954.338341</td>\n",
       "      <td>2614.545432</td>\n",
       "      <td>1978.834077</td>\n",
       "      <td>105.690189</td>\n",
       "      <td>rehab helmy</td>\n",
       "      <td>m</td>\n",
       "      <td>right</td>\n",
       "      <td>35.0</td>\n",
       "      <td>29.136316</td>\n",
       "      <td>normal</td>\n",
       "    </tr>\n",
       "    <tr>\n",
       "      <th>4</th>\n",
       "      <td>10</td>\n",
       "      <td>0.61</td>\n",
       "      <td>0.36</td>\n",
       "      <td>0.86</td>\n",
       "      <td>0.34</td>\n",
       "      <td>1.43</td>\n",
       "      <td>0.95</td>\n",
       "      <td>69.07</td>\n",
       "      <td>17.008571</td>\n",
       "      <td>28.935714</td>\n",
       "      <td>...</td>\n",
       "      <td>462.167270</td>\n",
       "      <td>1289.025156</td>\n",
       "      <td>711.321877</td>\n",
       "      <td>26.048736</td>\n",
       "      <td>rehab helmy</td>\n",
       "      <td>m</td>\n",
       "      <td>right</td>\n",
       "      <td>35.0</td>\n",
       "      <td>29.136316</td>\n",
       "      <td>normal</td>\n",
       "    </tr>\n",
       "  </tbody>\n",
       "</table>\n",
       "<p>5 rows × 62 columns</p>\n",
       "</div>"
      ],
      "text/plain": [
       "   patient_id  swing_time_max  swing_time_min  stance_time_max  \\\n",
       "0           1            1.04            0.46             1.18   \n",
       "1           1            1.22            0.42             1.39   \n",
       "2           1            1.01            0.42             1.01   \n",
       "3          10            0.90            0.43             0.85   \n",
       "4          10            0.61            0.36             0.86   \n",
       "\n",
       "   stance_time_min  stride_time_max  stride_time_min  setting_angle  \\\n",
       "0             0.81             1.99             1.31          71.29   \n",
       "1             0.08             2.24             0.53          64.05   \n",
       "2             0.23             2.02             0.65          67.16   \n",
       "3             0.52             1.61             1.00          71.26   \n",
       "4             0.34             1.43             0.95          69.07   \n",
       "\n",
       "   mean_hs_angle  mean_to_angle  ...  powerZ_ 3_C   powerZ_ 4_C  powerZ_ 5_C  \\\n",
       "0      24.000000      38.840000  ...   533.161447   2633.837158  3055.918834   \n",
       "1      21.227143      34.982857  ...  2606.851615     10.729508  5185.243035   \n",
       "2      17.451667      32.843333  ...   304.164403  12119.034787  1532.932283   \n",
       "3      11.700000      27.365000  ...  2954.338341   2614.545432  1978.834077   \n",
       "4      17.008571      28.935714  ...   462.167270   1289.025156   711.321877   \n",
       "\n",
       "   powerZ_ 6_C            name  gender    leg   age        BMI  severity  \n",
       "0   173.842186  marwa abdelaly       f  right  40.0  35.755956      mild  \n",
       "1    25.271313  marwa abdelaly       f  right  40.0  35.755956      mild  \n",
       "2   537.452090  marwa abdelaly       f  right  40.0  35.755956      mild  \n",
       "3   105.690189     rehab helmy       m  right  35.0  29.136316    normal  \n",
       "4    26.048736     rehab helmy       m  right  35.0  29.136316    normal  \n",
       "\n",
       "[5 rows x 62 columns]"
      ]
     },
     "execution_count": 3,
     "metadata": {},
     "output_type": "execute_result"
    }
   ],
   "source": [
    "merged_df = f.MergeTwoDataFrame(fdf, wdf, \"patient_id\")\n",
    "merged_df.to_csv('data_1.csv', index=False)\n",
    "merged_df.head()"
   ]
  },
  {
   "cell_type": "markdown",
   "id": "c7f3d598-ecea-4721-8001-1fdd9f55da84",
   "metadata": {},
   "source": [
    "## Missing Data Handling"
   ]
  },
  {
   "cell_type": "code",
   "execution_count": 4,
   "id": "e06dc0ba-1734-474c-a7f0-2c4cb04d89df",
   "metadata": {},
   "outputs": [
    {
     "name": "stdout",
     "output_type": "stream",
     "text": [
      "the columns that contain null values: ['thrustACCel_C', 'thrustACCel_T', 'max_stance_angles', 'age']\n",
      "Missing values handled\n"
     ]
    }
   ],
   "source": [
    "merged_df = f.MissingValueHandling(merged_df)"
   ]
  },
  {
   "cell_type": "markdown",
   "id": "47eaac1b-fb22-4c45-9fb0-eb622dd644b6",
   "metadata": {},
   "source": [
    "## Encoding Categorical Data:"
   ]
  },
  {
   "cell_type": "code",
   "execution_count": 5,
   "id": "ecaf184d-77dc-407f-a3c6-c401367875c1",
   "metadata": {},
   "outputs": [
    {
     "name": "stdout",
     "output_type": "stream",
     "text": [
      "Severity after Encoding:\n"
     ]
    },
    {
     "data": {
      "text/plain": [
       "{2: 33, 3: 21, 0: 16, 1: 14}"
      ]
     },
     "execution_count": 5,
     "metadata": {},
     "output_type": "execute_result"
    }
   ],
   "source": [
    "merged_df = f.Encoding(merged_df)\n",
    "    \n",
    "# Check that the value transformed successfully \n",
    "print('Severity after Encoding:')\n",
    "dict(merged_df['severity'].value_counts())"
   ]
  },
  {
   "cell_type": "markdown",
   "id": "0c126a98-6c64-44f1-bde3-e652839f6402",
   "metadata": {},
   "source": [
    "## Drop Extra Columns and splitting data from target"
   ]
  },
  {
   "cell_type": "code",
   "execution_count": 6,
   "id": "0143a04b-2c97-43ac-813c-b39de9107659",
   "metadata": {},
   "outputs": [
    {
     "data": {
      "text/plain": [
       "(67, 58)"
      ]
     },
     "execution_count": 6,
     "metadata": {},
     "output_type": "execute_result"
    }
   ],
   "source": [
    "merged_df = shuffle(merged_df, random_state = random_seed)\n",
    "\n",
    "columns_to_drop = ['patient_id', 'name', 'leg', 'severity']\n",
    "\n",
    "X = merged_df.drop(columns = columns_to_drop, axis = 1)  \n",
    "y = merged_df['severity']  \n",
    "\n",
    "X_train, X_test, y_train, y_test = train_test_split(X, y, test_size=0.2, random_state=random_seed)\n",
    "X_train.shape"
   ]
  },
  {
   "cell_type": "markdown",
   "id": "a821ae2c-57fb-4304-b0f8-16efb2034b24",
   "metadata": {},
   "source": [
    "# Feature Selection"
   ]
  },
  {
   "cell_type": "markdown",
   "id": "5a95ec96-fbe6-47ba-9f4c-554e73278090",
   "metadata": {},
   "source": [
    "## Filter Method"
   ]
  },
  {
   "cell_type": "code",
   "execution_count": 7,
   "id": "38aa5655-c8c4-4f25-8510-a58265784f94",
   "metadata": {},
   "outputs": [
    {
     "data": {
      "image/png": "[encoded data removed]",
      "text/plain": [
       "<Figure size 1200x1200 with 1 Axes>"
      ]
     },
     "metadata": {},
     "output_type": "display_data"
    }
   ],
   "source": [
    "###################################################### Information Gain ######################################################\n",
    "mi_scores = mutual_info_classif(X, y)\n",
    "mi_scores_df = pd.DataFrame({'Feature': X.columns, 'MI Score': mi_scores})\n",
    "# Sort features by their mutual information scores\n",
    "mi_scores_df = mi_scores_df.sort_values(by='MI Score', ascending=False)\n",
    "# mi_scores_df\n",
    "\n",
    "f.PlottingfeatureImportance(mi_scores_df['Feature'], mi_scores_df['MI Score'], 'Mutual Information Score', 'Feature', 'Feature Importance using Mutual Information')"
   ]
  },
  {
   "cell_type": "markdown",
   "id": "284d47a3-07a2-4ad2-a072-11eecafd097d",
   "metadata": {},
   "source": [
    "### Drop unselected columns from filter method"
   ]
  },
  {
   "cell_type": "code",
   "execution_count": 8,
   "id": "1a833c1f-a2f0-48a7-8563-22623d41ed44",
   "metadata": {},
   "outputs": [
    {
     "name": "stdout",
     "output_type": "stream",
     "text": [
      "the droped columns ['swing_time_max', 'powerX_ 4_T', 'powerX_ 6_T', 'powerY_ 3_T', 'powerZ_ 3_T', 'powerZ_ 6_T', 'powerX_ 2_C', 'powerX_ 6_C', 'powerY_ 2_T.1', 'powerY_ 5_C', 'powerY_ 6_C', 'powerZ_ 4_C']\n"
     ]
    }
   ],
   "source": [
    "X_train_filter, X_test_filter = f.DropAfterFeatureSelection(mi_scores_df, X_train, X_test)\n",
    "# X_test_filter = X_test.drop(non_selected_features, axis=1)\n"
   ]
  },
  {
   "cell_type": "code",
   "execution_count": 9,
   "id": "815c942d-470d-4754-886e-6124edebf567",
   "metadata": {},
   "outputs": [],
   "source": [
    "# X_train_filter.columns"
   ]
  },
  {
   "cell_type": "markdown",
   "id": "c046edd8-0819-4de0-b02e-c9ff8cd58613",
   "metadata": {},
   "source": [
    "# Scaling Data"
   ]
  },
  {
   "cell_type": "code",
   "execution_count": 10,
   "id": "7e2aab7d-62ef-475f-a1c5-be183eef3f5c",
   "metadata": {},
   "outputs": [],
   "source": [
    "X_train_filter, X_test_filter = f.ScalingData(X_train_filter, X_test_filter)\n",
    "X_train, X_test = f.ScalingData(X_train, X_test)"
   ]
  },
  {
   "cell_type": "markdown",
   "id": "81fb984a-7800-4e4b-b304-b5e8b5b2cceb",
   "metadata": {},
   "source": [
    "# Model Training"
   ]
  },
  {
   "cell_type": "markdown",
   "id": "75f5799e-7e0c-4536-bf00-ca68f9c497ea",
   "metadata": {},
   "source": [
    "## All Features"
   ]
  },
  {
   "cell_type": "code",
   "execution_count": null,
   "id": "7793b888-2301-4ad7-abeb-234901ca12e4",
   "metadata": {},
   "outputs": [],
   "source": [
    "results_all = []\n",
    "models_all = {\n",
    "    \"Random Forest\": RandomForestClassifier(random_state=random_seed),\n",
    "    \"Logistic Regression\": LogisticRegression(),\n",
    "    \"KNN\": KNeighborsClassifier(n_neighbors=5),\n",
    "    \"XGBoost\": XGBClassifier(),\n",
    "    \"linear SVM\": SVC(kernel='linear', random_state=random_seed),\n",
    "    \"Poly SVM\": SVC(kernel='poly', random_state=random_seed),\n",
    "    \"rbf SVM\": SVC(kernel='rbf', random_state=random_seed),\n",
    "    \"Sigmoid SVM\": SVC(kernel= 'sigmoid', random_state=random_seed),\n",
    "    \"Lasso Logistic Regression\": LogisticRegression(penalty='l1', solver='saga', multi_class='multinomial', max_iter=10000, random_state=random_seed)\n",
    "}\n",
    "\n",
    "# Train and evaluate each model\n",
    "for model_name, model in models_all.items():\n",
    "    y_pred, train_accuracy, test_accuracy, f1, rmse = f.train_and_evaluate(model, model_name, X_train, y_train, X_test, y_test)\n",
    "    results_all.append((model_name, train_accuracy, test_accuracy, f1, rmse))\n",
    "    # y_pred = model.predict(X_test)\n",
    "    # f1 = f1_score(y_test, y_pred, average='weighted')\n",
    "    # print(f\"F1 Score ({model_name}): {f1:.4f}\")\n",
    "    # print('-' * 50)\n",
    "\n",
    "results_all_df = pd.DataFrame(results_all, columns=['Model', 'train_acc', 'test_acc', 'f1_score', 'RMSE'])\n",
    "results_all_df"
   ]
  },
  {
   "cell_type": "code",
   "execution_count": null,
   "id": "9cb787a8-dc4b-49e0-82d8-9f1c021abfea",
   "metadata": {},
   "outputs": [],
   "source": [
    "# clf_all =  RandomForestClassifier(random_state=random_seed)\n",
    "# clf_all.fit(X_train, y_train)\n",
    "\n",
    "# y_pred_all_features = clf_all.predict(X_test)\n",
    "\n",
    "# cmatrix_fun(\"Rf with ALL features\", y_test, y_pred_all_features)"
   ]
  },
  {
   "cell_type": "markdown",
   "id": "40c38aea-d55c-4255-b943-28487fa67870",
   "metadata": {},
   "source": [
    "## Over Sampling"
   ]
  },
  {
   "cell_type": "code",
   "execution_count": null,
   "id": "bf461c2c-1394-49e6-87a4-6cd87ac3ee1e",
   "metadata": {},
   "outputs": [],
   "source": [
    "from imblearn.over_sampling  import RandomOverSampler\n",
    "sampling_strategy = {\n",
    "    0: 2500,\n",
    "    1: 2500,\n",
    "    2: 2500,\n",
    "    3: 2500\n",
    "    # Add more classes as needed\n",
    "}\n",
    "\n",
    "# X_train, X_test, y_train, y_test = train_test_split(X, y, test_size=0.2, random_state=random_seed)\n",
    "\n",
    "# Initialize RandomOverSampler with the specified sampling strategy\n",
    "smoteOver = RandomOverSampler(sampling_strategy=sampling_strategy)\n",
    "# smoteOver = RandomOverSampler(sampling_strategy=1)\n",
    "X_smoteOver, y_smoteOver = smoteOver.fit_resample(X_train , y_train)\n",
    "print(f' X_shape: {X_smoteOver.shape} \\n y_shape: {y_smoteOver.shape}')\n",
    "\n",
    "# Initialize StandardScaler\n",
    "# scaler_corr = StandardScaler()\n",
    "# X_train_smote = scaler_corr.fit_transform(X_smoteOver)\n",
    "# X_test_smote = scaler_corr.transform(X_test)\n",
    "\n"
   ]
  },
  {
   "cell_type": "code",
   "execution_count": null,
   "id": "42011332-86d8-4f9e-8aa8-f378943c6221",
   "metadata": {},
   "outputs": [],
   "source": [
    "results_smote = []\n",
    "models_sample = {\n",
    "    \"Random Forest\": RandomForestClassifier(random_state=random_seed),\n",
    "    \"Logistic Regression\": LogisticRegression(),\n",
    "    \"KNN (k=7)\": KNeighborsClassifier(n_neighbors=5),\n",
    "    \"XGBoost\": XGBClassifier(),\n",
    "    \"linear SVM\": SVC(kernel='linear', random_state=random_seed),\n",
    "    \"Poly SVM\": SVC(kernel='poly', random_state=random_seed),\n",
    "    \"rbf SVM\": SVC(kernel='rbf', random_state=random_seed),\n",
    "    \"Sigmoid SVM\": SVC(kernel= 'sigmoid', random_state=random_seed),\n",
    "    \"Lasso Logistic Regression\": LogisticRegression(penalty='l1', solver='saga', multi_class='multinomial', max_iter=10000, random_state=random_seed)\n",
    "}\n",
    "\n",
    "# Train and evaluate each model\n",
    "for model_name, model in models_sample.items():\n",
    "    y_pred, train_accuracy, test_accuracy, f1, rmse = f.train_and_evaluate(model, model_name, X_smoteOver, y_smoteOver, X_test, y_test)\n",
    "    results_smote.append((model_name, train_accuracy, test_accuracy, f1, rmse))\n",
    "    # y_pred = model.predict(X_test)\n",
    "    # f1 = f1_score(y_test, y_pred, average='weighted')\n",
    "    # print(f\"F1 Score ({model_name}): {f1:.4f}\")\n",
    "    # print('-' * 50)\n",
    "\n",
    "results_smote_df = pd.DataFrame(results_smote, columns=['Model', 'train_acc', 'test_acc', 'f1_score', 'RMSE'])\n",
    "results_smote_df"
   ]
  },
  {
   "cell_type": "code",
   "execution_count": null,
   "id": "83ae455a-792a-4c55-8af4-1ad297291701",
   "metadata": {},
   "outputs": [],
   "source": [
    "# clf_all =  RandomForestClassifier(random_state=random_seed)\n",
    "# clf_all.fit(X_smoteOver, y_smoteOver)\n",
    "\n",
    "# y_pred_sample = clf_all.predict(X_test)\n",
    "\n",
    "# cmatrix_fun(\"Rf with ALL features\", y_test, y_pred_sample)"
   ]
  },
  {
   "cell_type": "markdown",
   "id": "48e31062-52f5-433a-ad3f-1855c63850bb",
   "metadata": {},
   "source": [
    "## Feature selection training"
   ]
  },
  {
   "cell_type": "code",
   "execution_count": null,
   "id": "0b0a6be1-747a-437d-9465-8073fffb806a",
   "metadata": {},
   "outputs": [],
   "source": [
    "results_filter = []\n",
    "models_filter = {\n",
    "    \"Random Forest\": RandomForestClassifier(random_state=random_seed),\n",
    "    \"Logistic Regression\": LogisticRegression(),\n",
    "    \"KNN (k=7)\": KNeighborsClassifier(n_neighbors=7),\n",
    "    \"XGBoost\": XGBClassifier(),\n",
    "    \"linear SVM\": SVC(kernel='linear', random_state=random_seed),\n",
    "    \"Poly SVM\": SVC(kernel='poly', random_state=random_seed),\n",
    "    \"rbf SVM\": SVC(kernel='rbf', random_state=random_seed),\n",
    "    \"Sigmoid SVM\": SVC(kernel= 'sigmoid', random_state=random_seed),\n",
    "    \"Lasso Logistic Regression\": LogisticRegression(penalty='l1', solver='saga', multi_class='multinomial', max_iter=10000, random_state=random_seed)\n",
    "}\n",
    "\n",
    "for model_name, model in models_filter.items():\n",
    "    y_pred, train_accuracy, test_accuracy, f1, rmse = f.train_and_evaluate(model, model_name, X_train_filter, y_train, X_test_filter, y_test)\n",
    "    results_filter.append((model_name, train_accuracy, test_accuracy, f1, rmse))\n",
    "    # y_pred = model.predict(X_test)\n",
    "    # f1 = f1_score(y_test, y_pred, average='weighted')\n",
    "    # print(f\"F1 Score ({model_name}): {f1:.4f}\")\n",
    "    # print('-' * 50)\n",
    "\n",
    "results_filter_df = pd.DataFrame(results_filter, columns=['Model', 'train_acc', 'test_acc', 'f1_score', 'RMSE'])  \n",
    "results_filter_df"
   ]
  },
  {
   "cell_type": "code",
   "execution_count": null,
   "id": "7b7b21a5-81a0-44ef-bf13-256c0dc7e4d5",
   "metadata": {},
   "outputs": [],
   "source": [
    "# clf_filter =  RandomForestClassifier(random_state=random_seed)\n",
    "# clf_filter.fit(X_train_filter, y_train)\n",
    "\n",
    "# y_pred_filter = clf_filter.predict(X_test_filter)\n",
    "\n",
    "# cmatrix_fun(\"Rf with ALL features\", y_test, y_pred_filter)"
   ]
  },
  {
   "cell_type": "markdown",
   "id": "a6663765-1f4b-412e-a22e-4a5ae1b77def",
   "metadata": {},
   "source": [
    "## PCA selection"
   ]
  },
  {
   "cell_type": "code",
   "execution_count": null,
   "id": "76843aca-9b8b-4734-89f4-87a53483c835",
   "metadata": {},
   "outputs": [],
   "source": [
    "from sklearn.feature_selection import SelectFromModel\n",
    "from sklearn.decomposition import PCA\n",
    "\n",
    "\n",
    "selector = RandomForestClassifier(n_estimators=100)\n",
    "selector.fit(X_train, y_train)  \n",
    "model_pca = SelectFromModel(selector, prefit=True)\n",
    "data_selected = model_pca.transform(X_train)\n",
    "pca = PCA(n_components=10)\n",
    "X_train_pca = pca.fit_transform(data_selected)\n",
    "\n",
    "x1 = model_pca.transform(X_test)\n",
    "X_test_pca = pca.transform(x1)"
   ]
  },
  {
   "cell_type": "code",
   "execution_count": null,
   "id": "a7e4fbb3-6fa4-488d-8b4f-6df60dd431e6",
   "metadata": {},
   "outputs": [],
   "source": [
    "results_pca = []\n",
    "\n",
    "models_pca = {\n",
    "    \"Random Forest\": RandomForestClassifier(random_state=random_seed),\n",
    "    \"Logistic Regression\": LogisticRegression(),\n",
    "    \"KNN (k=7)\": KNeighborsClassifier(n_neighbors=5),\n",
    "    \"XGBoost\": XGBClassifier(),\n",
    "    \"linear SVM\": SVC(kernel='linear', random_state=random_seed),\n",
    "    \"Poly SVM\": SVC(kernel='poly', random_state=random_seed),\n",
    "    \"rbf SVM\": SVC(kernel='rbf', random_state=random_seed),\n",
    "    \"Sigmoid SVM\": SVC(kernel= 'sigmoid', random_state=random_seed),\n",
    "    \"Lasso Logistic Regression\": LogisticRegression(penalty='l1', solver='saga', multi_class='multinomial', max_iter=10000, random_state=random_seed)\n",
    "}\n",
    "\n",
    "for model_name, model in models_pca.items():\n",
    "    y_pred, train_accuracy, test_accuracy, f1, rmse = f.train_and_evaluate(model, model_name, X_train_pca, y_train, X_test_pca, y_test)\n",
    "    results_pca.append((model_name, train_accuracy, test_accuracy, f1, rmse))\n",
    "    # y_pred = model.predict(X_test)\n",
    "    # f1 = f1_score(y_test, y_pred, average='weighted')\n",
    "    # print(f\"F1 Score ({model_name}): {f1:.4f}\")\n",
    "    # print('-' * 50)\n",
    "\n",
    "results_pca_df = pd.DataFrame(results_pca, columns=['Model', 'train_acc', 'test_acc', 'f1_score', 'RMSE'])   \n",
    "results_pca_df"
   ]
  },
  {
   "cell_type": "code",
   "execution_count": null,
   "id": "58cba2ff-95b2-4def-8917-831cfd69934b",
   "metadata": {},
   "outputs": [],
   "source": [
    "# clf_pca =  RandomForestClassifier(random_state=random_seed)\n",
    "# clf_pca.fit(X_train_pca, y_train)\n",
    "\n",
    "# y_pred_pca = clf_filter.predict(X_test_pca)\n",
    "\n",
    "# cmatrix_fun(\"Rf with ALL features\", y_test, y_pred_pca)"
   ]
  },
  {
   "cell_type": "markdown",
   "id": "63b0d7ba-f699-4e65-a6e7-70b4c7a4ce30",
   "metadata": {},
   "source": [
    "## PCA on original data"
   ]
  },
  {
   "cell_type": "code",
   "execution_count": null,
   "id": "050aec35-ae2c-4572-915d-4041ce4ba2d2",
   "metadata": {},
   "outputs": [],
   "source": [
    "scaler = StandardScaler()\n",
    "X_scaled = scaler.fit_transform(X)\n",
    "\n",
    "pca = PCA(n_components= 30)  # Example: Retain 10 principal components\n",
    "X_pca = pca.fit_transform(X_scaled)"
   ]
  },
  {
   "cell_type": "code",
   "execution_count": null,
   "id": "9d649e4d-8d4e-49d0-ad39-2ac2130619f6",
   "metadata": {},
   "outputs": [],
   "source": [
    "# scatter = plt.scatter(X_pca[:, 10], X_pca[:, 18], c=y, cmap='viridis', edgecolor='k', s=100)\n",
    "\n",
    "# # Create a legend with a color for each unique value in y\n",
    "# handles = [plt.Line2D([0,0],[0,0],color=scatter.cmap(scatter.norm(label))) for label in np.unique(y)]\n",
    "# class_labels = ['normal', 'mild', 'moderate', 'severe']\n",
    "# plt.legend(handles, class_labels, title='Target', bbox_to_anchor=(1.05, 1))\n",
    "\n",
    "# # Set plot title and axis labels\n",
    "# plt.title('PCA Scatter Plot')\n",
    "# plt.xlabel('PCA Component 2')\n",
    "# plt.ylabel('PCA Component 4')\n",
    "\n",
    "# # Add a colorbar with a label\n",
    "# cbar = plt.colorbar(scatter)\n",
    "# cbar.set_label('Target')\n",
    "\n",
    "# # Adjust figure size and layout\n",
    "# plt.figure(figsize=(20, 20))\n",
    "# plt.tight_layout()\n",
    "# plt.savefig('important_img/pca.png', format='png', dpi=300, bbox_inches='tight')\n",
    "# # Show the plot\n",
    "# plt.show()\n"
   ]
  },
  {
   "cell_type": "code",
   "execution_count": null,
   "id": "70986ed1-eb66-4798-88ec-ca673012f209",
   "metadata": {},
   "outputs": [],
   "source": [
    "X_train_pca2, X_test_pca2, y_train, y_test = train_test_split(X_pca, y, test_size=0.2, random_state=random_seed)\n",
    "\n",
    "results_pca2 = []\n",
    "models_pca2 = {\n",
    "    \"Random Forest\": RandomForestClassifier(random_state=random_seed),\n",
    "    \"Logistic Regression\": LogisticRegression(),\n",
    "    \"KNN (k=7)\": KNeighborsClassifier(n_neighbors=7),\n",
    "    \"XGBoost\": XGBClassifier(),\n",
    "    \"linear SVM\": SVC(kernel='linear', random_state=random_seed),\n",
    "    \"Poly SVM\": SVC(kernel='poly', random_state=random_seed),\n",
    "    \"rbf SVM\": SVC(kernel='rbf', random_state=random_seed),\n",
    "    \"Sigmoid SVM\": SVC(kernel= 'sigmoid', random_state=random_seed),\n",
    "    \"Lasso Logistic Regression\": LogisticRegression(penalty='l1', solver='saga', multi_class='multinomial', max_iter=10000, random_state=random_seed)\n",
    "}\n",
    "\n",
    "for model_name, model in models_pca2.items():\n",
    "    train_and_evaluate(model, model_name, X_train_pca2, y_train, X_test_pca2, y_test)\n",
    "    y_pred = model.predict(X_test_pca2)\n",
    "    f1 = f1_score(y_test, y_pred, average='weighted')\n",
    "    print(f\"F1 Score ({model_name}): {f1:.4f}\")\n",
    "    print('-' * 50)\n",
    "\n",
    "for model_name, model in models_pca.items():\n",
    "    y_pred, train_accuracy, test_accuracy, f1, rmse = f.train_and_evaluate(model, model_name, X_train_pca2, y_train, X_test_pca2, y_test)\n",
    "    results_pca2.append((model_name, train_accuracy, test_accuracy, f1, rmse))\n",
    "    # y_pred = model.predict(X_test)\n",
    "    # f1 = f1_score(y_test, y_pred, average='weighted')\n",
    "    # print(f\"F1 Score ({model_name}): {f1:.4f}\")\n",
    "    # print('-' * 50)\n",
    "\n",
    "results_pca2_df = pd.DataFrame(results_pca2, columns=['Model', 'train_acc', 'test_acc', 'f1_score', 'RMSE'])   \n",
    "results_pca2_df"
   ]
  },
  {
   "cell_type": "code",
   "execution_count": null,
   "id": "966e1cea-95d3-4f52-bda1-f2bb9436a922",
   "metadata": {},
   "outputs": [],
   "source": []
  },
  {
   "cell_type": "code",
   "execution_count": null,
   "id": "ea4fff23-c3b9-4edb-9b3e-a25669b6c916",
   "metadata": {},
   "outputs": [],
   "source": []
  },
  {
   "cell_type": "code",
   "execution_count": null,
   "id": "046d0c49-c38b-4e60-97cb-dbe8a9d47179",
   "metadata": {},
   "outputs": [],
   "source": []
  },
  {
   "cell_type": "code",
   "execution_count": null,
   "id": "eb7cce94-c19b-4657-b241-902774360fc0",
   "metadata": {},
   "outputs": [],
   "source": []
  },
  {
   "cell_type": "code",
   "execution_count": null,
   "id": "cab13d92-6875-40ab-813c-7d8092ce5cc2",
   "metadata": {},
   "outputs": [],
   "source": []
  },
  {
   "cell_type": "code",
   "execution_count": null,
   "id": "6b5457cf-65dd-4cc4-a8d9-35ca8b31dbc0",
   "metadata": {},
   "outputs": [],
   "source": []
  },
  {
   "cell_type": "code",
   "execution_count": null,
   "id": "10fe6787-0418-49cf-8c84-eb9f353e067c",
   "metadata": {},
   "outputs": [],
   "source": []
  },
  {
   "cell_type": "code",
   "execution_count": null,
   "id": "0410cf38-b735-4eda-99f3-6608e00a797e",
   "metadata": {},
   "outputs": [],
   "source": []
  },
  {
   "cell_type": "code",
   "execution_count": null,
   "id": "032adb04-4e7f-44bf-bcc3-79f69e4f1e82",
   "metadata": {},
   "outputs": [],
   "source": []
  },
  {
   "cell_type": "code",
   "execution_count": null,
   "id": "c899a3ef-634b-4d93-a2ad-b76cac1c79d5",
   "metadata": {},
   "outputs": [],
   "source": [
    "# import matplotlib.pyplot as plt\n",
    "# import numpy as np\n",
    "\n",
    "# # Example data (replace with your actual data)\n",
    "# model1_train_acc =  [0.1, 0.1, 0.1]  # Training phase accuracies for model 1\n",
    "# # model1_val_acc = [0.78, 0.82, 0.80]    # Validation phase accuracies for model 1\n",
    "# model1_test_acc = [0.71, 0.77, 0.82]   # Test phase accuracies for model 1\n",
    "\n",
    "# model2_train_acc = [0.1, 0.1, 0.1]  # Training phase accuracies for model 2\n",
    "# # model2_val_acc = [0.72, 0.76, 0.74]    # Validation phase accuracies for model 2\n",
    "# model2_test_acc =    [0.82, 0.94, 0.9412]  # Test phase accuracies for model 2\n",
    "\n",
    "# phases = ['All features', 'Feature Selection', 'Smote upsampling']\n",
    "# bar_width = 0.3\n",
    "# index = np.arange(len(phases))\n",
    "\n",
    "# # Plotting training accuracies\n",
    "# plt.figure(figsize=(10, 6))\n",
    "# plt.bar(index - bar_width/2, model1_train_acc, bar_width, label='RF (Train)')\n",
    "# plt.bar(index + bar_width/2, model2_train_acc, bar_width, label='XGBoost (Train)')\n",
    "\n",
    "# # # Plotting validation accuracies\n",
    "# # plt.bar(index - bar_width/2, model1_val_acc, bar_width, label='Model 1 (Validation)', alpha=0.5)\n",
    "# # plt.bar(index + bar_width/2, model2_val_acc, bar_width, label='Model 2 (Validation)', alpha=0.5)\n",
    "\n",
    "# # Plotting test accuracies\n",
    "# plt.bar(index - bar_width/2, model1_test_acc, bar_width, label='RF (Test)', alpha=0.3)\n",
    "# plt.bar(index + bar_width/2, model2_test_acc, bar_width, label='XGBoost (Test)', alpha=0.3)\n",
    "\n",
    "# plt.xlabel('Phases')\n",
    "# plt.ylabel('Accuracy')\n",
    "# plt.title('Accuracies of RF Model and XGBoost Model across Phases')\n",
    "# plt.xticks(index, phases)\n",
    "# plt.legend()\n",
    "# plt.tight_layout()\n",
    "\n",
    "# plt.show()\n"
   ]
  },
  {
   "cell_type": "code",
   "execution_count": null,
   "id": "2b168731-779e-47d2-aedc-3457d7478b0b",
   "metadata": {},
   "outputs": [],
   "source": [
    "# import matplotlib.pyplot as plt\n",
    "# import numpy as np\n",
    "\n",
    "# # Example data (replace with your actual data)\n",
    "# model1_train_acc = [0.1, 0.1, 0.1]   # Training phase accuracies for model 1\n",
    "# model1_test_acc = [0.71, 0.77, 0.82]  # Test phase accuracies for model 1\n",
    "\n",
    "# model2_train_acc = [0.1, 0.1, 0.1]    # Training phase accuracies for model 2\n",
    "# model2_test_acc = [0.82, 0.94, 0.9412] # Test phase accuracies for model 2\n",
    "\n",
    "# phases = ['All features', 'Feature Selection', 'Smote upsampling']\n",
    "# index = np.arange(len(phases))\n",
    "\n",
    "# # Plotting training accuracies as curves\n",
    "# plt.figure(figsize=(10, 6))\n",
    "# plt.plot(index, model1_train_acc, marker='o', linestyle='-', color='b', label='RF (Train)')\n",
    "# plt.plot(index, model2_train_acc, marker='o', linestyle='-', color='g', label='XGBoost (Train)')\n",
    "\n",
    "# # Plotting test accuracies as curves\n",
    "# plt.plot(index, model1_test_acc, marker='o', linestyle='-', color='b', alpha=0.5, label='RF (Test)')\n",
    "# plt.plot(index, model2_test_acc, marker='o', linestyle='-', color='g', alpha=0.5, label='XGBoost (Test)')\n",
    "\n",
    "# plt.xlabel('Phases')\n",
    "# plt.ylabel('Accuracy')\n",
    "# plt.title('Accuracies of RF Model and XGBoost Model across Phases')\n",
    "# plt.xticks(index, phases)\n",
    "# plt.legend()\n",
    "# plt.grid(True)\n",
    "# plt.tight_layout()\n",
    "\n",
    "# plt.show()\n"
   ]
  },
  {
   "cell_type": "code",
   "execution_count": null,
   "id": "cd2e5af6-c9ae-4ae9-b412-35308f52a5f9",
   "metadata": {},
   "outputs": [],
   "source": [
    "# import matplotlib.pyplot as plt\n",
    "# import numpy as np\n",
    "\n",
    "# # Example data (replace with your actual data)\n",
    "# # model1_train_acc = [0.1, 0.1, 0.1]   # Training phase accuracies for model 1\n",
    "# model1_test_acc = [0.71, 0.77, 0.82]  # Test phase accuracies for model 1\n",
    "\n",
    "# model2_train_acc = [0.1, 0.1, 0.1]    # Training phase accuracies for model 2\n",
    "# # model2_test_acc = [0.82, 0.94, 0.9412] # Test phase accuracies for model 2\n",
    "\n",
    "# phases = ['All features', 'Feature Selection', 'Smote upsampling']\n",
    "# index = np.arange(len(phases))\n",
    "\n",
    "# # Calculate differences between accuracies\n",
    "# train_diff = np.abs(np.array(model1_train_acc) - np.array(model2_train_acc))\n",
    "# test_diff = np.abs(np.array(model1_test_acc) - np.array(model2_test_acc))\n",
    "\n",
    "# # Plotting training accuracies as curves with differences\n",
    "# plt.figure(figsize=(10, 6))\n",
    "\n",
    "# # Plotting training accuracies\n",
    "# # plt.plot(index, model1_train_acc, marker='o', linestyle='-', color='b', label='RF (Train)')\n",
    "# # plt.plot(index, model2_train_acc, marker='o', linestyle='-', color='g', label='XGBoost (Train)')\n",
    "\n",
    "# # Highlighting differences with filled area plot\n",
    "# plt.fill_between(index, model1_train_acc, model2_train_acc,  alpha=0.1)\n",
    "\n",
    "# # Plotting test accuracies as curves with differences\n",
    "# plt.plot(index, model1_test_acc, marker='o', linestyle='-', color='b', alpha=0.5, label='RF (Test)')\n",
    "# plt.plot(index, model2_test_acc, marker='o', linestyle='-', color='g', alpha=0.5, label='XGBoost (Test)')\n",
    "\n",
    "# # Highlighting differences with filled area plot\n",
    "# # plt.fill_between(index, model1_test_acc, model2_test_acc, color='gray', alpha=0.1)\n",
    "\n",
    "# plt.xlabel('Phases')\n",
    "# plt.ylabel('Accuracy')\n",
    "# plt.title('Accuracies of RF Model and XGBoost Model across Phases')\n",
    "# plt.xticks(index, phases)\n",
    "# plt.legend()\n",
    "# plt.grid(True)\n",
    "# plt.tight_layout()\n",
    "\n",
    "# plt.show()\n"
   ]
  },
  {
   "cell_type": "code",
   "execution_count": null,
   "id": "2e006e7e-8c88-44c5-b8cf-76328d0c9d20",
   "metadata": {},
   "outputs": [],
   "source": []
  },
  {
   "cell_type": "code",
   "execution_count": null,
   "id": "08e6b330-9108-4a27-bdb2-c9902f00df3e",
   "metadata": {},
   "outputs": [],
   "source": []
  },
  {
   "cell_type": "code",
   "execution_count": null,
   "id": "7d1dae4f-a42b-4916-a7a6-d5df729a966b",
   "metadata": {},
   "outputs": [],
   "source": []
  },
  {
   "cell_type": "code",
   "execution_count": null,
   "id": "9268f2c8-0877-4817-9868-0b04be74f933",
   "metadata": {},
   "outputs": [],
   "source": []
  },
  {
   "cell_type": "code",
   "execution_count": null,
   "id": "05a16e48-ede1-428a-a121-40c2c304e373",
   "metadata": {},
   "outputs": [],
   "source": []
  },
  {
   "cell_type": "code",
   "execution_count": null,
   "id": "ad7236ba-67da-431a-8fe4-e3d7a4e5af42",
   "metadata": {},
   "outputs": [],
   "source": []
  },
  {
   "cell_type": "code",
   "execution_count": null,
   "id": "d44a312c-ea04-4bf1-bf63-02e21aeef2df",
   "metadata": {},
   "outputs": [],
   "source": []
  },
  {
   "cell_type": "code",
   "execution_count": null,
   "id": "384cb831-e491-45b8-8e7e-a755b7e400fa",
   "metadata": {},
   "outputs": [],
   "source": []
  }
 ],
 "metadata": {
  "kernelspec": {
   "display_name": "Python 3 (ipykernel)",
   "language": "python",
   "name": "python3"
  },
  "language_info": {
   "codemirror_mode": {
    "name": "ipython",
    "version": 3
   },
   "file_extension": ".py",
   "mimetype": "text/x-python",
   "name": "python",
   "nbconvert_exporter": "python",
   "pygments_lexer": "ipython3",
   "version": "3.9.13"
  }
 },
 "nbformat": 4,
 "nbformat_minor": 5
}
