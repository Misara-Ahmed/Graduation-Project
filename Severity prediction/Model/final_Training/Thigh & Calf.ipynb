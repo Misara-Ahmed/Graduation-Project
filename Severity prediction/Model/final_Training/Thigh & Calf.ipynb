{
 "cells": [
  {
   "cell_type": "code",
   "execution_count": 22,
   "id": "9d138420-16ea-4bd5-828c-db9899b3601c",
   "metadata": {},
   "outputs": [],
   "source": [
    "import pandas as pd\n",
    "import matplotlib.pyplot as plt\n",
    "import numpy as np\n",
    "import matplotlib.pyplot as plt\n",
    "import seaborn as sns\n",
    "\n",
    "from sklearn.preprocessing import LabelEncoder, StandardScaler\n",
    "from sklearn.utils import shuffle\n",
    "from sklearn.model_selection import train_test_split\n",
    "\n",
    "from sklearn.metrics import classification_report, accuracy_score, precision_score, recall_score, f1_score, confusion_matrix, classification_report\n",
    "from sklearn.feature_selection import SelectKBest, f_classif, mutual_info_classif\n",
    "from sklearn.ensemble import RandomForestClassifier\n",
    "from sklearn.linear_model import LogisticRegression\n",
    "from sklearn.neighbors import KNeighborsClassifier\n",
    "from xgboost import XGBClassifier\n",
    "from sklearn.svm import SVC\n",
    "\n",
    "import warnings\n",
    "warnings.filterwarnings('ignore')\n",
    "\n",
    "from sklearn import metrics\n",
    "\n",
    "import random\n",
    "random_seed = 1234\n",
    "random.seed(random_seed)\n",
    "np.random.seed(random_seed)"
   ]
  },
  {
   "cell_type": "code",
   "execution_count": 23,
   "id": "518fb49f-74ca-4210-a9f2-e81b070ffdbf",
   "metadata": {},
   "outputs": [],
   "source": [
    "def cmatrix_fun(model_name, actual, predicted):\n",
    "    # Compute confusion matrix\n",
    "    cm = metrics.confusion_matrix(actual, predicted)\n",
    "    \n",
    "    # Normalize confusion matrix\n",
    "    cm_normalized = (cm.astype('float') / cm.sum(axis=1)[:, np.newaxis]) * 100\n",
    "    \n",
    "    # Plot the normalized confusion matrix\n",
    "    fig, ax = plt.subplots(figsize=(6, 6))\n",
    "    class_labels = ['normal', 'mild', 'moderate', 'severe']\n",
    "    im = ax.imshow(cm_normalized, interpolation='nearest', cmap='Blues')\n",
    "    \n",
    "    # Add colorbar\n",
    "    cbar = ax.figure.colorbar(im, ax=ax)\n",
    "    cbar.ax.set_ylabel('Percentage', rotation=-90, va=\"bottom\")\n",
    "    \n",
    "    # Show all ticks and label them with the respective list entries\n",
    "    ax.set(xticks=np.arange(cm.shape[1]),\n",
    "           yticks=np.arange(cm.shape[0]),\n",
    "           xticklabels=class_labels, yticklabels=class_labels,\n",
    "           title=model_name,\n",
    "           ylabel='True label',\n",
    "           xlabel='Predicted label')\n",
    "    \n",
    "    # Rotate the tick labels and set their alignment.\n",
    "    plt.setp(ax.get_xticklabels(), ha=\"right\",\n",
    "             rotation_mode=\"anchor\")\n",
    "    \n",
    "    # Loop over data dimensions and create text annotations.\n",
    "    fmt = '.2f'  # Format for the percentages\n",
    "    thresh = cm_normalized.max() / 2.\n",
    "    for i in range(cm.shape[0]):\n",
    "        for j in range(cm.shape[1]):\n",
    "            ax.text(j, i, format(cm_normalized[i, j], fmt),\n",
    "                    ha=\"center\", va=\"center\",\n",
    "                    color=\"white\" if cm_normalized[i, j] > thresh else \"black\")\n",
    "    \n",
    "    plt.show()"
   ]
  },
  {
   "cell_type": "code",
   "execution_count": 24,
   "id": "f649ab4f-0ad2-4776-8ad4-81e88056ed6b",
   "metadata": {},
   "outputs": [],
   "source": [
    "def read_csv_file(file_path):\n",
    "    try:\n",
    "        return pd.read_csv(file_path, encoding='utf-8')\n",
    "    except UnicodeDecodeError:\n",
    "        return pd.read_csv(file_path, encoding='latin1')\n",
    "\n",
    "\n",
    "def correlation(dataset, threshold):\n",
    "    col_corr = set()  # Set of all the names of correlated columns\n",
    "    corr_matrix = dataset.corr()\n",
    "    for i in range(len(corr_matrix.columns)):\n",
    "        for j in range(i):\n",
    "            if abs(corr_matrix.iloc[i, j]) > threshold: # we are interested in absolute coeff value\n",
    "                colname = corr_matrix.columns[i]  # getting the name of column\n",
    "                col_corr.add(colname)\n",
    "    return col_corr\n",
    "\n",
    "def Encoding(df):\n",
    "    # Create the ncoder variable\n",
    "    encoder = LabelEncoder()\n",
    "    cat_df = df.select_dtypes(include=['object'])\n",
    "    for i in cat_df:\n",
    "        # fit the categoral feature to the encoding method\n",
    "        df[i] = encoder.fit_transform(df[i]) \n",
    "    return df\n",
    "\n",
    "def MissingValueHandling(merged_df):\n",
    "    null_col =  dict(merged_df.isnull().sum()) \n",
    "    missing_data = []\n",
    "    for key, value in null_col.items():\n",
    "        if (value != 0):\n",
    "            missing_data.append(key) \n",
    "    print(\"Missing Values Column:\", null_col)\n",
    "    for i in missing_data:\n",
    "        fill_list = merged_df[i].dropna().tolist()\n",
    "        merged_df[i] = merged_df[i].fillna(pd.Series(np.random.choice(fill_list , size = len(merged_df.index))))\n",
    "    return merged_df\n",
    "    \n",
    "# Function to train and evaluate models\n",
    "def train_and_evaluate(model, model_name, X_train_scaled, y_train, X_test_scaled, y_test):\n",
    "    model.fit(X_train_scaled, y_train)\n",
    "    train_accuracy = model.score(X_train_scaled, y_train) * 100\n",
    "    test_accuracy = model.score(X_test_scaled, y_test) * 100\n",
    "    # y_pred = model.predict(X_test_scaled)\n",
    "    # accuracy = accuracy_score(y_test, y_pred)\n",
    "    \n",
    "    print(f\"{model_name} Training Accuracy: {train_accuracy:.2f}\")\n",
    "    print(f\"{model_name} Testing Accuracy: {test_accuracy:.2f}\")\n",
    "    # print(f\"{model_name} Model Accuracy: {accuracy:.2f}\")\n",
    "    \n",
    "\n",
    "\n",
    "def evaluate_classification_model(model, X_test, y_test):\n",
    "    # Make predictions on the test set\n",
    "    y_pred = model.predict(X_test)\n",
    "\n",
    "    # Compute evaluation metrics\n",
    "    accuracy = accuracy_score(y_test, y_pred)\n",
    "    precision = precision_score(y_test, y_pred, average='weighted')\n",
    "    recall = recall_score(y_test, y_pred, average='weighted')\n",
    "    f1 = f1_score(y_test, y_pred, average='weighted')\n",
    "    cm = confusion_matrix(y_test, y_pred)\n",
    "\n",
    "    # Print the evaluation metrics\n",
    "    print(\"Precision:\", precision)\n",
    "    print(\"Recall:\", recall)\n",
    "    print(\"F1-score:\", f1)\n",
    "\n",
    "    # Plot the confusion matrix\n",
    "    labels = np.unique(y_test)\n",
    "    sns.heatmap(cm, annot=True, fmt='d', cmap='Blues', xticklabels=labels, yticklabels=labels)\n",
    "    plt.title('Confusion Matrix')\n",
    "    plt.xlabel('Predicted Label')\n",
    "    plt.ylabel('True Label')\n",
    "    plt.show()\n"
   ]
  },
  {
   "cell_type": "markdown",
   "id": "2b1e7e1e-a27c-4614-97d6-68fd013af260",
   "metadata": {},
   "source": [
    "## File Paths:"
   ]
  },
  {
   "cell_type": "code",
   "execution_count": 25,
   "id": "e9c91be2-4040-409a-87f8-af2e5c2ed48a",
   "metadata": {},
   "outputs": [
    {
     "data": {
      "text/html": [
       "<div>\n",
       "<style scoped>\n",
       "    .dataframe tbody tr th:only-of-type {\n",
       "        vertical-align: middle;\n",
       "    }\n",
       "\n",
       "    .dataframe tbody tr th {\n",
       "        vertical-align: top;\n",
       "    }\n",
       "\n",
       "    .dataframe thead th {\n",
       "        text-align: right;\n",
       "    }\n",
       "</style>\n",
       "<table border=\"1\" class=\"dataframe\">\n",
       "  <thead>\n",
       "    <tr style=\"text-align: right;\">\n",
       "      <th></th>\n",
       "      <th>patient_id</th>\n",
       "      <th>Omega_X_T</th>\n",
       "      <th>Omega_Y_T</th>\n",
       "      <th>Omega_Z_T</th>\n",
       "      <th>powerX_ 1_T</th>\n",
       "      <th>powerX_ 2_T</th>\n",
       "      <th>powerX_ 3_T</th>\n",
       "      <th>powerX_ 4_T</th>\n",
       "      <th>powerX_ 5_T</th>\n",
       "      <th>powerX_ 6_T</th>\n",
       "      <th>...</th>\n",
       "      <th>powerY_ 3_C</th>\n",
       "      <th>powerY_ 4_C</th>\n",
       "      <th>powerY_ 5_C</th>\n",
       "      <th>powerY_ 6_C</th>\n",
       "      <th>powerZ_ 1_C</th>\n",
       "      <th>powerZ_ 2_C</th>\n",
       "      <th>powerZ_ 3_C</th>\n",
       "      <th>powerZ_ 4_C</th>\n",
       "      <th>powerZ_ 5_C</th>\n",
       "      <th>powerZ_ 6_C</th>\n",
       "    </tr>\n",
       "  </thead>\n",
       "  <tbody>\n",
       "    <tr>\n",
       "      <th>0</th>\n",
       "      <td>1</td>\n",
       "      <td>0.277935</td>\n",
       "      <td>0.463224</td>\n",
       "      <td>0.277935</td>\n",
       "      <td>180633.500100</td>\n",
       "      <td>2715.300595</td>\n",
       "      <td>1142.922594</td>\n",
       "      <td>2896.787766</td>\n",
       "      <td>4549.337418</td>\n",
       "      <td>1503.340223</td>\n",
       "      <td>...</td>\n",
       "      <td>1040.211971</td>\n",
       "      <td>73.481629</td>\n",
       "      <td>141.905164</td>\n",
       "      <td>10.216969</td>\n",
       "      <td>1.571939e+06</td>\n",
       "      <td>607.747259</td>\n",
       "      <td>533.161447</td>\n",
       "      <td>2633.837158</td>\n",
       "      <td>3055.918834</td>\n",
       "      <td>173.842186</td>\n",
       "    </tr>\n",
       "    <tr>\n",
       "      <th>1</th>\n",
       "      <td>1</td>\n",
       "      <td>0.167873</td>\n",
       "      <td>0.167873</td>\n",
       "      <td>0.167873</td>\n",
       "      <td>673479.552964</td>\n",
       "      <td>10462.490523</td>\n",
       "      <td>3510.894302</td>\n",
       "      <td>115.132022</td>\n",
       "      <td>7291.119140</td>\n",
       "      <td>757.157160</td>\n",
       "      <td>...</td>\n",
       "      <td>1964.301772</td>\n",
       "      <td>816.673624</td>\n",
       "      <td>404.261715</td>\n",
       "      <td>228.916362</td>\n",
       "      <td>2.954191e+06</td>\n",
       "      <td>109.416956</td>\n",
       "      <td>2606.851615</td>\n",
       "      <td>10.729508</td>\n",
       "      <td>5185.243035</td>\n",
       "      <td>25.271313</td>\n",
       "    </tr>\n",
       "    <tr>\n",
       "      <th>2</th>\n",
       "      <td>1</td>\n",
       "      <td>0.195043</td>\n",
       "      <td>0.390085</td>\n",
       "      <td>0.195043</td>\n",
       "      <td>152588.671876</td>\n",
       "      <td>3723.025206</td>\n",
       "      <td>859.737097</td>\n",
       "      <td>18048.560908</td>\n",
       "      <td>6436.578862</td>\n",
       "      <td>1714.642390</td>\n",
       "      <td>...</td>\n",
       "      <td>4199.071301</td>\n",
       "      <td>3488.940407</td>\n",
       "      <td>113.009892</td>\n",
       "      <td>760.522046</td>\n",
       "      <td>1.902485e+06</td>\n",
       "      <td>860.193745</td>\n",
       "      <td>304.164403</td>\n",
       "      <td>12119.034787</td>\n",
       "      <td>1532.932283</td>\n",
       "      <td>537.452090</td>\n",
       "    </tr>\n",
       "    <tr>\n",
       "      <th>3</th>\n",
       "      <td>10</td>\n",
       "      <td>0.326657</td>\n",
       "      <td>0.217771</td>\n",
       "      <td>0.217771</td>\n",
       "      <td>7734.323025</td>\n",
       "      <td>132.404792</td>\n",
       "      <td>2385.283110</td>\n",
       "      <td>1408.839371</td>\n",
       "      <td>2654.345195</td>\n",
       "      <td>1.621347</td>\n",
       "      <td>...</td>\n",
       "      <td>753.474303</td>\n",
       "      <td>535.838457</td>\n",
       "      <td>105.252777</td>\n",
       "      <td>182.907451</td>\n",
       "      <td>9.738762e+05</td>\n",
       "      <td>2350.306948</td>\n",
       "      <td>2954.338341</td>\n",
       "      <td>2614.545432</td>\n",
       "      <td>1978.834077</td>\n",
       "      <td>105.690189</td>\n",
       "    </tr>\n",
       "    <tr>\n",
       "      <th>4</th>\n",
       "      <td>10</td>\n",
       "      <td>0.855208</td>\n",
       "      <td>0.285069</td>\n",
       "      <td>0.570139</td>\n",
       "      <td>198751.014225</td>\n",
       "      <td>13694.723098</td>\n",
       "      <td>208.925145</td>\n",
       "      <td>2902.351579</td>\n",
       "      <td>3592.869586</td>\n",
       "      <td>716.090973</td>\n",
       "      <td>...</td>\n",
       "      <td>442.169719</td>\n",
       "      <td>431.027909</td>\n",
       "      <td>176.619568</td>\n",
       "      <td>75.768927</td>\n",
       "      <td>1.519685e+06</td>\n",
       "      <td>72.975955</td>\n",
       "      <td>462.167270</td>\n",
       "      <td>1289.025156</td>\n",
       "      <td>711.321877</td>\n",
       "      <td>26.048736</td>\n",
       "    </tr>\n",
       "  </tbody>\n",
       "</table>\n",
       "<p>5 rows × 43 columns</p>\n",
       "</div>"
      ],
      "text/plain": [
       "   patient_id  Omega_X_T  Omega_Y_T  Omega_Z_T    powerX_ 1_T   powerX_ 2_T  \\\n",
       "0           1   0.277935   0.463224   0.277935  180633.500100   2715.300595   \n",
       "1           1   0.167873   0.167873   0.167873  673479.552964  10462.490523   \n",
       "2           1   0.195043   0.390085   0.195043  152588.671876   3723.025206   \n",
       "3          10   0.326657   0.217771   0.217771    7734.323025    132.404792   \n",
       "4          10   0.855208   0.285069   0.570139  198751.014225  13694.723098   \n",
       "\n",
       "   powerX_ 3_T   powerX_ 4_T  powerX_ 5_T  powerX_ 6_T  ...  powerY_ 3_C  \\\n",
       "0  1142.922594   2896.787766  4549.337418  1503.340223  ...  1040.211971   \n",
       "1  3510.894302    115.132022  7291.119140   757.157160  ...  1964.301772   \n",
       "2   859.737097  18048.560908  6436.578862  1714.642390  ...  4199.071301   \n",
       "3  2385.283110   1408.839371  2654.345195     1.621347  ...   753.474303   \n",
       "4   208.925145   2902.351579  3592.869586   716.090973  ...   442.169719   \n",
       "\n",
       "   powerY_ 4_C  powerY_ 5_C  powerY_ 6_C   powerZ_ 1_C  powerZ_ 2_C  \\\n",
       "0    73.481629   141.905164    10.216969  1.571939e+06   607.747259   \n",
       "1   816.673624   404.261715   228.916362  2.954191e+06   109.416956   \n",
       "2  3488.940407   113.009892   760.522046  1.902485e+06   860.193745   \n",
       "3   535.838457   105.252777   182.907451  9.738762e+05  2350.306948   \n",
       "4   431.027909   176.619568    75.768927  1.519685e+06    72.975955   \n",
       "\n",
       "   powerZ_ 3_C   powerZ_ 4_C  powerZ_ 5_C  powerZ_ 6_C  \n",
       "0   533.161447   2633.837158  3055.918834   173.842186  \n",
       "1  2606.851615     10.729508  5185.243035    25.271313  \n",
       "2   304.164403  12119.034787  1532.932283   537.452090  \n",
       "3  2954.338341   2614.545432  1978.834077   105.690189  \n",
       "4   462.167270   1289.025156   711.321877    26.048736  \n",
       "\n",
       "[5 rows x 43 columns]"
      ]
     },
     "execution_count": 25,
     "metadata": {},
     "output_type": "execute_result"
    }
   ],
   "source": [
    "womac_path = \"../csv/data_training/classify.csv\"\n",
    "features_path = \"../csv/data_training/one-domain-only/freq.csv\"\n",
    "\n",
    "wdf = read_csv_file(womac_path)\n",
    "fdf = read_csv_file(features_path)\n",
    "\n",
    "fdf.columns = fdf.columns.str.strip()\n",
    "wdf.columns = wdf.columns.str.strip()\n",
    "\n",
    "assert 'patient_id' in fdf.columns, \"'patient_id' not found in fdf columns\"\n",
    "assert 'patient_id' in wdf.columns, \"'patient_id' not found in wdf columns\"\n",
    "\n",
    "fdf.head()\n",
    "# wdf.head()"
   ]
  },
  {
   "cell_type": "markdown",
   "id": "7f02c845-bc9f-4f97-aa18-ff1efa37be19",
   "metadata": {},
   "source": [
    "# Preprocessing:"
   ]
  },
  {
   "cell_type": "markdown",
   "id": "0da73c5b-7492-449d-b737-48a454c36400",
   "metadata": {},
   "source": [
    "## Merging two Dataframes"
   ]
  },
  {
   "cell_type": "code",
   "execution_count": 26,
   "id": "46a79e1b-98da-4c9d-8b45-5d017ed31757",
   "metadata": {},
   "outputs": [
    {
     "name": "stdout",
     "output_type": "stream",
     "text": [
      "trials: {11: 5, 17: 4, 18: 4, 23: 4, 22: 4, 21: 4, 20: 4, 7: 4, 8: 4, 6: 4, 16: 4, 15: 4, 14: 4, 13: 4, 12: 4, 5: 3, 1: 3, 2: 3, 3: 3, 10: 3, 19: 3, 9: 3, 4: 2}\n",
      "features df shape: (84, 43)\n",
      "all df shape: (84, 7)\n"
     ]
    },
    {
     "data": {
      "text/plain": [
       "(84, 49)"
      ]
     },
     "execution_count": 26,
     "metadata": {},
     "output_type": "execute_result"
    }
   ],
   "source": [
    "# Get the count of trials per patient\n",
    "trials_counts = fdf['patient_id'].value_counts().to_dict()\n",
    "print(\"trials:\", trials_counts)\n",
    "# Expand the anthropometric data\n",
    "expanded_wdf = wdf.loc[\n",
    "    wdf.index.repeat(wdf['patient_id'].map(trials_counts))\n",
    "].reset_index(drop=True)\n",
    "print(\"features df shape:\", fdf.shape)\n",
    "print(\"all df shape:\", expanded_wdf.shape)\n",
    "\n",
    "merged_df = pd.merge(fdf, wdf, on='patient_id', how='left')\n",
    "merged_df.shape"
   ]
  },
  {
   "cell_type": "markdown",
   "id": "c7f3d598-ecea-4721-8001-1fdd9f55da84",
   "metadata": {},
   "source": [
    "## Missing Data Handling"
   ]
  },
  {
   "cell_type": "code",
   "execution_count": 27,
   "id": "e06dc0ba-1734-474c-a7f0-2c4cb04d89df",
   "metadata": {},
   "outputs": [
    {
     "name": "stdout",
     "output_type": "stream",
     "text": [
      "Missing Values Column: {'patient_id': 0, 'Omega_X_T': 0, 'Omega_Y_T': 0, 'Omega_Z_T': 0, 'powerX_ 1_T': 0, 'powerX_ 2_T': 0, 'powerX_ 3_T': 0, 'powerX_ 4_T': 0, 'powerX_ 5_T': 0, 'powerX_ 6_T': 0, 'powerY_ 1_T': 0, 'powerY_ 2_T': 0, 'powerY_ 3_T': 0, 'powerY_ 4_T': 0, 'powerY_ 5_T': 0, 'powerY_ 6_T': 0, 'powerZ_ 1_T': 0, 'powerZ_ 2_T': 0, 'powerZ_ 3_T': 0, 'powerZ_ 4_T': 0, 'powerZ_ 5_T': 0, 'powerZ_ 6_T': 0, 'Omega_X_C': 0, 'Omega_Y_C': 0, 'Omega_Z_C': 0, 'powerX_ 1_C': 0, 'powerX_ 2_C': 0, 'powerX_ 3_C': 0, 'powerX_ 4_C': 0, 'powerX_ 5_C': 0, 'powerX_ 6_C': 0, 'powerY_ 1_C': 0, 'powerY_ 2_T.1': 0, 'powerY_ 3_C': 0, 'powerY_ 4_C': 0, 'powerY_ 5_C': 0, 'powerY_ 6_C': 0, 'powerZ_ 1_C': 0, 'powerZ_ 2_C': 0, 'powerZ_ 3_C': 0, 'powerZ_ 4_C': 0, 'powerZ_ 5_C': 0, 'powerZ_ 6_C': 0, 'name': 0, 'gender': 0, 'leg': 0, 'age': 3, 'BMI': 0, 'severity': 0}\n",
      "Missing values: [0 0 0 0 0 0 0 0 0 0 0 0 0 0 0 0 0 0 0 0 0 0 0 0 0 0 0 0 0 0 0 0 0 0 0 0 0\n",
      " 0 0 0 0 0 0 0 0 0 0 0 0]\n"
     ]
    }
   ],
   "source": [
    "merged_df = MissingValueHandling(merged_df)\n",
    "    \n",
    "null_col =  np.array(merged_df.isnull().sum()) \n",
    "print(\"Missing values:\", null_col)"
   ]
  },
  {
   "cell_type": "markdown",
   "id": "47eaac1b-fb22-4c45-9fb0-eb622dd644b6",
   "metadata": {},
   "source": [
    "## Encoding Categorical Data:"
   ]
  },
  {
   "cell_type": "code",
   "execution_count": 28,
   "id": "ecaf184d-77dc-407f-a3c6-c401367875c1",
   "metadata": {},
   "outputs": [
    {
     "name": "stdout",
     "output_type": "stream",
     "text": [
      "Severity before Encoding:\n",
      "{'normal': 33, 'severe': 21, 'mild': 16, 'moderate': 14}\n",
      "Severity after Encoding:\n"
     ]
    },
    {
     "data": {
      "text/plain": [
       "{2: 33, 3: 21, 0: 16, 1: 14}"
      ]
     },
     "execution_count": 28,
     "metadata": {},
     "output_type": "execute_result"
    }
   ],
   "source": [
    "print('Severity before Encoding:')\n",
    "print(dict(merged_df['severity'].value_counts()))\n",
    "\n",
    "merged_df = Encoding(merged_df)\n",
    "    \n",
    "# # Check that the value transformed successfully \n",
    "print('Severity after Encoding:')\n",
    "dict(merged_df['severity'].value_counts())"
   ]
  },
  {
   "cell_type": "markdown",
   "id": "0c126a98-6c64-44f1-bde3-e652839f6402",
   "metadata": {},
   "source": [
    "## Drop Extra Columns and splitting data from target"
   ]
  },
  {
   "cell_type": "code",
   "execution_count": 29,
   "id": "9ae5abfd-cbca-4495-b416-697ddb99621a",
   "metadata": {},
   "outputs": [
    {
     "data": {
      "text/plain": [
       "Index(['patient_id', 'Omega_X_T', 'Omega_Y_T', 'Omega_Z_T', 'powerX_ 1_T',\n",
       "       'powerX_ 2_T', 'powerX_ 3_T', 'powerX_ 4_T', 'powerX_ 5_T',\n",
       "       'powerX_ 6_T', 'powerY_ 1_T', 'powerY_ 2_T', 'powerY_ 3_T',\n",
       "       'powerY_ 4_T', 'powerY_ 5_T', 'powerY_ 6_T', 'powerZ_ 1_T',\n",
       "       'powerZ_ 2_T', 'powerZ_ 3_T', 'powerZ_ 4_T', 'powerZ_ 5_T',\n",
       "       'powerZ_ 6_T', 'Omega_X_C', 'Omega_Y_C', 'Omega_Z_C', 'powerX_ 1_C',\n",
       "       'powerX_ 2_C', 'powerX_ 3_C', 'powerX_ 4_C', 'powerX_ 5_C',\n",
       "       'powerX_ 6_C', 'powerY_ 1_C', 'powerY_ 2_T.1', 'powerY_ 3_C',\n",
       "       'powerY_ 4_C', 'powerY_ 5_C', 'powerY_ 6_C', 'powerZ_ 1_C',\n",
       "       'powerZ_ 2_C', 'powerZ_ 3_C', 'powerZ_ 4_C', 'powerZ_ 5_C',\n",
       "       'powerZ_ 6_C', 'name', 'gender', 'leg', 'age', 'BMI', 'severity'],\n",
       "      dtype='object')"
      ]
     },
     "execution_count": 29,
     "metadata": {},
     "output_type": "execute_result"
    }
   ],
   "source": [
    "merged_df.columns"
   ]
  },
  {
   "cell_type": "code",
   "execution_count": 30,
   "id": "0143a04b-2c97-43ac-813c-b39de9107659",
   "metadata": {},
   "outputs": [
    {
     "data": {
      "text/plain": [
       "(67, 45)"
      ]
     },
     "execution_count": 30,
     "metadata": {},
     "output_type": "execute_result"
    }
   ],
   "source": [
    "merged_df = shuffle(merged_df, random_state=random_seed)\n",
    "\n",
    "columns_to_drop = ['patient_id', 'name', 'leg', 'severity']\n",
    "\n",
    "X = merged_df.drop(columns = columns_to_drop, axis = 1)  \n",
    "y = merged_df['severity']  \n",
    "\n",
    "X_train, X_test, y_train, y_test = train_test_split(X, y, test_size=0.2, random_state=random_seed)\n",
    "X_train.shape"
   ]
  },
  {
   "cell_type": "markdown",
   "id": "a821ae2c-57fb-4304-b0f8-16efb2034b24",
   "metadata": {},
   "source": [
    "# Feature Selection"
   ]
  },
  {
   "cell_type": "markdown",
   "id": "5a95ec96-fbe6-47ba-9f4c-554e73278090",
   "metadata": {},
   "source": [
    "## Filter Method"
   ]
  },
  {
   "cell_type": "code",
   "execution_count": 31,
   "id": "38aa5655-c8c4-4f25-8510-a58265784f94",
   "metadata": {},
   "outputs": [
    {
     "data": {
      "image/png": "[encoded data removed]",
      "text/plain": [
       "<Figure size 1200x1200 with 1 Axes>"
      ]
     },
     "metadata": {},
     "output_type": "display_data"
    }
   ],
   "source": [
    "###################################################### Information Gain ######################################################\n",
    "mi_scores = mutual_info_classif(X, y)\n",
    "mi_scores_df = pd.DataFrame({'Feature': X.columns, 'MI Score': mi_scores})\n",
    "# Sort features by their mutual information scores\n",
    "mi_scores_df = mi_scores_df.sort_values(by='MI Score', ascending=False)\n",
    "# mi_scores_df\n",
    "\n",
    "# Plot feature importance\n",
    "plt.figure(figsize=(12, 12))\n",
    "plt.barh(mi_scores_df['Feature'], mi_scores_df['MI Score'], color='teal')\n",
    "plt.xlabel('Mutual Information Score')\n",
    "plt.ylabel('Feature')\n",
    "plt.title('Feature Importance using Mutual Information')\n",
    "plt.gca().invert_yaxis()  # To display the highest scores at the top\n",
    "\n",
    "# Save the plot as an image\n",
    "# plt.savefig('important_img/Gain_feature_importance.png', format='png', dpi=300, bbox_inches='tight')\n",
    "\n",
    "plt.show()"
   ]
  },
  {
   "cell_type": "code",
   "execution_count": 32,
   "id": "b0d146c8-7131-4711-8bf6-b218036560db",
   "metadata": {},
   "outputs": [
    {
     "data": {
      "text/plain": [
       "['powerX_ 4_T',\n",
       " 'powerX_ 6_T',\n",
       " 'powerY_ 3_T',\n",
       " 'powerZ_ 3_T',\n",
       " 'powerZ_ 6_T',\n",
       " 'powerX_ 2_C',\n",
       " 'powerX_ 6_C',\n",
       " 'powerY_ 2_T.1',\n",
       " 'powerY_ 5_C',\n",
       " 'powerY_ 6_C',\n",
       " 'powerZ_ 4_C']"
      ]
     },
     "execution_count": 32,
     "metadata": {},
     "output_type": "execute_result"
    }
   ],
   "source": [
    "non_selected_features = []\n",
    "for i in range(len(mi_scores_df[\"Feature\"])):\n",
    "    # print(mi_scores_df[\"Feature\"][i])\n",
    "    if mi_scores_df[\"MI Score\"][i] == 0.000000:\n",
    "        non_selected_features.append(mi_scores_df[\"Feature\"][i])\n",
    "\n",
    "non_selected_features"
   ]
  },
  {
   "cell_type": "markdown",
   "id": "284d47a3-07a2-4ad2-a072-11eecafd097d",
   "metadata": {},
   "source": [
    "### Drop unselected columns from filter method"
   ]
  },
  {
   "cell_type": "code",
   "execution_count": 33,
   "id": "1a833c1f-a2f0-48a7-8563-22623d41ed44",
   "metadata": {},
   "outputs": [
    {
     "data": {
      "text/plain": [
       "Index(['Omega_X_T', 'Omega_Y_T', 'Omega_Z_T', 'powerX_ 1_T', 'powerX_ 2_T',\n",
       "       'powerX_ 3_T', 'powerX_ 5_T', 'powerY_ 1_T', 'powerY_ 2_T',\n",
       "       'powerY_ 4_T', 'powerY_ 5_T', 'powerY_ 6_T', 'powerZ_ 1_T',\n",
       "       'powerZ_ 2_T', 'powerZ_ 4_T', 'powerZ_ 5_T', 'Omega_X_C', 'Omega_Y_C',\n",
       "       'Omega_Z_C', 'powerX_ 1_C', 'powerX_ 3_C', 'powerX_ 4_C', 'powerX_ 5_C',\n",
       "       'powerY_ 1_C', 'powerY_ 3_C', 'powerY_ 4_C', 'powerZ_ 1_C',\n",
       "       'powerZ_ 2_C', 'powerZ_ 3_C', 'powerZ_ 5_C', 'powerZ_ 6_C', 'gender',\n",
       "       'age', 'BMI'],\n",
       "      dtype='object')"
      ]
     },
     "execution_count": 33,
     "metadata": {},
     "output_type": "execute_result"
    }
   ],
   "source": [
    "X_train_filter = X_train.drop(non_selected_features, axis=1)\n",
    "X_test_filter = X_test.drop(non_selected_features, axis=1)\n",
    "X_train_filter.columns"
   ]
  },
  {
   "cell_type": "markdown",
   "id": "c046edd8-0819-4de0-b02e-c9ff8cd58613",
   "metadata": {},
   "source": [
    "# Scaling Data"
   ]
  },
  {
   "cell_type": "code",
   "execution_count": 34,
   "id": "7e2aab7d-62ef-475f-a1c5-be183eef3f5c",
   "metadata": {},
   "outputs": [],
   "source": [
    "scaler_filter = StandardScaler()\n",
    "X_train_filter = scaler_filter.fit_transform(X_train_filter)\n",
    "X_test_filter = scaler_filter.transform(X_test_filter)"
   ]
  },
  {
   "cell_type": "code",
   "execution_count": 35,
   "id": "d4b81c7d-71c8-4645-91bc-1bff46822576",
   "metadata": {},
   "outputs": [],
   "source": [
    "scaler = StandardScaler()\n",
    "X_train = scaler.fit_transform(X_train)\n",
    "X_test = scaler.transform(X_test)"
   ]
  },
  {
   "cell_type": "markdown",
   "id": "81fb984a-7800-4e4b-b304-b5e8b5b2cceb",
   "metadata": {},
   "source": [
    "# Model Training"
   ]
  },
  {
   "cell_type": "markdown",
   "id": "75f5799e-7e0c-4536-bf00-ca68f9c497ea",
   "metadata": {},
   "source": [
    "## All Features"
   ]
  },
  {
   "cell_type": "code",
   "execution_count": 36,
   "id": "7793b888-2301-4ad7-abeb-234901ca12e4",
   "metadata": {},
   "outputs": [
    {
     "name": "stdout",
     "output_type": "stream",
     "text": [
      "Random Forest Training Accuracy: 100.00\n",
      "Random Forest Testing Accuracy: 76.47\n",
      "F1 Score (Random Forest): 0.7077\n",
      "--------------------------------------------------\n",
      "Logistic Regression Training Accuracy: 100.00\n",
      "Logistic Regression Testing Accuracy: 88.24\n",
      "F1 Score (Logistic Regression): 0.8850\n",
      "--------------------------------------------------\n",
      "KNN (k=7) Training Accuracy: 65.67\n",
      "KNN (k=7) Testing Accuracy: 64.71\n",
      "F1 Score (KNN (k=7)): 0.6534\n",
      "--------------------------------------------------\n",
      "XGBoost Training Accuracy: 100.00\n",
      "XGBoost Testing Accuracy: 88.24\n",
      "F1 Score (XGBoost): 0.8850\n",
      "--------------------------------------------------\n",
      "linear SVM Training Accuracy: 100.00\n",
      "linear SVM Testing Accuracy: 82.35\n",
      "F1 Score (linear SVM): 0.8310\n",
      "--------------------------------------------------\n",
      "Poly SVM Training Accuracy: 61.19\n",
      "Poly SVM Testing Accuracy: 47.06\n",
      "F1 Score (Poly SVM): 0.3503\n",
      "--------------------------------------------------\n",
      "rbf SVM Training Accuracy: 89.55\n",
      "rbf SVM Testing Accuracy: 70.59\n",
      "F1 Score (rbf SVM): 0.6774\n",
      "--------------------------------------------------\n",
      "Sigmoid SVM Training Accuracy: 62.69\n",
      "Sigmoid SVM Testing Accuracy: 70.59\n",
      "F1 Score (Sigmoid SVM): 0.6603\n",
      "--------------------------------------------------\n",
      "Lasso Logistic Regression Training Accuracy: 94.03\n",
      "Lasso Logistic Regression Testing Accuracy: 94.12\n",
      "F1 Score (Lasso Logistic Regression): 0.9399\n",
      "--------------------------------------------------\n"
     ]
    }
   ],
   "source": [
    "models_all = {\n",
    "    \"Random Forest\": RandomForestClassifier(random_state=random_seed),\n",
    "    \"Logistic Regression\": LogisticRegression(),\n",
    "    \"KNN (k=7)\": KNeighborsClassifier(n_neighbors=5),\n",
    "    \"XGBoost\": XGBClassifier(),\n",
    "    \"linear SVM\": SVC(kernel='linear', random_state=random_seed),\n",
    "    \"Poly SVM\": SVC(kernel='poly', random_state=random_seed),\n",
    "    \"rbf SVM\": SVC(kernel='rbf', random_state=random_seed),\n",
    "    \"Sigmoid SVM\": SVC(kernel= 'sigmoid', random_state=random_seed),\n",
    "    \"Lasso Logistic Regression\": LogisticRegression(penalty='l1', solver='saga', multi_class='multinomial', max_iter=10000, random_state=random_seed)\n",
    "}\n",
    "\n",
    "# Train and evaluate each model\n",
    "for model_name, model in models_all.items():\n",
    "    train_and_evaluate(model, model_name, X_train, y_train, X_test, y_test)\n",
    "    y_pred = model.predict(X_test)\n",
    "    f1 = f1_score(y_test, y_pred, average='weighted')\n",
    "    print(f\"F1 Score ({model_name}): {f1:.4f}\")\n",
    "    print('-' * 50)\n"
   ]
  },
  {
   "cell_type": "code",
   "execution_count": 37,
   "id": "9cb787a8-dc4b-49e0-82d8-9f1c021abfea",
   "metadata": {},
   "outputs": [],
   "source": [
    "# clf_all =  RandomForestClassifier(random_state=random_seed)\n",
    "# clf_all.fit(X_train, y_train)\n",
    "\n",
    "# y_pred_all_features = clf_all.predict(X_test)\n",
    "\n",
    "# cmatrix_fun(\"Rf with ALL features\", y_test, y_pred_all_features)"
   ]
  },
  {
   "cell_type": "markdown",
   "id": "40c38aea-d55c-4255-b943-28487fa67870",
   "metadata": {},
   "source": [
    "## Over Sampling"
   ]
  },
  {
   "cell_type": "code",
   "execution_count": 38,
   "id": "bf461c2c-1394-49e6-87a4-6cd87ac3ee1e",
   "metadata": {},
   "outputs": [
    {
     "name": "stdout",
     "output_type": "stream",
     "text": [
      " X_shape: (10000, 45) \n",
      " y_shape: (10000,)\n"
     ]
    }
   ],
   "source": [
    "from imblearn.over_sampling  import RandomOverSampler\n",
    "sampling_strategy = {\n",
    "    0: 2500,\n",
    "    1: 2500,\n",
    "    2: 2500,\n",
    "    3: 2500\n",
    "    # Add more classes as needed\n",
    "}\n",
    "\n",
    "# X_train, X_test, y_train, y_test = train_test_split(X, y, test_size=0.2, random_state=random_seed)\n",
    "\n",
    "# Initialize RandomOverSampler with the specified sampling strategy\n",
    "smoteOver = RandomOverSampler(sampling_strategy=sampling_strategy)\n",
    "# smoteOver = RandomOverSampler(sampling_strategy=1)\n",
    "X_smoteOver, y_smoteOver = smoteOver.fit_resample(X_train , y_train)\n",
    "print(f' X_shape: {X_smoteOver.shape} \\n y_shape: {y_smoteOver.shape}')\n",
    "\n",
    "# Initialize StandardScaler\n",
    "# scaler_corr = StandardScaler()\n",
    "# X_train_smote = scaler_corr.fit_transform(X_smoteOver)\n",
    "# X_test_smote = scaler_corr.transform(X_test)\n",
    "\n"
   ]
  },
  {
   "cell_type": "code",
   "execution_count": 39,
   "id": "42011332-86d8-4f9e-8aa8-f378943c6221",
   "metadata": {},
   "outputs": [
    {
     "name": "stdout",
     "output_type": "stream",
     "text": [
      "Random Forest Training Accuracy: 100.00\n",
      "Random Forest Testing Accuracy: 88.24\n",
      "F1 Score (Random Forest): 0.8750\n",
      "--------------------------------------------------\n",
      "Logistic Regression Training Accuracy: 100.00\n",
      "Logistic Regression Testing Accuracy: 88.24\n",
      "F1 Score (Logistic Regression): 0.8922\n",
      "--------------------------------------------------\n",
      "KNN (k=7) Training Accuracy: 100.00\n",
      "KNN (k=7) Testing Accuracy: 47.06\n",
      "F1 Score (KNN (k=7)): 0.4796\n",
      "--------------------------------------------------\n",
      "XGBoost Training Accuracy: 100.00\n",
      "XGBoost Testing Accuracy: 88.24\n",
      "F1 Score (XGBoost): 0.8850\n",
      "--------------------------------------------------\n",
      "linear SVM Training Accuracy: 100.00\n",
      "linear SVM Testing Accuracy: 70.59\n",
      "F1 Score (linear SVM): 0.7196\n",
      "--------------------------------------------------\n",
      "Poly SVM Training Accuracy: 100.00\n",
      "Poly SVM Testing Accuracy: 41.18\n",
      "F1 Score (Poly SVM): 0.3654\n",
      "--------------------------------------------------\n",
      "rbf SVM Training Accuracy: 100.00\n",
      "rbf SVM Testing Accuracy: 82.35\n",
      "F1 Score (rbf SVM): 0.8185\n",
      "--------------------------------------------------\n",
      "Sigmoid SVM Training Accuracy: 88.00\n",
      "Sigmoid SVM Testing Accuracy: 64.71\n",
      "F1 Score (Sigmoid SVM): 0.6536\n",
      "--------------------------------------------------\n",
      "Lasso Logistic Regression Training Accuracy: 100.00\n",
      "Lasso Logistic Regression Testing Accuracy: 94.12\n",
      "F1 Score (Lasso Logistic Regression): 0.9448\n",
      "--------------------------------------------------\n"
     ]
    }
   ],
   "source": [
    "models_sample = {\n",
    "    \"Random Forest\": RandomForestClassifier(random_state=random_seed),\n",
    "    \"Logistic Regression\": LogisticRegression(),\n",
    "    \"KNN (k=7)\": KNeighborsClassifier(n_neighbors=5),\n",
    "    \"XGBoost\": XGBClassifier(),\n",
    "    \"linear SVM\": SVC(kernel='linear', random_state=random_seed),\n",
    "    \"Poly SVM\": SVC(kernel='poly', random_state=random_seed),\n",
    "    \"rbf SVM\": SVC(kernel='rbf', random_state=random_seed),\n",
    "    \"Sigmoid SVM\": SVC(kernel= 'sigmoid', random_state=random_seed),\n",
    "    \"Lasso Logistic Regression\": LogisticRegression(penalty='l1', solver='saga', multi_class='multinomial', max_iter=10000, random_state=random_seed)\n",
    "}\n",
    "\n",
    "# Train and evaluate each model\n",
    "for model_name, model in models_sample.items():\n",
    "    train_and_evaluate(model, model_name, X_smoteOver, y_smoteOver, X_test, y_test)\n",
    "    y_pred = model.predict(X_test)\n",
    "    f1 = f1_score(y_test, y_pred, average='weighted')\n",
    "    print(f\"F1 Score ({model_name}): {f1:.4f}\")\n",
    "    print('-' * 50)"
   ]
  },
  {
   "cell_type": "code",
   "execution_count": 20,
   "id": "83ae455a-792a-4c55-8af4-1ad297291701",
   "metadata": {},
   "outputs": [],
   "source": [
    "# clf_all =  RandomForestClassifier(random_state=random_seed)\n",
    "# clf_all.fit(X_smoteOver, y_smoteOver)\n",
    "\n",
    "# y_pred_sample = clf_all.predict(X_test)\n",
    "\n",
    "# cmatrix_fun(\"Rf with ALL features\", y_test, y_pred_sample)"
   ]
  },
  {
   "cell_type": "markdown",
   "id": "48e31062-52f5-433a-ad3f-1855c63850bb",
   "metadata": {},
   "source": [
    "## Feature selection training"
   ]
  },
  {
   "cell_type": "code",
   "execution_count": 21,
   "id": "0b0a6be1-747a-437d-9465-8073fffb806a",
   "metadata": {},
   "outputs": [
    {
     "name": "stdout",
     "output_type": "stream",
     "text": [
      "Random Forest Training Accuracy: 100.00\n",
      "Random Forest Testing Accuracy: 82.35\n",
      "F1 Score (Random Forest): 0.8287\n",
      "--------------------------------------------------\n",
      "Logistic Regression Training Accuracy: 98.51\n",
      "Logistic Regression Testing Accuracy: 58.82\n",
      "F1 Score (Logistic Regression): 0.6475\n",
      "--------------------------------------------------\n",
      "KNN (k=7) Training Accuracy: 67.16\n",
      "KNN (k=7) Testing Accuracy: 29.41\n",
      "F1 Score (KNN (k=7)): 0.3053\n",
      "--------------------------------------------------\n",
      "XGBoost Training Accuracy: 100.00\n",
      "XGBoost Testing Accuracy: 82.35\n",
      "F1 Score (XGBoost): 0.7993\n",
      "--------------------------------------------------\n",
      "linear SVM Training Accuracy: 98.51\n",
      "linear SVM Testing Accuracy: 47.06\n",
      "F1 Score (linear SVM): 0.5098\n",
      "--------------------------------------------------\n",
      "Poly SVM Training Accuracy: 71.64\n",
      "Poly SVM Testing Accuracy: 52.94\n",
      "F1 Score (Poly SVM): 0.5091\n",
      "--------------------------------------------------\n",
      "rbf SVM Training Accuracy: 97.01\n",
      "rbf SVM Testing Accuracy: 70.59\n",
      "F1 Score (rbf SVM): 0.7255\n",
      "--------------------------------------------------\n",
      "Sigmoid SVM Training Accuracy: 70.15\n",
      "Sigmoid SVM Testing Accuracy: 52.94\n",
      "F1 Score (Sigmoid SVM): 0.5294\n",
      "--------------------------------------------------\n",
      "Lasso Logistic Regression Training Accuracy: 95.52\n",
      "Lasso Logistic Regression Testing Accuracy: 70.59\n",
      "F1 Score (Lasso Logistic Regression): 0.7484\n",
      "--------------------------------------------------\n"
     ]
    }
   ],
   "source": [
    "models_filter = {\n",
    "    \"Random Forest\": RandomForestClassifier(random_state=random_seed),\n",
    "    \"Logistic Regression\": LogisticRegression(),\n",
    "    \"KNN (k=7)\": KNeighborsClassifier(n_neighbors=7),\n",
    "    \"XGBoost\": XGBClassifier(),\n",
    "    \"linear SVM\": SVC(kernel='linear', random_state=random_seed),\n",
    "    \"Poly SVM\": SVC(kernel='poly', random_state=random_seed),\n",
    "    \"rbf SVM\": SVC(kernel='rbf', random_state=random_seed),\n",
    "    \"Sigmoid SVM\": SVC(kernel= 'sigmoid', random_state=random_seed),\n",
    "    \"Lasso Logistic Regression\": LogisticRegression(penalty='l1', solver='saga', multi_class='multinomial', max_iter=10000, random_state=random_seed)\n",
    "}\n",
    "\n",
    "# Train and evaluate each model\n",
    "for model_name, model in models_filter.items():\n",
    "    train_and_evaluate(model, model_name, X_train_filter, y_train, X_test_filter, y_test)\n",
    "    y_pred = model.predict(X_test_filter)\n",
    "    f1 = f1_score(y_test, y_pred, average='weighted')\n",
    "    print(f\"F1 Score ({model_name}): {f1:.4f}\")\n",
    "    print('-' * 50)\n",
    "    "
   ]
  },
  {
   "cell_type": "code",
   "execution_count": 21,
   "id": "7b7b21a5-81a0-44ef-bf13-256c0dc7e4d5",
   "metadata": {},
   "outputs": [],
   "source": [
    "# clf_filter =  RandomForestClassifier(random_state=random_seed)\n",
    "# clf_filter.fit(X_train_filter, y_train)\n",
    "\n",
    "# y_pred_filter = clf_filter.predict(X_test_filter)\n",
    "\n",
    "# cmatrix_fun(\"Rf with ALL features\", y_test, y_pred_filter)"
   ]
  },
  {
   "cell_type": "markdown",
   "id": "a6663765-1f4b-412e-a22e-4a5ae1b77def",
   "metadata": {},
   "source": [
    "## PCA selection"
   ]
  },
  {
   "cell_type": "code",
   "execution_count": 22,
   "id": "76843aca-9b8b-4734-89f4-87a53483c835",
   "metadata": {},
   "outputs": [],
   "source": [
    "from sklearn.feature_selection import SelectFromModel\n",
    "from sklearn.decomposition import PCA\n",
    "\n",
    "\n",
    "selector = RandomForestClassifier(n_estimators=100)\n",
    "selector.fit(X_train, y_train)  \n",
    "model_pca = SelectFromModel(selector, prefit=True)\n",
    "data_selected = model_pca.transform(X_train)\n",
    "pca = PCA(n_components=10)\n",
    "X_train_pca = pca.fit_transform(data_selected)\n",
    "\n",
    "x1 = model_pca.transform(X_test)\n",
    "X_test_pca = pca.transform(x1)"
   ]
  },
  {
   "cell_type": "code",
   "execution_count": 23,
   "id": "a7e4fbb3-6fa4-488d-8b4f-6df60dd431e6",
   "metadata": {},
   "outputs": [
    {
     "name": "stdout",
     "output_type": "stream",
     "text": [
      "Random Forest Training Accuracy: 100.00\n",
      "Random Forest Testing Accuracy: 88.24\n",
      "F1 Score (Random Forest): 0.8824\n",
      "--------------------------------------------------\n",
      "Logistic Regression Training Accuracy: 65.67\n",
      "Logistic Regression Testing Accuracy: 70.59\n",
      "F1 Score (Logistic Regression): 0.6556\n",
      "--------------------------------------------------\n",
      "KNN (k=7) Training Accuracy: 73.13\n",
      "KNN (k=7) Testing Accuracy: 82.35\n",
      "F1 Score (KNN (k=7)): 0.8329\n",
      "--------------------------------------------------\n",
      "XGBoost Training Accuracy: 100.00\n",
      "XGBoost Testing Accuracy: 82.35\n",
      "F1 Score (XGBoost): 0.8223\n",
      "--------------------------------------------------\n",
      "linear SVM Training Accuracy: 68.66\n",
      "linear SVM Testing Accuracy: 70.59\n",
      "F1 Score (linear SVM): 0.7018\n",
      "--------------------------------------------------\n",
      "Poly SVM Training Accuracy: 58.21\n",
      "Poly SVM Testing Accuracy: 76.47\n",
      "F1 Score (Poly SVM): 0.7484\n",
      "--------------------------------------------------\n",
      "rbf SVM Training Accuracy: 76.12\n",
      "rbf SVM Testing Accuracy: 76.47\n",
      "F1 Score (rbf SVM): 0.7496\n",
      "--------------------------------------------------\n",
      "Sigmoid SVM Training Accuracy: 50.75\n",
      "Sigmoid SVM Testing Accuracy: 58.82\n",
      "F1 Score (Sigmoid SVM): 0.5456\n",
      "--------------------------------------------------\n",
      "Lasso Logistic Regression Training Accuracy: 68.66\n",
      "Lasso Logistic Regression Testing Accuracy: 64.71\n",
      "F1 Score (Lasso Logistic Regression): 0.6203\n",
      "--------------------------------------------------\n"
     ]
    }
   ],
   "source": [
    "models_pca = {\n",
    "    \"Random Forest\": RandomForestClassifier(random_state=random_seed),\n",
    "    \"Logistic Regression\": LogisticRegression(),\n",
    "    \"KNN (k=7)\": KNeighborsClassifier(n_neighbors=5),\n",
    "    \"XGBoost\": XGBClassifier(),\n",
    "    \"linear SVM\": SVC(kernel='linear', random_state=random_seed),\n",
    "    \"Poly SVM\": SVC(kernel='poly', random_state=random_seed),\n",
    "    \"rbf SVM\": SVC(kernel='rbf', random_state=random_seed),\n",
    "    \"Sigmoid SVM\": SVC(kernel= 'sigmoid', random_state=random_seed),\n",
    "    \"Lasso Logistic Regression\": LogisticRegression(penalty='l1', solver='saga', multi_class='multinomial', max_iter=10000, random_state=random_seed)\n",
    "}\n",
    "\n",
    "# Train and evaluate each model\n",
    "for model_name, model in models_pca.items():\n",
    "    train_and_evaluate(model, model_name, X_train_pca, y_train, X_test_pca, y_test)\n",
    "    y_pred = model.predict(X_test_pca)\n",
    "    f1 = f1_score(y_test, y_pred, average='weighted')\n",
    "    print(f\"F1 Score ({model_name}): {f1:.4f}\")\n",
    "    print('-' * 50)"
   ]
  },
  {
   "cell_type": "code",
   "execution_count": 24,
   "id": "58cba2ff-95b2-4def-8917-831cfd69934b",
   "metadata": {},
   "outputs": [],
   "source": [
    "# clf_pca =  RandomForestClassifier(random_state=random_seed)\n",
    "# clf_pca.fit(X_train_pca, y_train)\n",
    "\n",
    "# y_pred_pca = clf_filter.predict(X_test_pca)\n",
    "\n",
    "# cmatrix_fun(\"Rf with ALL features\", y_test, y_pred_pca)"
   ]
  },
  {
   "cell_type": "markdown",
   "id": "63b0d7ba-f699-4e65-a6e7-70b4c7a4ce30",
   "metadata": {},
   "source": [
    "## PCA on original data"
   ]
  },
  {
   "cell_type": "code",
   "execution_count": 25,
   "id": "050aec35-ae2c-4572-915d-4041ce4ba2d2",
   "metadata": {},
   "outputs": [],
   "source": [
    "scaler = StandardScaler()\n",
    "X_scaled = scaler.fit_transform(X)\n",
    "\n",
    "pca = PCA(n_components= 30)  # Example: Retain 10 principal components\n",
    "X_pca = pca.fit_transform(X_scaled)"
   ]
  },
  {
   "cell_type": "code",
   "execution_count": 26,
   "id": "9d649e4d-8d4e-49d0-ad39-2ac2130619f6",
   "metadata": {},
   "outputs": [
    {
     "ename": "FileNotFoundError",
     "evalue": "[Errno 2] No such file or directory: 'important_img/pca.png'",
     "output_type": "error",
     "traceback": [
      "\u001b[1;31m---------------------------------------------------------------------------\u001b[0m",
      "\u001b[1;31mFileNotFoundError\u001b[0m                         Traceback (most recent call last)",
      "Cell \u001b[1;32mIn[26], line 20\u001b[0m\n\u001b[0;32m     18\u001b[0m plt\u001b[38;5;241m.\u001b[39mfigure(figsize\u001b[38;5;241m=\u001b[39m(\u001b[38;5;241m20\u001b[39m, \u001b[38;5;241m20\u001b[39m))\n\u001b[0;32m     19\u001b[0m plt\u001b[38;5;241m.\u001b[39mtight_layout()\n\u001b[1;32m---> 20\u001b[0m \u001b[43mplt\u001b[49m\u001b[38;5;241;43m.\u001b[39;49m\u001b[43msavefig\u001b[49m\u001b[43m(\u001b[49m\u001b[38;5;124;43m'\u001b[39;49m\u001b[38;5;124;43mimportant_img/pca.png\u001b[39;49m\u001b[38;5;124;43m'\u001b[39;49m\u001b[43m,\u001b[49m\u001b[43m \u001b[49m\u001b[38;5;28;43mformat\u001b[39;49m\u001b[38;5;241;43m=\u001b[39;49m\u001b[38;5;124;43m'\u001b[39;49m\u001b[38;5;124;43mpng\u001b[39;49m\u001b[38;5;124;43m'\u001b[39;49m\u001b[43m,\u001b[49m\u001b[43m \u001b[49m\u001b[43mdpi\u001b[49m\u001b[38;5;241;43m=\u001b[39;49m\u001b[38;5;241;43m300\u001b[39;49m\u001b[43m,\u001b[49m\u001b[43m \u001b[49m\u001b[43mbbox_inches\u001b[49m\u001b[38;5;241;43m=\u001b[39;49m\u001b[38;5;124;43m'\u001b[39;49m\u001b[38;5;124;43mtight\u001b[39;49m\u001b[38;5;124;43m'\u001b[39;49m\u001b[43m)\u001b[49m\n\u001b[0;32m     21\u001b[0m \u001b[38;5;66;03m# Show the plot\u001b[39;00m\n\u001b[0;32m     22\u001b[0m plt\u001b[38;5;241m.\u001b[39mshow()\n",
      "File \u001b[1;32m~\\anaconda3\\Lib\\site-packages\\matplotlib\\pyplot.py:1119\u001b[0m, in \u001b[0;36msavefig\u001b[1;34m(*args, **kwargs)\u001b[0m\n\u001b[0;32m   1116\u001b[0m fig \u001b[38;5;241m=\u001b[39m gcf()\n\u001b[0;32m   1117\u001b[0m \u001b[38;5;66;03m# savefig default implementation has no return, so mypy is unhappy\u001b[39;00m\n\u001b[0;32m   1118\u001b[0m \u001b[38;5;66;03m# presumably this is here because subclasses can return?\u001b[39;00m\n\u001b[1;32m-> 1119\u001b[0m res \u001b[38;5;241m=\u001b[39m \u001b[43mfig\u001b[49m\u001b[38;5;241;43m.\u001b[39;49m\u001b[43msavefig\u001b[49m\u001b[43m(\u001b[49m\u001b[38;5;241;43m*\u001b[39;49m\u001b[43margs\u001b[49m\u001b[43m,\u001b[49m\u001b[43m \u001b[49m\u001b[38;5;241;43m*\u001b[39;49m\u001b[38;5;241;43m*\u001b[39;49m\u001b[43mkwargs\u001b[49m\u001b[43m)\u001b[49m  \u001b[38;5;66;03m# type: ignore[func-returns-value]\u001b[39;00m\n\u001b[0;32m   1120\u001b[0m fig\u001b[38;5;241m.\u001b[39mcanvas\u001b[38;5;241m.\u001b[39mdraw_idle()  \u001b[38;5;66;03m# Need this if 'transparent=True', to reset colors.\u001b[39;00m\n\u001b[0;32m   1121\u001b[0m \u001b[38;5;28;01mreturn\u001b[39;00m res\n",
      "File \u001b[1;32m~\\anaconda3\\Lib\\site-packages\\matplotlib\\figure.py:3390\u001b[0m, in \u001b[0;36mFigure.savefig\u001b[1;34m(self, fname, transparent, **kwargs)\u001b[0m\n\u001b[0;32m   3388\u001b[0m     \u001b[38;5;28;01mfor\u001b[39;00m ax \u001b[38;5;129;01min\u001b[39;00m \u001b[38;5;28mself\u001b[39m\u001b[38;5;241m.\u001b[39maxes:\n\u001b[0;32m   3389\u001b[0m         _recursively_make_axes_transparent(stack, ax)\n\u001b[1;32m-> 3390\u001b[0m \u001b[38;5;28;43mself\u001b[39;49m\u001b[38;5;241;43m.\u001b[39;49m\u001b[43mcanvas\u001b[49m\u001b[38;5;241;43m.\u001b[39;49m\u001b[43mprint_figure\u001b[49m\u001b[43m(\u001b[49m\u001b[43mfname\u001b[49m\u001b[43m,\u001b[49m\u001b[43m \u001b[49m\u001b[38;5;241;43m*\u001b[39;49m\u001b[38;5;241;43m*\u001b[39;49m\u001b[43mkwargs\u001b[49m\u001b[43m)\u001b[49m\n",
      "File \u001b[1;32m~\\anaconda3\\Lib\\site-packages\\matplotlib\\backend_bases.py:2187\u001b[0m, in \u001b[0;36mFigureCanvasBase.print_figure\u001b[1;34m(self, filename, dpi, facecolor, edgecolor, orientation, format, bbox_inches, pad_inches, bbox_extra_artists, backend, **kwargs)\u001b[0m\n\u001b[0;32m   2183\u001b[0m \u001b[38;5;28;01mtry\u001b[39;00m:\n\u001b[0;32m   2184\u001b[0m     \u001b[38;5;66;03m# _get_renderer may change the figure dpi (as vector formats\u001b[39;00m\n\u001b[0;32m   2185\u001b[0m     \u001b[38;5;66;03m# force the figure dpi to 72), so we need to set it again here.\u001b[39;00m\n\u001b[0;32m   2186\u001b[0m     \u001b[38;5;28;01mwith\u001b[39;00m cbook\u001b[38;5;241m.\u001b[39m_setattr_cm(\u001b[38;5;28mself\u001b[39m\u001b[38;5;241m.\u001b[39mfigure, dpi\u001b[38;5;241m=\u001b[39mdpi):\n\u001b[1;32m-> 2187\u001b[0m         result \u001b[38;5;241m=\u001b[39m \u001b[43mprint_method\u001b[49m\u001b[43m(\u001b[49m\n\u001b[0;32m   2188\u001b[0m \u001b[43m            \u001b[49m\u001b[43mfilename\u001b[49m\u001b[43m,\u001b[49m\n\u001b[0;32m   2189\u001b[0m \u001b[43m            \u001b[49m\u001b[43mfacecolor\u001b[49m\u001b[38;5;241;43m=\u001b[39;49m\u001b[43mfacecolor\u001b[49m\u001b[43m,\u001b[49m\n\u001b[0;32m   2190\u001b[0m \u001b[43m            \u001b[49m\u001b[43medgecolor\u001b[49m\u001b[38;5;241;43m=\u001b[39;49m\u001b[43medgecolor\u001b[49m\u001b[43m,\u001b[49m\n\u001b[0;32m   2191\u001b[0m \u001b[43m            \u001b[49m\u001b[43morientation\u001b[49m\u001b[38;5;241;43m=\u001b[39;49m\u001b[43morientation\u001b[49m\u001b[43m,\u001b[49m\n\u001b[0;32m   2192\u001b[0m \u001b[43m            \u001b[49m\u001b[43mbbox_inches_restore\u001b[49m\u001b[38;5;241;43m=\u001b[39;49m\u001b[43m_bbox_inches_restore\u001b[49m\u001b[43m,\u001b[49m\n\u001b[0;32m   2193\u001b[0m \u001b[43m            \u001b[49m\u001b[38;5;241;43m*\u001b[39;49m\u001b[38;5;241;43m*\u001b[39;49m\u001b[43mkwargs\u001b[49m\u001b[43m)\u001b[49m\n\u001b[0;32m   2194\u001b[0m \u001b[38;5;28;01mfinally\u001b[39;00m:\n\u001b[0;32m   2195\u001b[0m     \u001b[38;5;28;01mif\u001b[39;00m bbox_inches \u001b[38;5;129;01mand\u001b[39;00m restore_bbox:\n",
      "File \u001b[1;32m~\\anaconda3\\Lib\\site-packages\\matplotlib\\backend_bases.py:2043\u001b[0m, in \u001b[0;36mFigureCanvasBase._switch_canvas_and_return_print_method.<locals>.<lambda>\u001b[1;34m(*args, **kwargs)\u001b[0m\n\u001b[0;32m   2039\u001b[0m     optional_kws \u001b[38;5;241m=\u001b[39m {  \u001b[38;5;66;03m# Passed by print_figure for other renderers.\u001b[39;00m\n\u001b[0;32m   2040\u001b[0m         \u001b[38;5;124m\"\u001b[39m\u001b[38;5;124mdpi\u001b[39m\u001b[38;5;124m\"\u001b[39m, \u001b[38;5;124m\"\u001b[39m\u001b[38;5;124mfacecolor\u001b[39m\u001b[38;5;124m\"\u001b[39m, \u001b[38;5;124m\"\u001b[39m\u001b[38;5;124medgecolor\u001b[39m\u001b[38;5;124m\"\u001b[39m, \u001b[38;5;124m\"\u001b[39m\u001b[38;5;124morientation\u001b[39m\u001b[38;5;124m\"\u001b[39m,\n\u001b[0;32m   2041\u001b[0m         \u001b[38;5;124m\"\u001b[39m\u001b[38;5;124mbbox_inches_restore\u001b[39m\u001b[38;5;124m\"\u001b[39m}\n\u001b[0;32m   2042\u001b[0m     skip \u001b[38;5;241m=\u001b[39m optional_kws \u001b[38;5;241m-\u001b[39m {\u001b[38;5;241m*\u001b[39minspect\u001b[38;5;241m.\u001b[39msignature(meth)\u001b[38;5;241m.\u001b[39mparameters}\n\u001b[1;32m-> 2043\u001b[0m     print_method \u001b[38;5;241m=\u001b[39m functools\u001b[38;5;241m.\u001b[39mwraps(meth)(\u001b[38;5;28;01mlambda\u001b[39;00m \u001b[38;5;241m*\u001b[39margs, \u001b[38;5;241m*\u001b[39m\u001b[38;5;241m*\u001b[39mkwargs: \u001b[43mmeth\u001b[49m\u001b[43m(\u001b[49m\n\u001b[0;32m   2044\u001b[0m \u001b[43m        \u001b[49m\u001b[38;5;241;43m*\u001b[39;49m\u001b[43margs\u001b[49m\u001b[43m,\u001b[49m\u001b[43m \u001b[49m\u001b[38;5;241;43m*\u001b[39;49m\u001b[38;5;241;43m*\u001b[39;49m\u001b[43m{\u001b[49m\u001b[43mk\u001b[49m\u001b[43m:\u001b[49m\u001b[43m \u001b[49m\u001b[43mv\u001b[49m\u001b[43m \u001b[49m\u001b[38;5;28;43;01mfor\u001b[39;49;00m\u001b[43m \u001b[49m\u001b[43mk\u001b[49m\u001b[43m,\u001b[49m\u001b[43m \u001b[49m\u001b[43mv\u001b[49m\u001b[43m \u001b[49m\u001b[38;5;129;43;01min\u001b[39;49;00m\u001b[43m \u001b[49m\u001b[43mkwargs\u001b[49m\u001b[38;5;241;43m.\u001b[39;49m\u001b[43mitems\u001b[49m\u001b[43m(\u001b[49m\u001b[43m)\u001b[49m\u001b[43m \u001b[49m\u001b[38;5;28;43;01mif\u001b[39;49;00m\u001b[43m \u001b[49m\u001b[43mk\u001b[49m\u001b[43m \u001b[49m\u001b[38;5;129;43;01mnot\u001b[39;49;00m\u001b[43m \u001b[49m\u001b[38;5;129;43;01min\u001b[39;49;00m\u001b[43m \u001b[49m\u001b[43mskip\u001b[49m\u001b[43m}\u001b[49m\u001b[43m)\u001b[49m)\n\u001b[0;32m   2045\u001b[0m \u001b[38;5;28;01melse\u001b[39;00m:  \u001b[38;5;66;03m# Let third-parties do as they see fit.\u001b[39;00m\n\u001b[0;32m   2046\u001b[0m     print_method \u001b[38;5;241m=\u001b[39m meth\n",
      "File \u001b[1;32m~\\anaconda3\\Lib\\site-packages\\matplotlib\\backends\\backend_agg.py:497\u001b[0m, in \u001b[0;36mFigureCanvasAgg.print_png\u001b[1;34m(self, filename_or_obj, metadata, pil_kwargs)\u001b[0m\n\u001b[0;32m    450\u001b[0m \u001b[38;5;28;01mdef\u001b[39;00m \u001b[38;5;21mprint_png\u001b[39m(\u001b[38;5;28mself\u001b[39m, filename_or_obj, \u001b[38;5;241m*\u001b[39m, metadata\u001b[38;5;241m=\u001b[39m\u001b[38;5;28;01mNone\u001b[39;00m, pil_kwargs\u001b[38;5;241m=\u001b[39m\u001b[38;5;28;01mNone\u001b[39;00m):\n\u001b[0;32m    451\u001b[0m \u001b[38;5;250m    \u001b[39m\u001b[38;5;124;03m\"\"\"\u001b[39;00m\n\u001b[0;32m    452\u001b[0m \u001b[38;5;124;03m    Write the figure to a PNG file.\u001b[39;00m\n\u001b[0;32m    453\u001b[0m \n\u001b[1;32m   (...)\u001b[0m\n\u001b[0;32m    495\u001b[0m \u001b[38;5;124;03m        *metadata*, including the default 'Software' key.\u001b[39;00m\n\u001b[0;32m    496\u001b[0m \u001b[38;5;124;03m    \"\"\"\u001b[39;00m\n\u001b[1;32m--> 497\u001b[0m     \u001b[38;5;28;43mself\u001b[39;49m\u001b[38;5;241;43m.\u001b[39;49m\u001b[43m_print_pil\u001b[49m\u001b[43m(\u001b[49m\u001b[43mfilename_or_obj\u001b[49m\u001b[43m,\u001b[49m\u001b[43m \u001b[49m\u001b[38;5;124;43m\"\u001b[39;49m\u001b[38;5;124;43mpng\u001b[39;49m\u001b[38;5;124;43m\"\u001b[39;49m\u001b[43m,\u001b[49m\u001b[43m \u001b[49m\u001b[43mpil_kwargs\u001b[49m\u001b[43m,\u001b[49m\u001b[43m \u001b[49m\u001b[43mmetadata\u001b[49m\u001b[43m)\u001b[49m\n",
      "File \u001b[1;32m~\\anaconda3\\Lib\\site-packages\\matplotlib\\backends\\backend_agg.py:446\u001b[0m, in \u001b[0;36mFigureCanvasAgg._print_pil\u001b[1;34m(self, filename_or_obj, fmt, pil_kwargs, metadata)\u001b[0m\n\u001b[0;32m    441\u001b[0m \u001b[38;5;250m\u001b[39m\u001b[38;5;124;03m\"\"\"\u001b[39;00m\n\u001b[0;32m    442\u001b[0m \u001b[38;5;124;03mDraw the canvas, then save it using `.image.imsave` (to which\u001b[39;00m\n\u001b[0;32m    443\u001b[0m \u001b[38;5;124;03m*pil_kwargs* and *metadata* are forwarded).\u001b[39;00m\n\u001b[0;32m    444\u001b[0m \u001b[38;5;124;03m\"\"\"\u001b[39;00m\n\u001b[0;32m    445\u001b[0m FigureCanvasAgg\u001b[38;5;241m.\u001b[39mdraw(\u001b[38;5;28mself\u001b[39m)\n\u001b[1;32m--> 446\u001b[0m \u001b[43mmpl\u001b[49m\u001b[38;5;241;43m.\u001b[39;49m\u001b[43mimage\u001b[49m\u001b[38;5;241;43m.\u001b[39;49m\u001b[43mimsave\u001b[49m\u001b[43m(\u001b[49m\n\u001b[0;32m    447\u001b[0m \u001b[43m    \u001b[49m\u001b[43mfilename_or_obj\u001b[49m\u001b[43m,\u001b[49m\u001b[43m \u001b[49m\u001b[38;5;28;43mself\u001b[39;49m\u001b[38;5;241;43m.\u001b[39;49m\u001b[43mbuffer_rgba\u001b[49m\u001b[43m(\u001b[49m\u001b[43m)\u001b[49m\u001b[43m,\u001b[49m\u001b[43m \u001b[49m\u001b[38;5;28;43mformat\u001b[39;49m\u001b[38;5;241;43m=\u001b[39;49m\u001b[43mfmt\u001b[49m\u001b[43m,\u001b[49m\u001b[43m \u001b[49m\u001b[43morigin\u001b[49m\u001b[38;5;241;43m=\u001b[39;49m\u001b[38;5;124;43m\"\u001b[39;49m\u001b[38;5;124;43mupper\u001b[39;49m\u001b[38;5;124;43m\"\u001b[39;49m\u001b[43m,\u001b[49m\n\u001b[0;32m    448\u001b[0m \u001b[43m    \u001b[49m\u001b[43mdpi\u001b[49m\u001b[38;5;241;43m=\u001b[39;49m\u001b[38;5;28;43mself\u001b[39;49m\u001b[38;5;241;43m.\u001b[39;49m\u001b[43mfigure\u001b[49m\u001b[38;5;241;43m.\u001b[39;49m\u001b[43mdpi\u001b[49m\u001b[43m,\u001b[49m\u001b[43m \u001b[49m\u001b[43mmetadata\u001b[49m\u001b[38;5;241;43m=\u001b[39;49m\u001b[43mmetadata\u001b[49m\u001b[43m,\u001b[49m\u001b[43m \u001b[49m\u001b[43mpil_kwargs\u001b[49m\u001b[38;5;241;43m=\u001b[39;49m\u001b[43mpil_kwargs\u001b[49m\u001b[43m)\u001b[49m\n",
      "File \u001b[1;32m~\\anaconda3\\Lib\\site-packages\\matplotlib\\image.py:1656\u001b[0m, in \u001b[0;36mimsave\u001b[1;34m(fname, arr, vmin, vmax, cmap, format, origin, dpi, metadata, pil_kwargs)\u001b[0m\n\u001b[0;32m   1654\u001b[0m pil_kwargs\u001b[38;5;241m.\u001b[39msetdefault(\u001b[38;5;124m\"\u001b[39m\u001b[38;5;124mformat\u001b[39m\u001b[38;5;124m\"\u001b[39m, \u001b[38;5;28mformat\u001b[39m)\n\u001b[0;32m   1655\u001b[0m pil_kwargs\u001b[38;5;241m.\u001b[39msetdefault(\u001b[38;5;124m\"\u001b[39m\u001b[38;5;124mdpi\u001b[39m\u001b[38;5;124m\"\u001b[39m, (dpi, dpi))\n\u001b[1;32m-> 1656\u001b[0m \u001b[43mimage\u001b[49m\u001b[38;5;241;43m.\u001b[39;49m\u001b[43msave\u001b[49m\u001b[43m(\u001b[49m\u001b[43mfname\u001b[49m\u001b[43m,\u001b[49m\u001b[43m \u001b[49m\u001b[38;5;241;43m*\u001b[39;49m\u001b[38;5;241;43m*\u001b[39;49m\u001b[43mpil_kwargs\u001b[49m\u001b[43m)\u001b[49m\n",
      "File \u001b[1;32m~\\anaconda3\\Lib\\site-packages\\PIL\\Image.py:2436\u001b[0m, in \u001b[0;36mImage.save\u001b[1;34m(self, fp, format, **params)\u001b[0m\n\u001b[0;32m   2434\u001b[0m         fp \u001b[38;5;241m=\u001b[39m builtins\u001b[38;5;241m.\u001b[39mopen(filename, \u001b[38;5;124m\"\u001b[39m\u001b[38;5;124mr+b\u001b[39m\u001b[38;5;124m\"\u001b[39m)\n\u001b[0;32m   2435\u001b[0m     \u001b[38;5;28;01melse\u001b[39;00m:\n\u001b[1;32m-> 2436\u001b[0m         fp \u001b[38;5;241m=\u001b[39m \u001b[43mbuiltins\u001b[49m\u001b[38;5;241;43m.\u001b[39;49m\u001b[43mopen\u001b[49m\u001b[43m(\u001b[49m\u001b[43mfilename\u001b[49m\u001b[43m,\u001b[49m\u001b[43m \u001b[49m\u001b[38;5;124;43m\"\u001b[39;49m\u001b[38;5;124;43mw+b\u001b[39;49m\u001b[38;5;124;43m\"\u001b[39;49m\u001b[43m)\u001b[49m\n\u001b[0;32m   2438\u001b[0m \u001b[38;5;28;01mtry\u001b[39;00m:\n\u001b[0;32m   2439\u001b[0m     save_handler(\u001b[38;5;28mself\u001b[39m, fp, filename)\n",
      "\u001b[1;31mFileNotFoundError\u001b[0m: [Errno 2] No such file or directory: 'important_img/pca.png'"
     ]
    },
    {
     "data": {
      "image/png": "[encoded data removed]",
      "text/plain": [
       "<Figure size 640x480 with 2 Axes>"
      ]
     },
     "metadata": {},
     "output_type": "display_data"
    },
    {
     "data": {
      "text/plain": [
       "<Figure size 2000x2000 with 0 Axes>"
      ]
     },
     "metadata": {},
     "output_type": "display_data"
    }
   ],
   "source": [
    "scatter = plt.scatter(X_pca[:, 10], X_pca[:, 18], c=y, cmap='viridis', edgecolor='k', s=100)\n",
    "\n",
    "# Create a legend with a color for each unique value in y\n",
    "handles = [plt.Line2D([0,0],[0,0],color=scatter.cmap(scatter.norm(label))) for label in np.unique(y)]\n",
    "class_labels = ['normal', 'mild', 'moderate', 'severe']\n",
    "plt.legend(handles, class_labels, title='Target', bbox_to_anchor=(1.05, 1))\n",
    "\n",
    "# Set plot title and axis labels\n",
    "plt.title('PCA Scatter Plot')\n",
    "plt.xlabel('PCA Component 2')\n",
    "plt.ylabel('PCA Component 4')\n",
    "\n",
    "# Add a colorbar with a label\n",
    "cbar = plt.colorbar(scatter)\n",
    "cbar.set_label('Target')\n",
    "\n",
    "# Adjust figure size and layout\n",
    "plt.figure(figsize=(20, 20))\n",
    "plt.tight_layout()\n",
    "plt.savefig('important_img/pca.png', format='png', dpi=300, bbox_inches='tight')\n",
    "# Show the plot\n",
    "plt.show()\n"
   ]
  },
  {
   "cell_type": "code",
   "execution_count": null,
   "id": "70986ed1-eb66-4798-88ec-ca673012f209",
   "metadata": {},
   "outputs": [],
   "source": [
    "X_train_pca2, X_test_pca2, y_train, y_test = train_test_split(X_pca, y, test_size=0.2, random_state=random_seed)\n",
    "\n",
    "models_pca2 = {\n",
    "    \"Random Forest\": RandomForestClassifier(random_state=random_seed),\n",
    "    \"Logistic Regression\": LogisticRegression(),\n",
    "    \"KNN (k=7)\": KNeighborsClassifier(n_neighbors=7),\n",
    "    \"XGBoost\": XGBClassifier(),\n",
    "    \"linear SVM\": SVC(kernel='linear', random_state=random_seed),\n",
    "    \"Poly SVM\": SVC(kernel='poly', random_state=random_seed),\n",
    "    \"rbf SVM\": SVC(kernel='rbf', random_state=random_seed),\n",
    "    \"Sigmoid SVM\": SVC(kernel= 'sigmoid', random_state=random_seed),\n",
    "    \"Lasso Logistic Regression\": LogisticRegression(penalty='l1', solver='saga', multi_class='multinomial', max_iter=10000, random_state=random_seed)\n",
    "}\n",
    "\n",
    "for model_name, model in models_pca2.items():\n",
    "    train_and_evaluate(model, model_name, X_train_pca2, y_train, X_test_pca2, y_test)\n",
    "    y_pred = model.predict(X_test_pca2)\n",
    "    f1 = f1_score(y_test, y_pred, average='weighted')\n",
    "    print(f\"F1 Score ({model_name}): {f1:.4f}\")\n",
    "    print('-' * 50)"
   ]
  },
  {
   "cell_type": "code",
   "execution_count": null,
   "id": "966e1cea-95d3-4f52-bda1-f2bb9436a922",
   "metadata": {},
   "outputs": [],
   "source": []
  },
  {
   "cell_type": "code",
   "execution_count": null,
   "id": "c899a3ef-634b-4d93-a2ad-b76cac1c79d5",
   "metadata": {},
   "outputs": [],
   "source": []
  }
 ],
 "metadata": {
  "kernelspec": {
   "display_name": "Python 3 (ipykernel)",
   "language": "python",
   "name": "python3"
  },
  "language_info": {
   "codemirror_mode": {
    "name": "ipython",
    "version": 3
   },
   "file_extension": ".py",
   "mimetype": "text/x-python",
   "name": "python",
   "nbconvert_exporter": "python",
   "pygments_lexer": "ipython3",
   "version": "3.9.13"
  }
 },
 "nbformat": 4,
 "nbformat_minor": 5
}
