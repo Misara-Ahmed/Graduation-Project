{
 "cells": [
  {
   "cell_type": "code",
   "execution_count": 7,
   "id": "9d138420-16ea-4bd5-828c-db9899b3601c",
   "metadata": {},
   "outputs": [],
   "source": [
    "import pandas as pd\n",
    "import numpy as np\n",
    "# import matplotlib.pyplot as plt\n",
    "import seaborn as sns\n",
    "\n",
    "from sklearn.preprocessing import LabelEncoder, StandardScaler\n",
    "from sklearn.utils import shuffle\n",
    "from sklearn.model_selection import train_test_split\n",
    "\n",
    "from sklearn.metrics import classification_report, accuracy_score, precision_score, recall_score, f1_score, confusion_matrix, classification_report\n",
    "from sklearn.feature_selection import SelectKBest, f_classif, mutual_info_classif\n",
    "from sklearn.ensemble import RandomForestClassifier\n",
    "from sklearn.linear_model import LogisticRegression\n",
    "from sklearn.neighbors import KNeighborsClassifier\n",
    "from xgboost import XGBClassifier\n",
    "from sklearn.svm import SVC\n",
    "\n",
    "import warnings\n",
    "warnings.filterwarnings('ignore')\n",
    "\n",
    "from sklearn import metrics\n",
    "\n",
    "import random\n",
    "random_seed = 1234\n",
    "random.seed(random_seed)\n",
    "np.random.seed(random_seed)\n",
    "\n",
    "import Function as f"
   ]
  },
  {
   "cell_type": "code",
   "execution_count": 2,
   "id": "518fb49f-74ca-4210-a9f2-e81b070ffdbf",
   "metadata": {},
   "outputs": [],
   "source": [
    "# def cmatrix_fun(model_name, actual, predicted):\n",
    "#     # Compute confusion matrix\n",
    "#     cm = metrics.confusion_matrix(actual, predicted)\n",
    "    \n",
    "#     # Normalize confusion matrix\n",
    "#     cm_normalized = (cm.astype('float') / cm.sum(axis=1)[:, np.newaxis]) * 100\n",
    "    \n",
    "#     # Plot the normalized confusion matrix\n",
    "#     fig, ax = plt.subplots(figsize=(6, 6))\n",
    "#     class_labels = ['normal', 'mild', 'moderate', 'severe']\n",
    "#     im = ax.imshow(cm_normalized, interpolation='nearest', cmap='Blues')\n",
    "    \n",
    "#     # Add colorbar\n",
    "#     cbar = ax.figure.colorbar(im, ax=ax)\n",
    "#     cbar.ax.set_ylabel('Percentage', rotation=-90, va=\"bottom\")\n",
    "    \n",
    "#     # Show all ticks and label them with the respective list entries\n",
    "#     ax.set(xticks=np.arange(cm.shape[1]),\n",
    "#            yticks=np.arange(cm.shape[0]),\n",
    "#            xticklabels=class_labels, yticklabels=class_labels,\n",
    "#            title=model_name,\n",
    "#            ylabel='True label',\n",
    "#            xlabel='Predicted label')\n",
    "    \n",
    "#     # Rotate the tick labels and set their alignment.\n",
    "#     plt.setp(ax.get_xticklabels(), ha=\"right\",\n",
    "#              rotation_mode=\"anchor\")\n",
    "    \n",
    "#     # Loop over data dimensions and create text annotations.\n",
    "#     fmt = '.2f'  # Format for the percentages\n",
    "#     thresh = cm_normalized.max() / 2.\n",
    "#     for i in range(cm.shape[0]):\n",
    "#         for j in range(cm.shape[1]):\n",
    "#             ax.text(j, i, format(cm_normalized[i, j], fmt),\n",
    "#                     ha=\"center\", va=\"center\",\n",
    "#                     color=\"white\" if cm_normalized[i, j] > thresh else \"black\")\n",
    "    \n",
    "#     plt.show()"
   ]
  },
  {
   "cell_type": "code",
   "execution_count": 3,
   "id": "f649ab4f-0ad2-4776-8ad4-81e88056ed6b",
   "metadata": {},
   "outputs": [],
   "source": [
    "# def read_csv_file(file_path):\n",
    "#     try:\n",
    "#         return pd.read_csv(file_path, encoding='utf-8')\n",
    "#     except UnicodeDecodeError:\n",
    "#         return pd.read_csv(file_path, encoding='latin1')\n",
    "\n",
    "\n",
    "# def correlation(dataset, threshold):\n",
    "#     col_corr = set()  # Set of all the names of correlated columns\n",
    "#     corr_matrix = dataset.corr()\n",
    "#     for i in range(len(corr_matrix.columns)):\n",
    "#         for j in range(i):\n",
    "#             if abs(corr_matrix.iloc[i, j]) > threshold: # we are interested in absolute coeff value\n",
    "#                 colname = corr_matrix.columns[i]  # getting the name of column\n",
    "#                 col_corr.add(colname)\n",
    "#     return col_corr\n",
    "\n",
    "# def Encoding(df):\n",
    "#     # Create the ncoder variable\n",
    "#     encoder = LabelEncoder()\n",
    "#     cat_df = df.select_dtypes(include=['object'])\n",
    "#     for i in cat_df:\n",
    "#         # fit the categoral feature to the encoding method\n",
    "#         df[i] = encoder.fit_transform(df[i]) \n",
    "#     return df\n",
    "\n",
    "# def MissingValueHandling(merged_df):\n",
    "#     null_col =  dict(merged_df.isnull().sum()) \n",
    "#     missing_data = []\n",
    "#     for key, value in null_col.items():\n",
    "#         if (value != 0):\n",
    "#             missing_data.append(key) \n",
    "#     print(\"Missing Values Column:\", null_col)\n",
    "#     for i in missing_data:\n",
    "#         fill_list = merged_df[i].dropna().tolist()\n",
    "#         merged_df[i] = merged_df[i].fillna(pd.Series(np.random.choice(fill_list , size = len(merged_df.index))))\n",
    "#     return merged_df\n",
    "    \n",
    "# # Function to train and evaluate models\n",
    "# def train_and_evaluate(model, model_name, X_train_scaled, y_train, X_test_scaled, y_test):\n",
    "#     model.fit(X_train_scaled, y_train)\n",
    "#     train_accuracy = model.score(X_train_scaled, y_train) * 100\n",
    "#     test_accuracy = model.score(X_test_scaled, y_test) * 100\n",
    "#     # y_pred = model.predict(X_test_scaled)\n",
    "#     # accuracy = accuracy_score(y_test, y_pred)\n",
    "    \n",
    "#     print(f\"{model_name} Training Accuracy: {train_accuracy:.2f}\")\n",
    "#     print(f\"{model_name} Testing Accuracy: {test_accuracy:.2f}\")\n",
    "#     # print(f\"{model_name} Model Accuracy: {accuracy:.2f}\")\n",
    "    \n",
    "\n",
    "\n",
    "# def evaluate_classification_model(model, X_test, y_test):\n",
    "#     # Make predictions on the test set\n",
    "#     y_pred = model.predict(X_test)\n",
    "\n",
    "#     # Compute evaluation metrics\n",
    "#     accuracy = accuracy_score(y_test, y_pred)\n",
    "#     precision = precision_score(y_test, y_pred, average='weighted')\n",
    "#     recall = recall_score(y_test, y_pred, average='weighted')\n",
    "#     f1 = f1_score(y_test, y_pred, average='weighted')\n",
    "#     cm = confusion_matrix(y_test, y_pred)\n",
    "\n",
    "#     # Print the evaluation metrics\n",
    "#     print(\"Precision:\", precision)\n",
    "#     print(\"Recall:\", recall)\n",
    "#     print(\"F1-score:\", f1)\n",
    "\n",
    "#     # Plot the confusion matrix\n",
    "#     labels = np.unique(y_test)\n",
    "#     sns.heatmap(cm, annot=True, fmt='d', cmap='Blues', xticklabels=labels, yticklabels=labels)\n",
    "#     plt.title('Confusion Matrix')\n",
    "#     plt.xlabel('Predicted Label')\n",
    "#     plt.ylabel('True Label')\n",
    "#     plt.show()\n"
   ]
  },
  {
   "cell_type": "markdown",
   "id": "2b1e7e1e-a27c-4614-97d6-68fd013af260",
   "metadata": {},
   "source": [
    "## File Paths:"
   ]
  },
  {
   "cell_type": "code",
   "execution_count": 3,
   "id": "e9c91be2-4040-409a-87f8-af2e5c2ed48a",
   "metadata": {},
   "outputs": [
    {
     "data": {
      "text/html": [
       "<div>\n",
       "<style scoped>\n",
       "    .dataframe tbody tr th:only-of-type {\n",
       "        vertical-align: middle;\n",
       "    }\n",
       "\n",
       "    .dataframe tbody tr th {\n",
       "        vertical-align: top;\n",
       "    }\n",
       "\n",
       "    .dataframe thead th {\n",
       "        text-align: right;\n",
       "    }\n",
       "</style>\n",
       "<table border=\"1\" class=\"dataframe\">\n",
       "  <thead>\n",
       "    <tr style=\"text-align: right;\">\n",
       "      <th></th>\n",
       "      <th>patient_id</th>\n",
       "      <th>swing_time_max</th>\n",
       "      <th>swing_time_min</th>\n",
       "      <th>stance_time_max</th>\n",
       "      <th>stance_time_min</th>\n",
       "      <th>stride_time_max</th>\n",
       "      <th>stride_time_min</th>\n",
       "      <th>strike_angle</th>\n",
       "      <th>mean_hs_angle</th>\n",
       "      <th>mean_to_angle</th>\n",
       "      <th>...</th>\n",
       "      <th>powerY_ 3_C</th>\n",
       "      <th>powerY_ 4_C</th>\n",
       "      <th>powerY_ 5_C</th>\n",
       "      <th>powerY_ 6_C</th>\n",
       "      <th>powerZ_ 1_C</th>\n",
       "      <th>powerZ_ 2_C</th>\n",
       "      <th>powerZ_ 3_C</th>\n",
       "      <th>powerZ_ 4_C</th>\n",
       "      <th>powerZ_ 5_C</th>\n",
       "      <th>powerZ_ 6_C</th>\n",
       "    </tr>\n",
       "  </thead>\n",
       "  <tbody>\n",
       "    <tr>\n",
       "      <th>0</th>\n",
       "      <td>1</td>\n",
       "      <td>1.04</td>\n",
       "      <td>0.46</td>\n",
       "      <td>1.18</td>\n",
       "      <td>0.81</td>\n",
       "      <td>1.99</td>\n",
       "      <td>1.31</td>\n",
       "      <td>24.491429</td>\n",
       "      <td>24.000000</td>\n",
       "      <td>38.840000</td>\n",
       "      <td>...</td>\n",
       "      <td>1040.211971</td>\n",
       "      <td>73.481629</td>\n",
       "      <td>141.905164</td>\n",
       "      <td>10.216969</td>\n",
       "      <td>1.571939e+06</td>\n",
       "      <td>607.747259</td>\n",
       "      <td>533.161447</td>\n",
       "      <td>2633.837158</td>\n",
       "      <td>3055.918834</td>\n",
       "      <td>173.842186</td>\n",
       "    </tr>\n",
       "    <tr>\n",
       "      <th>1</th>\n",
       "      <td>1</td>\n",
       "      <td>1.22</td>\n",
       "      <td>0.42</td>\n",
       "      <td>1.39</td>\n",
       "      <td>0.08</td>\n",
       "      <td>2.24</td>\n",
       "      <td>0.53</td>\n",
       "      <td>21.702500</td>\n",
       "      <td>21.227143</td>\n",
       "      <td>34.982857</td>\n",
       "      <td>...</td>\n",
       "      <td>1964.301772</td>\n",
       "      <td>816.673624</td>\n",
       "      <td>404.261715</td>\n",
       "      <td>228.916362</td>\n",
       "      <td>2.954191e+06</td>\n",
       "      <td>109.416956</td>\n",
       "      <td>2606.851615</td>\n",
       "      <td>10.729508</td>\n",
       "      <td>5185.243035</td>\n",
       "      <td>25.271313</td>\n",
       "    </tr>\n",
       "    <tr>\n",
       "      <th>2</th>\n",
       "      <td>1</td>\n",
       "      <td>1.01</td>\n",
       "      <td>0.42</td>\n",
       "      <td>1.01</td>\n",
       "      <td>0.23</td>\n",
       "      <td>2.02</td>\n",
       "      <td>0.65</td>\n",
       "      <td>18.201429</td>\n",
       "      <td>17.451667</td>\n",
       "      <td>32.843333</td>\n",
       "      <td>...</td>\n",
       "      <td>4199.071301</td>\n",
       "      <td>3488.940407</td>\n",
       "      <td>113.009892</td>\n",
       "      <td>760.522046</td>\n",
       "      <td>1.902485e+06</td>\n",
       "      <td>860.193745</td>\n",
       "      <td>304.164403</td>\n",
       "      <td>12119.034787</td>\n",
       "      <td>1532.932283</td>\n",
       "      <td>537.452090</td>\n",
       "    </tr>\n",
       "    <tr>\n",
       "      <th>3</th>\n",
       "      <td>10</td>\n",
       "      <td>0.90</td>\n",
       "      <td>0.43</td>\n",
       "      <td>0.85</td>\n",
       "      <td>0.52</td>\n",
       "      <td>1.61</td>\n",
       "      <td>1.00</td>\n",
       "      <td>12.638571</td>\n",
       "      <td>11.700000</td>\n",
       "      <td>27.365000</td>\n",
       "      <td>...</td>\n",
       "      <td>753.474303</td>\n",
       "      <td>535.838457</td>\n",
       "      <td>105.252777</td>\n",
       "      <td>182.907451</td>\n",
       "      <td>9.738762e+05</td>\n",
       "      <td>2350.306948</td>\n",
       "      <td>2954.338341</td>\n",
       "      <td>2614.545432</td>\n",
       "      <td>1978.834077</td>\n",
       "      <td>105.690189</td>\n",
       "    </tr>\n",
       "    <tr>\n",
       "      <th>4</th>\n",
       "      <td>10</td>\n",
       "      <td>0.61</td>\n",
       "      <td>0.36</td>\n",
       "      <td>0.86</td>\n",
       "      <td>0.34</td>\n",
       "      <td>1.43</td>\n",
       "      <td>0.95</td>\n",
       "      <td>16.573750</td>\n",
       "      <td>17.008571</td>\n",
       "      <td>28.935714</td>\n",
       "      <td>...</td>\n",
       "      <td>442.169719</td>\n",
       "      <td>431.027909</td>\n",
       "      <td>176.619568</td>\n",
       "      <td>75.768927</td>\n",
       "      <td>1.519685e+06</td>\n",
       "      <td>72.975955</td>\n",
       "      <td>462.167270</td>\n",
       "      <td>1289.025156</td>\n",
       "      <td>711.321877</td>\n",
       "      <td>26.048736</td>\n",
       "    </tr>\n",
       "  </tbody>\n",
       "</table>\n",
       "<p>5 rows × 56 columns</p>\n",
       "</div>"
      ],
      "text/plain": [
       "   patient_id  swing_time_max  swing_time_min  stance_time_max  \\\n",
       "0           1            1.04            0.46             1.18   \n",
       "1           1            1.22            0.42             1.39   \n",
       "2           1            1.01            0.42             1.01   \n",
       "3          10            0.90            0.43             0.85   \n",
       "4          10            0.61            0.36             0.86   \n",
       "\n",
       "   stance_time_min  stride_time_max  stride_time_min  strike_angle  \\\n",
       "0             0.81             1.99             1.31     24.491429   \n",
       "1             0.08             2.24             0.53     21.702500   \n",
       "2             0.23             2.02             0.65     18.201429   \n",
       "3             0.52             1.61             1.00     12.638571   \n",
       "4             0.34             1.43             0.95     16.573750   \n",
       "\n",
       "   mean_hs_angle  mean_to_angle  ...  powerY_ 3_C  powerY_ 4_C  powerY_ 5_C  \\\n",
       "0      24.000000      38.840000  ...  1040.211971    73.481629   141.905164   \n",
       "1      21.227143      34.982857  ...  1964.301772   816.673624   404.261715   \n",
       "2      17.451667      32.843333  ...  4199.071301  3488.940407   113.009892   \n",
       "3      11.700000      27.365000  ...   753.474303   535.838457   105.252777   \n",
       "4      17.008571      28.935714  ...   442.169719   431.027909   176.619568   \n",
       "\n",
       "   powerY_ 6_C   powerZ_ 1_C  powerZ_ 2_C  powerZ_ 3_C   powerZ_ 4_C  \\\n",
       "0    10.216969  1.571939e+06   607.747259   533.161447   2633.837158   \n",
       "1   228.916362  2.954191e+06   109.416956  2606.851615     10.729508   \n",
       "2   760.522046  1.902485e+06   860.193745   304.164403  12119.034787   \n",
       "3   182.907451  9.738762e+05  2350.306948  2954.338341   2614.545432   \n",
       "4    75.768927  1.519685e+06    72.975955   462.167270   1289.025156   \n",
       "\n",
       "   powerZ_ 5_C  powerZ_ 6_C  \n",
       "0  3055.918834   173.842186  \n",
       "1  5185.243035    25.271313  \n",
       "2  1532.932283   537.452090  \n",
       "3  1978.834077   105.690189  \n",
       "4   711.321877    26.048736  \n",
       "\n",
       "[5 rows x 56 columns]"
      ]
     },
     "execution_count": 3,
     "metadata": {},
     "output_type": "execute_result"
    }
   ],
   "source": [
    "womac_path = \"../csv/data_training/Aparameters_24.csv\"\n",
    "features_path = \"../csv/data_training/AllFeatures.csv\"\n",
    "\n",
    "wdf = f.read_csv_file(womac_path)\n",
    "fdf = f.read_csv_file(features_path)\n",
    "\n",
    "fdf.columns = fdf.columns.str.strip()\n",
    "wdf.columns = wdf.columns.str.strip()\n",
    "\n",
    "assert 'patient_id' in fdf.columns, \"'patient_id' not found in fdf columns\"\n",
    "assert 'patient_id' in wdf.columns, \"'patient_id' not found in wdf columns\"\n",
    "\n",
    "fdf.head()\n",
    "# wdf.head()"
   ]
  },
  {
   "cell_type": "markdown",
   "id": "7f02c845-bc9f-4f97-aa18-ff1efa37be19",
   "metadata": {},
   "source": [
    "# Preprocessing:"
   ]
  },
  {
   "cell_type": "markdown",
   "id": "0da73c5b-7492-449d-b737-48a454c36400",
   "metadata": {},
   "source": [
    "## Merging two Dataframes"
   ]
  },
  {
   "cell_type": "code",
   "execution_count": 5,
   "id": "46a79e1b-98da-4c9d-8b45-5d017ed31757",
   "metadata": {},
   "outputs": [
    {
     "name": "stdout",
     "output_type": "stream",
     "text": [
      "trials: {11: 5, 17: 4, 18: 4, 23: 4, 22: 4, 21: 4, 20: 4, 7: 4, 8: 4, 6: 4, 16: 4, 15: 4, 14: 4, 13: 4, 12: 4, 5: 3, 1: 3, 2: 3, 3: 3, 10: 3, 19: 3, 9: 3, 4: 2}\n",
      "features df shape: (84, 56)\n",
      "all df shape: (84, 8)\n"
     ]
    },
    {
     "data": {
      "text/plain": [
       "(84, 63)"
      ]
     },
     "execution_count": 5,
     "metadata": {},
     "output_type": "execute_result"
    }
   ],
   "source": [
    "# Get the count of trials per patient\n",
    "trials_counts = fdf['patient_id'].value_counts().to_dict()\n",
    "print(\"trials:\", trials_counts)\n",
    "# Expand the anthropometric data\n",
    "expanded_wdf = wdf.loc[\n",
    "    wdf.index.repeat(wdf['patient_id'].map(trials_counts))\n",
    "].reset_index(drop=True)\n",
    "print(\"features df shape:\", fdf.shape)\n",
    "print(\"all df shape:\", expanded_wdf.shape)\n",
    "\n",
    "merged_df = pd.merge(fdf, wdf, on='patient_id', how='left')\n",
    "merged_df.shape"
   ]
  },
  {
   "cell_type": "code",
   "execution_count": 9,
   "id": "c7e39cae-bb6e-4da0-9be3-170208a2d472",
   "metadata": {},
   "outputs": [],
   "source": [
    "def MergeTwoDataFrame(df1, df2, col_name):\n",
    "    # Get the count of trials per patient\n",
    "    trials_counts = df1[col_name].value_counts().to_dict()\n",
    "    # print(\"trials:\", trials_counts)\n",
    "    # Expand the anthropometric data\n",
    "    expanded_wdf = df2.loc[\n",
    "        df2.index.repeat(df2[col_name].map(trials_counts))\n",
    "    ].reset_index(drop=True)\n",
    "    merged_df = pd.merge(df1, df2, on = col_name, how = 'left')\n",
    "    if (fdf.shape[0] == merged_df.shape[0]):\n",
    "        print(\"Merged succesfully\")\n",
    "    return merged_df"
   ]
  },
  {
   "cell_type": "code",
   "execution_count": 10,
   "id": "027f108f-651a-427d-90db-bb4972c1f37d",
   "metadata": {},
   "outputs": [
    {
     "name": "stdout",
     "output_type": "stream",
     "text": [
      "Merged succesfully\n"
     ]
    },
    {
     "data": {
      "text/html": [
       "<div>\n",
       "<style scoped>\n",
       "    .dataframe tbody tr th:only-of-type {\n",
       "        vertical-align: middle;\n",
       "    }\n",
       "\n",
       "    .dataframe tbody tr th {\n",
       "        vertical-align: top;\n",
       "    }\n",
       "\n",
       "    .dataframe thead th {\n",
       "        text-align: right;\n",
       "    }\n",
       "</style>\n",
       "<table border=\"1\" class=\"dataframe\">\n",
       "  <thead>\n",
       "    <tr style=\"text-align: right;\">\n",
       "      <th></th>\n",
       "      <th>patient_id</th>\n",
       "      <th>swing_time_max</th>\n",
       "      <th>swing_time_min</th>\n",
       "      <th>stance_time_max</th>\n",
       "      <th>stance_time_min</th>\n",
       "      <th>stride_time_max</th>\n",
       "      <th>stride_time_min</th>\n",
       "      <th>strike_angle</th>\n",
       "      <th>mean_hs_angle</th>\n",
       "      <th>mean_to_angle</th>\n",
       "      <th>...</th>\n",
       "      <th>powerZ_ 4_C</th>\n",
       "      <th>powerZ_ 5_C</th>\n",
       "      <th>powerZ_ 6_C</th>\n",
       "      <th>name</th>\n",
       "      <th>gender</th>\n",
       "      <th>leg</th>\n",
       "      <th>age</th>\n",
       "      <th>BMI</th>\n",
       "      <th>total_score</th>\n",
       "      <th>severity</th>\n",
       "    </tr>\n",
       "  </thead>\n",
       "  <tbody>\n",
       "    <tr>\n",
       "      <th>0</th>\n",
       "      <td>1</td>\n",
       "      <td>1.04</td>\n",
       "      <td>0.46</td>\n",
       "      <td>1.18</td>\n",
       "      <td>0.81</td>\n",
       "      <td>1.99</td>\n",
       "      <td>1.31</td>\n",
       "      <td>24.491429</td>\n",
       "      <td>24.000000</td>\n",
       "      <td>38.840000</td>\n",
       "      <td>...</td>\n",
       "      <td>2633.837158</td>\n",
       "      <td>3055.918834</td>\n",
       "      <td>173.842186</td>\n",
       "      <td>marwa abdelaly</td>\n",
       "      <td>f</td>\n",
       "      <td>right</td>\n",
       "      <td>40.0</td>\n",
       "      <td>35.755956</td>\n",
       "      <td>33</td>\n",
       "      <td>mild</td>\n",
       "    </tr>\n",
       "    <tr>\n",
       "      <th>1</th>\n",
       "      <td>1</td>\n",
       "      <td>1.22</td>\n",
       "      <td>0.42</td>\n",
       "      <td>1.39</td>\n",
       "      <td>0.08</td>\n",
       "      <td>2.24</td>\n",
       "      <td>0.53</td>\n",
       "      <td>21.702500</td>\n",
       "      <td>21.227143</td>\n",
       "      <td>34.982857</td>\n",
       "      <td>...</td>\n",
       "      <td>10.729508</td>\n",
       "      <td>5185.243035</td>\n",
       "      <td>25.271313</td>\n",
       "      <td>marwa abdelaly</td>\n",
       "      <td>f</td>\n",
       "      <td>right</td>\n",
       "      <td>40.0</td>\n",
       "      <td>35.755956</td>\n",
       "      <td>33</td>\n",
       "      <td>mild</td>\n",
       "    </tr>\n",
       "    <tr>\n",
       "      <th>2</th>\n",
       "      <td>1</td>\n",
       "      <td>1.01</td>\n",
       "      <td>0.42</td>\n",
       "      <td>1.01</td>\n",
       "      <td>0.23</td>\n",
       "      <td>2.02</td>\n",
       "      <td>0.65</td>\n",
       "      <td>18.201429</td>\n",
       "      <td>17.451667</td>\n",
       "      <td>32.843333</td>\n",
       "      <td>...</td>\n",
       "      <td>12119.034787</td>\n",
       "      <td>1532.932283</td>\n",
       "      <td>537.452090</td>\n",
       "      <td>marwa abdelaly</td>\n",
       "      <td>f</td>\n",
       "      <td>right</td>\n",
       "      <td>40.0</td>\n",
       "      <td>35.755956</td>\n",
       "      <td>33</td>\n",
       "      <td>mild</td>\n",
       "    </tr>\n",
       "    <tr>\n",
       "      <th>3</th>\n",
       "      <td>10</td>\n",
       "      <td>0.90</td>\n",
       "      <td>0.43</td>\n",
       "      <td>0.85</td>\n",
       "      <td>0.52</td>\n",
       "      <td>1.61</td>\n",
       "      <td>1.00</td>\n",
       "      <td>12.638571</td>\n",
       "      <td>11.700000</td>\n",
       "      <td>27.365000</td>\n",
       "      <td>...</td>\n",
       "      <td>2614.545432</td>\n",
       "      <td>1978.834077</td>\n",
       "      <td>105.690189</td>\n",
       "      <td>rehab helmy</td>\n",
       "      <td>m</td>\n",
       "      <td>right</td>\n",
       "      <td>35.0</td>\n",
       "      <td>29.136316</td>\n",
       "      <td>22</td>\n",
       "      <td>normal</td>\n",
       "    </tr>\n",
       "    <tr>\n",
       "      <th>4</th>\n",
       "      <td>10</td>\n",
       "      <td>0.61</td>\n",
       "      <td>0.36</td>\n",
       "      <td>0.86</td>\n",
       "      <td>0.34</td>\n",
       "      <td>1.43</td>\n",
       "      <td>0.95</td>\n",
       "      <td>16.573750</td>\n",
       "      <td>17.008571</td>\n",
       "      <td>28.935714</td>\n",
       "      <td>...</td>\n",
       "      <td>1289.025156</td>\n",
       "      <td>711.321877</td>\n",
       "      <td>26.048736</td>\n",
       "      <td>rehab helmy</td>\n",
       "      <td>m</td>\n",
       "      <td>right</td>\n",
       "      <td>35.0</td>\n",
       "      <td>29.136316</td>\n",
       "      <td>22</td>\n",
       "      <td>normal</td>\n",
       "    </tr>\n",
       "  </tbody>\n",
       "</table>\n",
       "<p>5 rows × 63 columns</p>\n",
       "</div>"
      ],
      "text/plain": [
       "   patient_id  swing_time_max  swing_time_min  stance_time_max  \\\n",
       "0           1            1.04            0.46             1.18   \n",
       "1           1            1.22            0.42             1.39   \n",
       "2           1            1.01            0.42             1.01   \n",
       "3          10            0.90            0.43             0.85   \n",
       "4          10            0.61            0.36             0.86   \n",
       "\n",
       "   stance_time_min  stride_time_max  stride_time_min  strike_angle  \\\n",
       "0             0.81             1.99             1.31     24.491429   \n",
       "1             0.08             2.24             0.53     21.702500   \n",
       "2             0.23             2.02             0.65     18.201429   \n",
       "3             0.52             1.61             1.00     12.638571   \n",
       "4             0.34             1.43             0.95     16.573750   \n",
       "\n",
       "   mean_hs_angle  mean_to_angle  ...   powerZ_ 4_C  powerZ_ 5_C  powerZ_ 6_C  \\\n",
       "0      24.000000      38.840000  ...   2633.837158  3055.918834   173.842186   \n",
       "1      21.227143      34.982857  ...     10.729508  5185.243035    25.271313   \n",
       "2      17.451667      32.843333  ...  12119.034787  1532.932283   537.452090   \n",
       "3      11.700000      27.365000  ...   2614.545432  1978.834077   105.690189   \n",
       "4      17.008571      28.935714  ...   1289.025156   711.321877    26.048736   \n",
       "\n",
       "             name  gender    leg   age        BMI  total_score  severity  \n",
       "0  marwa abdelaly       f  right  40.0  35.755956           33      mild  \n",
       "1  marwa abdelaly       f  right  40.0  35.755956           33      mild  \n",
       "2  marwa abdelaly       f  right  40.0  35.755956           33      mild  \n",
       "3     rehab helmy       m  right  35.0  29.136316           22    normal  \n",
       "4     rehab helmy       m  right  35.0  29.136316           22    normal  \n",
       "\n",
       "[5 rows x 63 columns]"
      ]
     },
     "execution_count": 10,
     "metadata": {},
     "output_type": "execute_result"
    }
   ],
   "source": [
    "merged_df = f.MergeTwoDataFrame(fdf, wdf, \"patient_id\")\n",
    "merged_df.head()"
   ]
  },
  {
   "cell_type": "markdown",
   "id": "c7f3d598-ecea-4721-8001-1fdd9f55da84",
   "metadata": {},
   "source": [
    "## Missing Data Handling"
   ]
  },
  {
   "cell_type": "code",
   "execution_count": 21,
   "id": "e06dc0ba-1734-474c-a7f0-2c4cb04d89df",
   "metadata": {},
   "outputs": [
    {
     "name": "stdout",
     "output_type": "stream",
     "text": [
      "the columns that contain null values: []\n",
      "Missing values handled\n"
     ]
    }
   ],
   "source": [
    "merged_df = f.MissingValueHandling(merged_df)"
   ]
  },
  {
   "cell_type": "markdown",
   "id": "47eaac1b-fb22-4c45-9fb0-eb622dd644b6",
   "metadata": {},
   "source": [
    "## Encoding Categorical Data:"
   ]
  },
  {
   "cell_type": "code",
   "execution_count": 7,
   "id": "ecaf184d-77dc-407f-a3c6-c401367875c1",
   "metadata": {},
   "outputs": [
    {
     "name": "stdout",
     "output_type": "stream",
     "text": [
      "Severity before Encoding:\n",
      "{'normal': 33, 'severe': 21, 'mild': 16, 'moderate': 14}\n",
      "Severity after Encoding:\n"
     ]
    },
    {
     "data": {
      "text/plain": [
       "{2: 33, 3: 21, 0: 16, 1: 14}"
      ]
     },
     "execution_count": 7,
     "metadata": {},
     "output_type": "execute_result"
    }
   ],
   "source": [
    "merged_df = f.Encoding(merged_df)\n",
    "    \n",
    "# Check that the value transformed successfully \n",
    "print('Severity after Encoding:')\n",
    "dict(merged_df['severity'].value_counts())"
   ]
  },
  {
   "cell_type": "markdown",
   "id": "0c126a98-6c64-44f1-bde3-e652839f6402",
   "metadata": {},
   "source": [
    "## Drop Extra Columns and splitting data from target"
   ]
  },
  {
   "cell_type": "code",
   "execution_count": 23,
   "id": "0143a04b-2c97-43ac-813c-b39de9107659",
   "metadata": {},
   "outputs": [
    {
     "data": {
      "text/plain": [
       "(67, 58)"
      ]
     },
     "execution_count": 23,
     "metadata": {},
     "output_type": "execute_result"
    }
   ],
   "source": [
    "merged_df = shuffle(merged_df, random_state = random_seed)\n",
    "\n",
    "columns_to_drop = ['patient_id', 'total_score', 'name', 'leg', 'severity']\n",
    "\n",
    "X = merged_df.drop(columns = columns_to_drop, axis = 1)  \n",
    "y = merged_df['severity']  \n",
    "\n",
    "X_train, X_test, y_train, y_test = train_test_split(X, y, test_size=0.2, random_state=random_seed)\n",
    "X_train.shape"
   ]
  },
  {
   "cell_type": "markdown",
   "id": "a821ae2c-57fb-4304-b0f8-16efb2034b24",
   "metadata": {},
   "source": [
    "# Feature Selection"
   ]
  },
  {
   "cell_type": "markdown",
   "id": "5a95ec96-fbe6-47ba-9f4c-554e73278090",
   "metadata": {},
   "source": [
    "## Filter Method"
   ]
  },
  {
   "cell_type": "code",
   "execution_count": 24,
   "id": "684fae86-7f17-4e8e-8122-3461a95e5529",
   "metadata": {},
   "outputs": [],
   "source": [
    "def PlottingfeatureImportance(features, score, x_label, y_label, title):\n",
    "    # Plot feature importance\n",
    "    plt.figure(figsize=(12, 12))\n",
    "    plt.barh(features, score, color='teal')\n",
    "    plt.xlabel(x_label)\n",
    "    plt.ylabel(y_label)\n",
    "    plt.title(title)\n",
    "    plt.gca().invert_yaxis()  # To display the highest scores at the top\n",
    "    # Save the plot as an image\n",
    "    # plt.savefig('important_img/Gain_feature_importance.png', format='png', dpi=300, bbox_inches='tight')\n",
    "    plt.show()"
   ]
  },
  {
   "cell_type": "code",
   "execution_count": 26,
   "id": "c39c7d6c-11b9-46bc-bbb2-26cf59cf247e",
   "metadata": {},
   "outputs": [
    {
     "name": "stdout",
     "output_type": "stream",
     "text": [
      "4 7\n"
     ]
    }
   ],
   "source": [
    "a, b = 4, 7\n",
    "print(a,b)"
   ]
  },
  {
   "cell_type": "code",
   "execution_count": 25,
   "id": "38aa5655-c8c4-4f25-8510-a58265784f94",
   "metadata": {},
   "outputs": [
    {
     "ename": "ValueError",
     "evalue": "could not convert string to float: 'f'",
     "output_type": "error",
     "traceback": [
      "\u001b[1;31m---------------------------------------------------------------------------\u001b[0m",
      "\u001b[1;31mValueError\u001b[0m                                Traceback (most recent call last)",
      "\u001b[1;32m~\\AppData\\Local\\Temp\\ipykernel_22896\\360739459.py\u001b[0m in \u001b[0;36m?\u001b[1;34m()\u001b[0m\n\u001b[0;32m      1\u001b[0m \u001b[1;31m###################################################### Information Gain ######################################################\u001b[0m\u001b[1;33m\u001b[0m\u001b[1;33m\u001b[0m\u001b[0m\n\u001b[1;32m----> 2\u001b[1;33m \u001b[0mmi_scores\u001b[0m \u001b[1;33m=\u001b[0m \u001b[0mmutual_info_classif\u001b[0m\u001b[1;33m(\u001b[0m\u001b[0mX\u001b[0m\u001b[1;33m,\u001b[0m \u001b[0my\u001b[0m\u001b[1;33m)\u001b[0m\u001b[1;33m\u001b[0m\u001b[1;33m\u001b[0m\u001b[0m\n\u001b[0m\u001b[0;32m      3\u001b[0m \u001b[0mmi_scores_df\u001b[0m \u001b[1;33m=\u001b[0m \u001b[0mpd\u001b[0m\u001b[1;33m.\u001b[0m\u001b[0mDataFrame\u001b[0m\u001b[1;33m(\u001b[0m\u001b[1;33m{\u001b[0m\u001b[1;34m'Feature'\u001b[0m\u001b[1;33m:\u001b[0m \u001b[0mX\u001b[0m\u001b[1;33m.\u001b[0m\u001b[0mcolumns\u001b[0m\u001b[1;33m,\u001b[0m \u001b[1;34m'MI Score'\u001b[0m\u001b[1;33m:\u001b[0m \u001b[0mmi_scores\u001b[0m\u001b[1;33m}\u001b[0m\u001b[1;33m)\u001b[0m\u001b[1;33m\u001b[0m\u001b[1;33m\u001b[0m\u001b[0m\n\u001b[0;32m      4\u001b[0m \u001b[1;31m# Sort features by their mutual information scores\u001b[0m\u001b[1;33m\u001b[0m\u001b[1;33m\u001b[0m\u001b[0m\n\u001b[0;32m      5\u001b[0m \u001b[0mmi_scores_df\u001b[0m \u001b[1;33m=\u001b[0m \u001b[0mmi_scores_df\u001b[0m\u001b[1;33m.\u001b[0m\u001b[0msort_values\u001b[0m\u001b[1;33m(\u001b[0m\u001b[0mby\u001b[0m\u001b[1;33m=\u001b[0m\u001b[1;34m'MI Score'\u001b[0m\u001b[1;33m,\u001b[0m \u001b[0mascending\u001b[0m\u001b[1;33m=\u001b[0m\u001b[1;32mFalse\u001b[0m\u001b[1;33m)\u001b[0m\u001b[1;33m\u001b[0m\u001b[1;33m\u001b[0m\u001b[0m\n",
      "\u001b[1;32m~\\anaconda3\\Lib\\site-packages\\sklearn\\feature_selection\\_mutual_info.py\u001b[0m in \u001b[0;36m?\u001b[1;34m(X, y, discrete_features, n_neighbors, copy, random_state)\u001b[0m\n\u001b[0;32m    464\u001b[0m     \u001b[1;33m.\u001b[0m\u001b[1;33m.\u001b[0m \u001b[1;33m[\u001b[0m\u001b[1;36m4\u001b[0m\u001b[1;33m]\u001b[0m \u001b[0mL\u001b[0m\u001b[1;33m.\u001b[0m \u001b[0mF\u001b[0m\u001b[1;33m.\u001b[0m \u001b[0mKozachenko\u001b[0m\u001b[1;33m,\u001b[0m \u001b[0mN\u001b[0m\u001b[1;33m.\u001b[0m \u001b[0mN\u001b[0m\u001b[1;33m.\u001b[0m \u001b[0mLeonenko\u001b[0m\u001b[1;33m,\u001b[0m\u001b[0;31m \u001b[0m\u001b[0;31m\"\u001b[0m\u001b[0mSample\u001b[0m \u001b[0mEstimate\u001b[0m \u001b[0mof\u001b[0m \u001b[0mthe\u001b[0m \u001b[0mEntropy\u001b[0m\u001b[1;33m\u001b[0m\u001b[1;33m\u001b[0m\u001b[0m\n\u001b[0;32m    465\u001b[0m            \u001b[0mof\u001b[0m \u001b[0ma\u001b[0m \u001b[0mRandom\u001b[0m \u001b[0mVector\u001b[0m\u001b[1;33m:\u001b[0m\u001b[1;33m,\u001b[0m \u001b[0mProbl\u001b[0m\u001b[1;33m.\u001b[0m \u001b[0mPeredachi\u001b[0m \u001b[0mInf\u001b[0m\u001b[1;33m.\u001b[0m\u001b[1;33m,\u001b[0m \u001b[1;36m23\u001b[0m\u001b[1;33m:\u001b[0m\u001b[1;36m2\u001b[0m \u001b[1;33m(\u001b[0m\u001b[1;36m1987\u001b[0m\u001b[1;33m)\u001b[0m\u001b[1;33m,\u001b[0m \u001b[1;36m9\u001b[0m\u001b[1;33m-\u001b[0m\u001b[1;36m16\u001b[0m\u001b[1;33m\u001b[0m\u001b[1;33m\u001b[0m\u001b[0m\n\u001b[0;32m    466\u001b[0m     \"\"\"\n\u001b[0;32m    467\u001b[0m     \u001b[0mcheck_classification_targets\u001b[0m\u001b[1;33m(\u001b[0m\u001b[0my\u001b[0m\u001b[1;33m)\u001b[0m\u001b[1;33m\u001b[0m\u001b[1;33m\u001b[0m\u001b[0m\n\u001b[1;32m--> 468\u001b[1;33m     \u001b[1;32mreturn\u001b[0m \u001b[0m_estimate_mi\u001b[0m\u001b[1;33m(\u001b[0m\u001b[0mX\u001b[0m\u001b[1;33m,\u001b[0m \u001b[0my\u001b[0m\u001b[1;33m,\u001b[0m \u001b[0mdiscrete_features\u001b[0m\u001b[1;33m,\u001b[0m \u001b[1;32mTrue\u001b[0m\u001b[1;33m,\u001b[0m \u001b[0mn_neighbors\u001b[0m\u001b[1;33m,\u001b[0m \u001b[0mcopy\u001b[0m\u001b[1;33m,\u001b[0m \u001b[0mrandom_state\u001b[0m\u001b[1;33m)\u001b[0m\u001b[1;33m\u001b[0m\u001b[1;33m\u001b[0m\u001b[0m\n\u001b[0m",
      "\u001b[1;32m~\\anaconda3\\Lib\\site-packages\\sklearn\\feature_selection\\_mutual_info.py\u001b[0m in \u001b[0;36m?\u001b[1;34m(X, y, discrete_features, discrete_target, n_neighbors, copy, random_state)\u001b[0m\n\u001b[0;32m    251\u001b[0m            \u001b[0minformation\u001b[0m\u001b[0;31m\"\u001b[0m\u001b[1;33m.\u001b[0m \u001b[0mPhys\u001b[0m\u001b[1;33m.\u001b[0m \u001b[0mRev\u001b[0m\u001b[1;33m.\u001b[0m \u001b[0mE\u001b[0m \u001b[1;36m69\u001b[0m\u001b[1;33m,\u001b[0m \u001b[1;36m2004.\u001b[0m\u001b[1;33m\u001b[0m\u001b[1;33m\u001b[0m\u001b[0m\n\u001b[0;32m    252\u001b[0m     \u001b[1;33m.\u001b[0m\u001b[1;33m.\u001b[0m \u001b[1;33m[\u001b[0m\u001b[1;36m2\u001b[0m\u001b[1;33m]\u001b[0m \u001b[0mB\u001b[0m\u001b[1;33m.\u001b[0m \u001b[0mC\u001b[0m\u001b[1;33m.\u001b[0m \u001b[0mRoss\u001b[0m\u001b[0;31m \u001b[0m\u001b[0;31m\"\u001b[0m\u001b[0mMutual\u001b[0m \u001b[0mInformation\u001b[0m \u001b[0mbetween\u001b[0m \u001b[0mDiscrete\u001b[0m \u001b[1;32mand\u001b[0m \u001b[0mContinuous\u001b[0m\u001b[1;33m\u001b[0m\u001b[1;33m\u001b[0m\u001b[0m\n\u001b[0;32m    253\u001b[0m            \u001b[0mData\u001b[0m \u001b[0mSets\u001b[0m\u001b[0;31m\"\u001b[0m\u001b[1;33m.\u001b[0m \u001b[0mPLoS\u001b[0m \u001b[0mONE\u001b[0m \u001b[1;36m9\u001b[0m\u001b[1;33m(\u001b[0m\u001b[1;36m2\u001b[0m\u001b[1;33m)\u001b[0m\u001b[1;33m,\u001b[0m \u001b[1;36m2014.\u001b[0m\u001b[1;33m\u001b[0m\u001b[1;33m\u001b[0m\u001b[0m\n\u001b[0;32m    254\u001b[0m     \"\"\"\n\u001b[1;32m--> 255\u001b[1;33m     \u001b[0mX\u001b[0m\u001b[1;33m,\u001b[0m \u001b[0my\u001b[0m \u001b[1;33m=\u001b[0m \u001b[0mcheck_X_y\u001b[0m\u001b[1;33m(\u001b[0m\u001b[0mX\u001b[0m\u001b[1;33m,\u001b[0m \u001b[0my\u001b[0m\u001b[1;33m,\u001b[0m \u001b[0maccept_sparse\u001b[0m\u001b[1;33m=\u001b[0m\u001b[1;34m\"csc\"\u001b[0m\u001b[1;33m,\u001b[0m \u001b[0my_numeric\u001b[0m\u001b[1;33m=\u001b[0m\u001b[1;32mnot\u001b[0m \u001b[0mdiscrete_target\u001b[0m\u001b[1;33m)\u001b[0m\u001b[1;33m\u001b[0m\u001b[1;33m\u001b[0m\u001b[0m\n\u001b[0m\u001b[0;32m    256\u001b[0m     \u001b[0mn_samples\u001b[0m\u001b[1;33m,\u001b[0m \u001b[0mn_features\u001b[0m \u001b[1;33m=\u001b[0m \u001b[0mX\u001b[0m\u001b[1;33m.\u001b[0m\u001b[0mshape\u001b[0m\u001b[1;33m\u001b[0m\u001b[1;33m\u001b[0m\u001b[0m\n\u001b[0;32m    257\u001b[0m \u001b[1;33m\u001b[0m\u001b[0m\n\u001b[0;32m    258\u001b[0m     \u001b[1;32mif\u001b[0m \u001b[0misinstance\u001b[0m\u001b[1;33m(\u001b[0m\u001b[0mdiscrete_features\u001b[0m\u001b[1;33m,\u001b[0m \u001b[1;33m(\u001b[0m\u001b[0mstr\u001b[0m\u001b[1;33m,\u001b[0m \u001b[0mbool\u001b[0m\u001b[1;33m)\u001b[0m\u001b[1;33m)\u001b[0m\u001b[1;33m:\u001b[0m\u001b[1;33m\u001b[0m\u001b[1;33m\u001b[0m\u001b[0m\n",
      "\u001b[1;32m~\\anaconda3\\Lib\\site-packages\\sklearn\\utils\\validation.py\u001b[0m in \u001b[0;36m?\u001b[1;34m(X, y, accept_sparse, accept_large_sparse, dtype, order, copy, force_all_finite, ensure_2d, allow_nd, multi_output, ensure_min_samples, ensure_min_features, y_numeric, estimator)\u001b[0m\n\u001b[0;32m   1102\u001b[0m         raise ValueError(\n\u001b[0;32m   1103\u001b[0m             \u001b[1;34mf\"{estimator_name} requires y to be passed, but the target y is None\"\u001b[0m\u001b[1;33m\u001b[0m\u001b[1;33m\u001b[0m\u001b[0m\n\u001b[0;32m   1104\u001b[0m         )\n\u001b[0;32m   1105\u001b[0m \u001b[1;33m\u001b[0m\u001b[0m\n\u001b[1;32m-> 1106\u001b[1;33m     X = check_array(\n\u001b[0m\u001b[0;32m   1107\u001b[0m         \u001b[0mX\u001b[0m\u001b[1;33m,\u001b[0m\u001b[1;33m\u001b[0m\u001b[1;33m\u001b[0m\u001b[0m\n\u001b[0;32m   1108\u001b[0m         \u001b[0maccept_sparse\u001b[0m\u001b[1;33m=\u001b[0m\u001b[0maccept_sparse\u001b[0m\u001b[1;33m,\u001b[0m\u001b[1;33m\u001b[0m\u001b[1;33m\u001b[0m\u001b[0m\n\u001b[0;32m   1109\u001b[0m         \u001b[0maccept_large_sparse\u001b[0m\u001b[1;33m=\u001b[0m\u001b[0maccept_large_sparse\u001b[0m\u001b[1;33m,\u001b[0m\u001b[1;33m\u001b[0m\u001b[1;33m\u001b[0m\u001b[0m\n",
      "\u001b[1;32m~\\anaconda3\\Lib\\site-packages\\sklearn\\utils\\validation.py\u001b[0m in \u001b[0;36m?\u001b[1;34m(array, accept_sparse, accept_large_sparse, dtype, order, copy, force_all_finite, ensure_2d, allow_nd, ensure_min_samples, ensure_min_features, estimator, input_name)\u001b[0m\n\u001b[0;32m    876\u001b[0m                         )\n\u001b[0;32m    877\u001b[0m                     \u001b[0marray\u001b[0m \u001b[1;33m=\u001b[0m \u001b[0mxp\u001b[0m\u001b[1;33m.\u001b[0m\u001b[0mastype\u001b[0m\u001b[1;33m(\u001b[0m\u001b[0marray\u001b[0m\u001b[1;33m,\u001b[0m \u001b[0mdtype\u001b[0m\u001b[1;33m,\u001b[0m \u001b[0mcopy\u001b[0m\u001b[1;33m=\u001b[0m\u001b[1;32mFalse\u001b[0m\u001b[1;33m)\u001b[0m\u001b[1;33m\u001b[0m\u001b[1;33m\u001b[0m\u001b[0m\n\u001b[0;32m    878\u001b[0m                 \u001b[1;32melse\u001b[0m\u001b[1;33m:\u001b[0m\u001b[1;33m\u001b[0m\u001b[1;33m\u001b[0m\u001b[0m\n\u001b[0;32m    879\u001b[0m                     \u001b[0marray\u001b[0m \u001b[1;33m=\u001b[0m \u001b[0m_asarray_with_order\u001b[0m\u001b[1;33m(\u001b[0m\u001b[0marray\u001b[0m\u001b[1;33m,\u001b[0m \u001b[0morder\u001b[0m\u001b[1;33m=\u001b[0m\u001b[0morder\u001b[0m\u001b[1;33m,\u001b[0m \u001b[0mdtype\u001b[0m\u001b[1;33m=\u001b[0m\u001b[0mdtype\u001b[0m\u001b[1;33m,\u001b[0m \u001b[0mxp\u001b[0m\u001b[1;33m=\u001b[0m\u001b[0mxp\u001b[0m\u001b[1;33m)\u001b[0m\u001b[1;33m\u001b[0m\u001b[1;33m\u001b[0m\u001b[0m\n\u001b[1;32m--> 880\u001b[1;33m             \u001b[1;32mexcept\u001b[0m \u001b[0mComplexWarning\u001b[0m \u001b[1;32mas\u001b[0m \u001b[0mcomplex_warning\u001b[0m\u001b[1;33m:\u001b[0m\u001b[1;33m\u001b[0m\u001b[1;33m\u001b[0m\u001b[0m\n\u001b[0m\u001b[0;32m    881\u001b[0m                 raise ValueError(\n\u001b[0;32m    882\u001b[0m                     \u001b[1;34m\"Complex data not supported\\n{}\\n\"\u001b[0m\u001b[1;33m.\u001b[0m\u001b[0mformat\u001b[0m\u001b[1;33m(\u001b[0m\u001b[0marray\u001b[0m\u001b[1;33m)\u001b[0m\u001b[1;33m\u001b[0m\u001b[1;33m\u001b[0m\u001b[0m\n\u001b[0;32m    883\u001b[0m                 ) from complex_warning\n",
      "\u001b[1;32m~\\anaconda3\\Lib\\site-packages\\sklearn\\utils\\_array_api.py\u001b[0m in \u001b[0;36m?\u001b[1;34m(array, dtype, order, copy, xp)\u001b[0m\n\u001b[0;32m    181\u001b[0m     \u001b[1;32mif\u001b[0m \u001b[0mxp\u001b[0m \u001b[1;32mis\u001b[0m \u001b[1;32mNone\u001b[0m\u001b[1;33m:\u001b[0m\u001b[1;33m\u001b[0m\u001b[1;33m\u001b[0m\u001b[0m\n\u001b[0;32m    182\u001b[0m         \u001b[0mxp\u001b[0m\u001b[1;33m,\u001b[0m \u001b[0m_\u001b[0m \u001b[1;33m=\u001b[0m \u001b[0mget_namespace\u001b[0m\u001b[1;33m(\u001b[0m\u001b[0marray\u001b[0m\u001b[1;33m)\u001b[0m\u001b[1;33m\u001b[0m\u001b[1;33m\u001b[0m\u001b[0m\n\u001b[0;32m    183\u001b[0m     \u001b[1;32mif\u001b[0m \u001b[0mxp\u001b[0m\u001b[1;33m.\u001b[0m\u001b[0m__name__\u001b[0m \u001b[1;32min\u001b[0m \u001b[1;33m{\u001b[0m\u001b[1;34m\"numpy\"\u001b[0m\u001b[1;33m,\u001b[0m \u001b[1;34m\"numpy.array_api\"\u001b[0m\u001b[1;33m}\u001b[0m\u001b[1;33m:\u001b[0m\u001b[1;33m\u001b[0m\u001b[1;33m\u001b[0m\u001b[0m\n\u001b[0;32m    184\u001b[0m         \u001b[1;31m# Use NumPy API to support order\u001b[0m\u001b[1;33m\u001b[0m\u001b[1;33m\u001b[0m\u001b[0m\n\u001b[1;32m--> 185\u001b[1;33m         \u001b[0marray\u001b[0m \u001b[1;33m=\u001b[0m \u001b[0mnumpy\u001b[0m\u001b[1;33m.\u001b[0m\u001b[0masarray\u001b[0m\u001b[1;33m(\u001b[0m\u001b[0marray\u001b[0m\u001b[1;33m,\u001b[0m \u001b[0morder\u001b[0m\u001b[1;33m=\u001b[0m\u001b[0morder\u001b[0m\u001b[1;33m,\u001b[0m \u001b[0mdtype\u001b[0m\u001b[1;33m=\u001b[0m\u001b[0mdtype\u001b[0m\u001b[1;33m)\u001b[0m\u001b[1;33m\u001b[0m\u001b[1;33m\u001b[0m\u001b[0m\n\u001b[0m\u001b[0;32m    186\u001b[0m         \u001b[1;32mreturn\u001b[0m \u001b[0mxp\u001b[0m\u001b[1;33m.\u001b[0m\u001b[0masarray\u001b[0m\u001b[1;33m(\u001b[0m\u001b[0marray\u001b[0m\u001b[1;33m,\u001b[0m \u001b[0mcopy\u001b[0m\u001b[1;33m=\u001b[0m\u001b[0mcopy\u001b[0m\u001b[1;33m)\u001b[0m\u001b[1;33m\u001b[0m\u001b[1;33m\u001b[0m\u001b[0m\n\u001b[0;32m    187\u001b[0m     \u001b[1;32melse\u001b[0m\u001b[1;33m:\u001b[0m\u001b[1;33m\u001b[0m\u001b[1;33m\u001b[0m\u001b[0m\n\u001b[0;32m    188\u001b[0m         \u001b[1;32mreturn\u001b[0m \u001b[0mxp\u001b[0m\u001b[1;33m.\u001b[0m\u001b[0masarray\u001b[0m\u001b[1;33m(\u001b[0m\u001b[0marray\u001b[0m\u001b[1;33m,\u001b[0m \u001b[0mdtype\u001b[0m\u001b[1;33m=\u001b[0m\u001b[0mdtype\u001b[0m\u001b[1;33m,\u001b[0m \u001b[0mcopy\u001b[0m\u001b[1;33m=\u001b[0m\u001b[0mcopy\u001b[0m\u001b[1;33m)\u001b[0m\u001b[1;33m\u001b[0m\u001b[1;33m\u001b[0m\u001b[0m\n",
      "\u001b[1;32m~\\anaconda3\\Lib\\site-packages\\pandas\\core\\generic.py\u001b[0m in \u001b[0;36m?\u001b[1;34m(self, dtype)\u001b[0m\n\u001b[0;32m   2082\u001b[0m     \u001b[1;32mdef\u001b[0m \u001b[0m__array__\u001b[0m\u001b[1;33m(\u001b[0m\u001b[0mself\u001b[0m\u001b[1;33m,\u001b[0m \u001b[0mdtype\u001b[0m\u001b[1;33m:\u001b[0m \u001b[0mnpt\u001b[0m\u001b[1;33m.\u001b[0m\u001b[0mDTypeLike\u001b[0m \u001b[1;33m|\u001b[0m \u001b[1;32mNone\u001b[0m \u001b[1;33m=\u001b[0m \u001b[1;32mNone\u001b[0m\u001b[1;33m)\u001b[0m \u001b[1;33m->\u001b[0m \u001b[0mnp\u001b[0m\u001b[1;33m.\u001b[0m\u001b[0mndarray\u001b[0m\u001b[1;33m:\u001b[0m\u001b[1;33m\u001b[0m\u001b[1;33m\u001b[0m\u001b[0m\n\u001b[0;32m   2083\u001b[0m         \u001b[0mvalues\u001b[0m \u001b[1;33m=\u001b[0m \u001b[0mself\u001b[0m\u001b[1;33m.\u001b[0m\u001b[0m_values\u001b[0m\u001b[1;33m\u001b[0m\u001b[1;33m\u001b[0m\u001b[0m\n\u001b[1;32m-> 2084\u001b[1;33m         \u001b[0marr\u001b[0m \u001b[1;33m=\u001b[0m \u001b[0mnp\u001b[0m\u001b[1;33m.\u001b[0m\u001b[0masarray\u001b[0m\u001b[1;33m(\u001b[0m\u001b[0mvalues\u001b[0m\u001b[1;33m,\u001b[0m \u001b[0mdtype\u001b[0m\u001b[1;33m=\u001b[0m\u001b[0mdtype\u001b[0m\u001b[1;33m)\u001b[0m\u001b[1;33m\u001b[0m\u001b[1;33m\u001b[0m\u001b[0m\n\u001b[0m\u001b[0;32m   2085\u001b[0m         if (\n\u001b[0;32m   2086\u001b[0m             \u001b[0mastype_is_view\u001b[0m\u001b[1;33m(\u001b[0m\u001b[0mvalues\u001b[0m\u001b[1;33m.\u001b[0m\u001b[0mdtype\u001b[0m\u001b[1;33m,\u001b[0m \u001b[0marr\u001b[0m\u001b[1;33m.\u001b[0m\u001b[0mdtype\u001b[0m\u001b[1;33m)\u001b[0m\u001b[1;33m\u001b[0m\u001b[1;33m\u001b[0m\u001b[0m\n\u001b[0;32m   2087\u001b[0m             \u001b[1;32mand\u001b[0m \u001b[0musing_copy_on_write\u001b[0m\u001b[1;33m(\u001b[0m\u001b[1;33m)\u001b[0m\u001b[1;33m\u001b[0m\u001b[1;33m\u001b[0m\u001b[0m\n",
      "\u001b[1;31mValueError\u001b[0m: could not convert string to float: 'f'"
     ]
    }
   ],
   "source": [
    "###################################################### Information Gain ######################################################\n",
    "mi_scores = mutual_info_classif(X, y)\n",
    "mi_scores_df = pd.DataFrame({'Feature': X.columns, 'MI Score': mi_scores})\n",
    "# Sort features by their mutual information scores\n",
    "mi_scores_df = mi_scores_df.sort_values(by='MI Score', ascending=False)\n",
    "# mi_scores_df\n",
    "\n",
    "f.PlottingfeatureImportance(mi_scores_df['Feature'], mi_scores_df['MI Score'], 'Mutual Information Score', 'Feature', 'Feature Importance using Mutual Information')"
   ]
  },
  {
   "cell_type": "code",
   "execution_count": null,
   "id": "8aff351e-cfdf-4a5e-bc26-3fde01ffa275",
   "metadata": {},
   "outputs": [],
   "source": [
    "# def DropAfterFeatureSelection(mi_scores_df, X_train, X_test):\n",
    "#     non_selected_features = []\n",
    "#     for i in range(len(mi_scores_df[\"Feature\"])):\n",
    "#         # print(mi_scores_df[\"Feature\"][i])\n",
    "#         if mi_scores_df[\"MI Score\"][i] == 0.000000:\n",
    "#             non_selected_features.append(mi_scores_df[\"Feature\"][i])\n",
    "#     print(\"the droped columns\", non_selected_features)\n",
    "#     X_train = X_train.drop(non_selected_features, axis=1)\n",
    "#     X_test = X_test.drop(non_selected_features, axis=1)\n",
    "#     return X_train, X_test"
   ]
  },
  {
   "cell_type": "code",
   "execution_count": 11,
   "id": "b0d146c8-7131-4711-8bf6-b218036560db",
   "metadata": {},
   "outputs": [
    {
     "data": {
      "text/plain": [
       "['stance_time_min',\n",
       " 'powerX_ 4_T',\n",
       " 'powerX_ 6_T',\n",
       " 'powerY_ 3_T',\n",
       " 'powerZ_ 5_T',\n",
       " 'powerZ_ 6_T',\n",
       " 'powerX_ 2_C',\n",
       " 'powerX_ 4_C',\n",
       " 'powerX_ 6_C',\n",
       " 'powerY_ 2_T.1',\n",
       " 'powerY_ 5_C',\n",
       " 'powerY_ 6_C',\n",
       " 'powerZ_ 4_C']"
      ]
     },
     "execution_count": 11,
     "metadata": {},
     "output_type": "execute_result"
    }
   ],
   "source": [
    "# non_selected_features = []\n",
    "# for i in range(len(mi_scores_df[\"Feature\"])):\n",
    "#     # print(mi_scores_df[\"Feature\"][i])\n",
    "#     if mi_scores_df[\"MI Score\"][i] == 0.000000:\n",
    "#         non_selected_features.append(mi_scores_df[\"Feature\"][i])\n",
    "\n",
    "# non_selected_features"
   ]
  },
  {
   "cell_type": "markdown",
   "id": "284d47a3-07a2-4ad2-a072-11eecafd097d",
   "metadata": {},
   "source": [
    "### Drop unselected columns from filter method"
   ]
  },
  {
   "cell_type": "code",
   "execution_count": 12,
   "id": "1a833c1f-a2f0-48a7-8563-22623d41ed44",
   "metadata": {},
   "outputs": [
    {
     "data": {
      "text/plain": [
       "Index(['swing_time_max', 'swing_time_min', 'stance_time_max',\n",
       "       'stride_time_max', 'stride_time_min', 'strike_angle', 'mean_hs_angle',\n",
       "       'mean_to_angle', 'thrustACCel_C', 'thrustACCel_T', 'max_stance_angles',\n",
       "       'max_swing_angles', 'Omega_X_T', 'Omega_Y_T', 'Omega_Z_T',\n",
       "       'powerX_ 1_T', 'powerX_ 2_T', 'powerX_ 3_T', 'powerX_ 5_T',\n",
       "       'powerY_ 1_T', 'powerY_ 2_T', 'powerY_ 4_T', 'powerY_ 5_T',\n",
       "       'powerY_ 6_T', 'powerZ_ 1_T', 'powerZ_ 2_T', 'powerZ_ 3_T',\n",
       "       'powerZ_ 4_T', 'Omega_X_C', 'Omega_Y_C', 'Omega_Z_C', 'powerX_ 1_C',\n",
       "       'powerX_ 3_C', 'powerX_ 5_C', 'powerY_ 1_C', 'powerY_ 3_C',\n",
       "       'powerY_ 4_C', 'powerZ_ 1_C', 'powerZ_ 2_C', 'powerZ_ 3_C',\n",
       "       'powerZ_ 5_C', 'powerZ_ 6_C', 'gender', 'age', 'BMI'],\n",
       "      dtype='object')"
      ]
     },
     "execution_count": 12,
     "metadata": {},
     "output_type": "execute_result"
    }
   ],
   "source": [
    "X_train_filter, X_test_filter = f.DropAfterFeatureSelection(mi_scores_df, X_train, X_test)\n",
    "# X_test_filter = X_test.drop(non_selected_features, axis=1)\n",
    "X_train_filter.columns"
   ]
  },
  {
   "cell_type": "markdown",
   "id": "c046edd8-0819-4de0-b02e-c9ff8cd58613",
   "metadata": {},
   "source": [
    "# Scaling Data"
   ]
  },
  {
   "cell_type": "code",
   "execution_count": 13,
   "id": "7e2aab7d-62ef-475f-a1c5-be183eef3f5c",
   "metadata": {},
   "outputs": [],
   "source": [
    "scaler_filter = StandardScaler()\n",
    "X_train_filter = scaler_filter.fit_transform(X_train_filter)\n",
    "X_test_filter = scaler_filter.transform(X_test_filter)"
   ]
  },
  {
   "cell_type": "code",
   "execution_count": 14,
   "id": "d4b81c7d-71c8-4645-91bc-1bff46822576",
   "metadata": {},
   "outputs": [],
   "source": [
    "scaler = StandardScaler()\n",
    "X_train = scaler.fit_transform(X_train)\n",
    "X_test = scaler.transform(X_test)"
   ]
  },
  {
   "cell_type": "markdown",
   "id": "81fb984a-7800-4e4b-b304-b5e8b5b2cceb",
   "metadata": {},
   "source": [
    "# Model Training"
   ]
  },
  {
   "cell_type": "markdown",
   "id": "75f5799e-7e0c-4536-bf00-ca68f9c497ea",
   "metadata": {},
   "source": [
    "## All Features"
   ]
  },
  {
   "cell_type": "code",
   "execution_count": 15,
   "id": "7793b888-2301-4ad7-abeb-234901ca12e4",
   "metadata": {},
   "outputs": [
    {
     "name": "stdout",
     "output_type": "stream",
     "text": [
      "Random Forest Training Accuracy: 100.00\n",
      "Random Forest Testing Accuracy: 70.59\n",
      "F1 Score (Random Forest): 0.6603\n",
      "--------------------------------------------------\n",
      "Logistic Regression Training Accuracy: 100.00\n",
      "Logistic Regression Testing Accuracy: 88.24\n",
      "F1 Score (Logistic Regression): 0.8738\n",
      "--------------------------------------------------\n",
      "KNN (k=7) Training Accuracy: 68.66\n",
      "KNN (k=7) Testing Accuracy: 76.47\n",
      "F1 Score (KNN (k=7)): 0.7647\n",
      "--------------------------------------------------\n",
      "XGBoost Training Accuracy: 100.00\n",
      "XGBoost Testing Accuracy: 82.35\n",
      "F1 Score (XGBoost): 0.8206\n",
      "--------------------------------------------------\n",
      "linear SVM Training Accuracy: 100.00\n",
      "linear SVM Testing Accuracy: 76.47\n",
      "F1 Score (linear SVM): 0.7810\n",
      "--------------------------------------------------\n",
      "Poly SVM Training Accuracy: 62.69\n",
      "Poly SVM Testing Accuracy: 41.18\n",
      "F1 Score (Poly SVM): 0.2506\n",
      "--------------------------------------------------\n",
      "rbf SVM Training Accuracy: 89.55\n",
      "rbf SVM Testing Accuracy: 58.82\n",
      "F1 Score (rbf SVM): 0.4804\n",
      "--------------------------------------------------\n",
      "Sigmoid SVM Training Accuracy: 65.67\n",
      "Sigmoid SVM Testing Accuracy: 64.71\n",
      "F1 Score (Sigmoid SVM): 0.5471\n",
      "--------------------------------------------------\n",
      "Lasso Logistic Regression Training Accuracy: 92.54\n",
      "Lasso Logistic Regression Testing Accuracy: 82.35\n",
      "F1 Score (Lasso Logistic Regression): 0.8222\n",
      "--------------------------------------------------\n"
     ]
    }
   ],
   "source": [
    "models_all = {\n",
    "    \"Random Forest\": RandomForestClassifier(random_state=random_seed),\n",
    "    \"Logistic Regression\": LogisticRegression(),\n",
    "    \"KNN (k=7)\": KNeighborsClassifier(n_neighbors=5),\n",
    "    \"XGBoost\": XGBClassifier(),\n",
    "    \"linear SVM\": SVC(kernel='linear', random_state=random_seed),\n",
    "    \"Poly SVM\": SVC(kernel='poly', random_state=random_seed),\n",
    "    \"rbf SVM\": SVC(kernel='rbf', random_state=random_seed),\n",
    "    \"Sigmoid SVM\": SVC(kernel= 'sigmoid', random_state=random_seed),\n",
    "    \"Lasso Logistic Regression\": LogisticRegression(penalty='l1', solver='saga', multi_class='multinomial', max_iter=10000, random_state=random_seed)\n",
    "}\n",
    "\n",
    "# Train and evaluate each model\n",
    "for model_name, model in models_all.items():\n",
    "    train_and_evaluate(model, model_name, X_train, y_train, X_test, y_test)\n",
    "    y_pred = model.predict(X_test)\n",
    "    f1 = f1_score(y_test, y_pred, average='weighted')\n",
    "    print(f\"F1 Score ({model_name}): {f1:.4f}\")\n",
    "    print('-' * 50)\n"
   ]
  },
  {
   "cell_type": "code",
   "execution_count": 16,
   "id": "9cb787a8-dc4b-49e0-82d8-9f1c021abfea",
   "metadata": {},
   "outputs": [],
   "source": [
    "# clf_all =  RandomForestClassifier(random_state=random_seed)\n",
    "# clf_all.fit(X_train, y_train)\n",
    "\n",
    "# y_pred_all_features = clf_all.predict(X_test)\n",
    "\n",
    "# cmatrix_fun(\"Rf with ALL features\", y_test, y_pred_all_features)"
   ]
  },
  {
   "cell_type": "markdown",
   "id": "40c38aea-d55c-4255-b943-28487fa67870",
   "metadata": {},
   "source": [
    "## Over Sampling"
   ]
  },
  {
   "cell_type": "code",
   "execution_count": 28,
   "id": "bf461c2c-1394-49e6-87a4-6cd87ac3ee1e",
   "metadata": {},
   "outputs": [
    {
     "name": "stdout",
     "output_type": "stream",
     "text": [
      " X_shape: (10000, 58) \n",
      " y_shape: (10000,)\n"
     ]
    }
   ],
   "source": [
    "from imblearn.over_sampling  import RandomOverSampler\n",
    "sampling_strategy = {\n",
    "    0: 2500,\n",
    "    1: 2500,\n",
    "    2: 2500,\n",
    "    3: 2500\n",
    "    # Add more classes as needed\n",
    "}\n",
    "\n",
    "# X_train, X_test, y_train, y_test = train_test_split(X, y, test_size=0.2, random_state=random_seed)\n",
    "\n",
    "# Initialize RandomOverSampler with the specified sampling strategy\n",
    "smoteOver = RandomOverSampler(sampling_strategy=sampling_strategy)\n",
    "# smoteOver = RandomOverSampler(sampling_strategy=1)\n",
    "X_smoteOver, y_smoteOver = smoteOver.fit_resample(X_train , y_train)\n",
    "print(f' X_shape: {X_smoteOver.shape} \\n y_shape: {y_smoteOver.shape}')\n",
    "\n",
    "# Initialize StandardScaler\n",
    "# scaler_corr = StandardScaler()\n",
    "# X_train_smote = scaler_corr.fit_transform(X_smoteOver)\n",
    "# X_test_smote = scaler_corr.transform(X_test)\n",
    "\n"
   ]
  },
  {
   "cell_type": "code",
   "execution_count": 29,
   "id": "42011332-86d8-4f9e-8aa8-f378943c6221",
   "metadata": {},
   "outputs": [
    {
     "name": "stdout",
     "output_type": "stream",
     "text": [
      "Random Forest Training Accuracy: 100.00\n",
      "Random Forest Testing Accuracy: 82.35\n",
      "F1 Score (Random Forest): 0.8013\n",
      "--------------------------------------------------\n",
      "Logistic Regression Training Accuracy: 100.00\n",
      "Logistic Regression Testing Accuracy: 82.35\n",
      "F1 Score (Logistic Regression): 0.8189\n",
      "--------------------------------------------------\n",
      "KNN (k=7) Training Accuracy: 100.00\n",
      "KNN (k=7) Testing Accuracy: 58.82\n",
      "F1 Score (KNN (k=7)): 0.6232\n",
      "--------------------------------------------------\n",
      "XGBoost Training Accuracy: 100.00\n",
      "XGBoost Testing Accuracy: 94.12\n",
      "F1 Score (XGBoost): 0.9448\n",
      "--------------------------------------------------\n",
      "linear SVM Training Accuracy: 100.00\n",
      "linear SVM Testing Accuracy: 76.47\n",
      "F1 Score (linear SVM): 0.7810\n",
      "--------------------------------------------------\n",
      "Poly SVM Training Accuracy: 100.00\n",
      "Poly SVM Testing Accuracy: 70.59\n",
      "F1 Score (Poly SVM): 0.6975\n",
      "--------------------------------------------------\n",
      "rbf SVM Training Accuracy: 100.00\n",
      "rbf SVM Testing Accuracy: 88.24\n",
      "F1 Score (rbf SVM): 0.8750\n",
      "--------------------------------------------------\n",
      "Sigmoid SVM Training Accuracy: 84.32\n",
      "Sigmoid SVM Testing Accuracy: 58.82\n",
      "F1 Score (Sigmoid SVM): 0.5764\n",
      "--------------------------------------------------\n",
      "Lasso Logistic Regression Training Accuracy: 100.00\n",
      "Lasso Logistic Regression Testing Accuracy: 82.35\n",
      "F1 Score (Lasso Logistic Regression): 0.8245\n",
      "--------------------------------------------------\n"
     ]
    }
   ],
   "source": [
    "models_sample = {\n",
    "    \"Random Forest\": RandomForestClassifier(random_state=random_seed),\n",
    "    \"Logistic Regression\": LogisticRegression(),\n",
    "    \"KNN (k=7)\": KNeighborsClassifier(n_neighbors=5),\n",
    "    \"XGBoost\": XGBClassifier(),\n",
    "    \"linear SVM\": SVC(kernel='linear', random_state=random_seed),\n",
    "    \"Poly SVM\": SVC(kernel='poly', random_state=random_seed),\n",
    "    \"rbf SVM\": SVC(kernel='rbf', random_state=random_seed),\n",
    "    \"Sigmoid SVM\": SVC(kernel= 'sigmoid', random_state=random_seed),\n",
    "    \"Lasso Logistic Regression\": LogisticRegression(penalty='l1', solver='saga', multi_class='multinomial', max_iter=10000, random_state=random_seed)\n",
    "}\n",
    "\n",
    "# Train and evaluate each model\n",
    "for model_name, model in models_sample.items():\n",
    "    train_and_evaluate(model, model_name, X_smoteOver, y_smoteOver, X_test, y_test)\n",
    "    y_pred = model.predict(X_test)\n",
    "    f1 = f1_score(y_test, y_pred, average='weighted')\n",
    "    print(f\"F1 Score ({model_name}): {f1:.4f}\")\n",
    "    print('-' * 50)"
   ]
  },
  {
   "cell_type": "code",
   "execution_count": 19,
   "id": "83ae455a-792a-4c55-8af4-1ad297291701",
   "metadata": {},
   "outputs": [],
   "source": [
    "# clf_all =  RandomForestClassifier(random_state=random_seed)\n",
    "# clf_all.fit(X_smoteOver, y_smoteOver)\n",
    "\n",
    "# y_pred_sample = clf_all.predict(X_test)\n",
    "\n",
    "# cmatrix_fun(\"Rf with ALL features\", y_test, y_pred_sample)"
   ]
  },
  {
   "cell_type": "markdown",
   "id": "48e31062-52f5-433a-ad3f-1855c63850bb",
   "metadata": {},
   "source": [
    "## Feature selection training"
   ]
  },
  {
   "cell_type": "code",
   "execution_count": 20,
   "id": "0b0a6be1-747a-437d-9465-8073fffb806a",
   "metadata": {},
   "outputs": [
    {
     "name": "stdout",
     "output_type": "stream",
     "text": [
      "Random Forest Training Accuracy: 100.00\n",
      "Random Forest Testing Accuracy: 76.47\n",
      "F1 Score (Random Forest): 0.7425\n",
      "--------------------------------------------------\n",
      "Logistic Regression Training Accuracy: 100.00\n",
      "Logistic Regression Testing Accuracy: 76.47\n",
      "F1 Score (Logistic Regression): 0.7696\n",
      "--------------------------------------------------\n",
      "KNN (k=7) Training Accuracy: 55.22\n",
      "KNN (k=7) Testing Accuracy: 47.06\n",
      "F1 Score (KNN (k=7)): 0.4958\n",
      "--------------------------------------------------\n",
      "XGBoost Training Accuracy: 100.00\n",
      "XGBoost Testing Accuracy: 94.12\n",
      "F1 Score (XGBoost): 0.9399\n",
      "--------------------------------------------------\n",
      "linear SVM Training Accuracy: 100.00\n",
      "linear SVM Testing Accuracy: 64.71\n",
      "F1 Score (linear SVM): 0.6645\n",
      "--------------------------------------------------\n",
      "Poly SVM Training Accuracy: 77.61\n",
      "Poly SVM Testing Accuracy: 52.94\n",
      "F1 Score (Poly SVM): 0.4216\n",
      "--------------------------------------------------\n",
      "rbf SVM Training Accuracy: 94.03\n",
      "rbf SVM Testing Accuracy: 52.94\n",
      "F1 Score (rbf SVM): 0.4294\n",
      "--------------------------------------------------\n",
      "Sigmoid SVM Training Accuracy: 64.18\n",
      "Sigmoid SVM Testing Accuracy: 70.59\n",
      "F1 Score (Sigmoid SVM): 0.6603\n",
      "--------------------------------------------------\n",
      "Lasso Logistic Regression Training Accuracy: 92.54\n",
      "Lasso Logistic Regression Testing Accuracy: 82.35\n",
      "F1 Score (Lasso Logistic Regression): 0.8340\n",
      "--------------------------------------------------\n"
     ]
    }
   ],
   "source": [
    "models_filter = {\n",
    "    \"Random Forest\": RandomForestClassifier(random_state=random_seed),\n",
    "    \"Logistic Regression\": LogisticRegression(),\n",
    "    \"KNN (k=7)\": KNeighborsClassifier(n_neighbors=7),\n",
    "    \"XGBoost\": XGBClassifier(),\n",
    "    \"linear SVM\": SVC(kernel='linear', random_state=random_seed),\n",
    "    \"Poly SVM\": SVC(kernel='poly', random_state=random_seed),\n",
    "    \"rbf SVM\": SVC(kernel='rbf', random_state=random_seed),\n",
    "    \"Sigmoid SVM\": SVC(kernel= 'sigmoid', random_state=random_seed),\n",
    "    \"Lasso Logistic Regression\": LogisticRegression(penalty='l1', solver='saga', multi_class='multinomial', max_iter=10000, random_state=random_seed)\n",
    "}\n",
    "\n",
    "# Train and evaluate each model\n",
    "for model_name, model in models_filter.items():\n",
    "    train_and_evaluate(model, model_name, X_train_filter, y_train, X_test_filter, y_test)\n",
    "    y_pred = model.predict(X_test_filter)\n",
    "    f1 = f1_score(y_test, y_pred, average='weighted')\n",
    "    print(f\"F1 Score ({model_name}): {f1:.4f}\")\n",
    "    print('-' * 50)\n",
    "    "
   ]
  },
  {
   "cell_type": "code",
   "execution_count": 21,
   "id": "7b7b21a5-81a0-44ef-bf13-256c0dc7e4d5",
   "metadata": {},
   "outputs": [],
   "source": [
    "# clf_filter =  RandomForestClassifier(random_state=random_seed)\n",
    "# clf_filter.fit(X_train_filter, y_train)\n",
    "\n",
    "# y_pred_filter = clf_filter.predict(X_test_filter)\n",
    "\n",
    "# cmatrix_fun(\"Rf with ALL features\", y_test, y_pred_filter)"
   ]
  },
  {
   "cell_type": "markdown",
   "id": "a6663765-1f4b-412e-a22e-4a5ae1b77def",
   "metadata": {},
   "source": [
    "## PCA selection"
   ]
  },
  {
   "cell_type": "code",
   "execution_count": 22,
   "id": "76843aca-9b8b-4734-89f4-87a53483c835",
   "metadata": {},
   "outputs": [],
   "source": [
    "from sklearn.feature_selection import SelectFromModel\n",
    "from sklearn.decomposition import PCA\n",
    "\n",
    "\n",
    "selector = RandomForestClassifier(n_estimators=100)\n",
    "selector.fit(X_train, y_train)  \n",
    "model_pca = SelectFromModel(selector, prefit=True)\n",
    "data_selected = model_pca.transform(X_train)\n",
    "pca = PCA(n_components=10)\n",
    "X_train_pca = pca.fit_transform(data_selected)\n",
    "\n",
    "x1 = model_pca.transform(X_test)\n",
    "X_test_pca = pca.transform(x1)"
   ]
  },
  {
   "cell_type": "code",
   "execution_count": 23,
   "id": "a7e4fbb3-6fa4-488d-8b4f-6df60dd431e6",
   "metadata": {},
   "outputs": [
    {
     "name": "stdout",
     "output_type": "stream",
     "text": [
      "Random Forest Training Accuracy: 100.00\n",
      "Random Forest Testing Accuracy: 35.29\n",
      "F1 Score (Random Forest): 0.3107\n",
      "--------------------------------------------------\n",
      "Logistic Regression Training Accuracy: 74.63\n",
      "Logistic Regression Testing Accuracy: 70.59\n",
      "F1 Score (Logistic Regression): 0.6965\n",
      "--------------------------------------------------\n",
      "KNN (k=7) Training Accuracy: 74.63\n",
      "KNN (k=7) Testing Accuracy: 52.94\n",
      "F1 Score (KNN (k=7)): 0.5094\n",
      "--------------------------------------------------\n",
      "XGBoost Training Accuracy: 100.00\n",
      "XGBoost Testing Accuracy: 52.94\n",
      "F1 Score (XGBoost): 0.5020\n",
      "--------------------------------------------------\n",
      "linear SVM Training Accuracy: 85.07\n",
      "linear SVM Testing Accuracy: 64.71\n",
      "F1 Score (linear SVM): 0.6510\n",
      "--------------------------------------------------\n",
      "Poly SVM Training Accuracy: 61.19\n",
      "Poly SVM Testing Accuracy: 64.71\n",
      "F1 Score (Poly SVM): 0.6059\n",
      "--------------------------------------------------\n",
      "rbf SVM Training Accuracy: 83.58\n",
      "rbf SVM Testing Accuracy: 47.06\n",
      "F1 Score (rbf SVM): 0.4131\n",
      "--------------------------------------------------\n",
      "Sigmoid SVM Training Accuracy: 61.19\n",
      "Sigmoid SVM Testing Accuracy: 47.06\n",
      "F1 Score (Sigmoid SVM): 0.4022\n",
      "--------------------------------------------------\n",
      "Lasso Logistic Regression Training Accuracy: 74.63\n",
      "Lasso Logistic Regression Testing Accuracy: 52.94\n",
      "F1 Score (Lasso Logistic Regression): 0.4506\n",
      "--------------------------------------------------\n"
     ]
    }
   ],
   "source": [
    "models_pca = {\n",
    "    \"Random Forest\": RandomForestClassifier(random_state=random_seed),\n",
    "    \"Logistic Regression\": LogisticRegression(),\n",
    "    \"KNN (k=7)\": KNeighborsClassifier(n_neighbors=5),\n",
    "    \"XGBoost\": XGBClassifier(),\n",
    "    \"linear SVM\": SVC(kernel='linear', random_state=random_seed),\n",
    "    \"Poly SVM\": SVC(kernel='poly', random_state=random_seed),\n",
    "    \"rbf SVM\": SVC(kernel='rbf', random_state=random_seed),\n",
    "    \"Sigmoid SVM\": SVC(kernel= 'sigmoid', random_state=random_seed),\n",
    "    \"Lasso Logistic Regression\": LogisticRegression(penalty='l1', solver='saga', multi_class='multinomial', max_iter=10000, random_state=random_seed)\n",
    "}\n",
    "\n",
    "# Train and evaluate each model\n",
    "for model_name, model in models_pca.items():\n",
    "    train_and_evaluate(model, model_name, X_train_pca, y_train, X_test_pca, y_test)\n",
    "    y_pred = model.predict(X_test_pca)\n",
    "    f1 = f1_score(y_test, y_pred, average='weighted')\n",
    "    print(f\"F1 Score ({model_name}): {f1:.4f}\")\n",
    "    print('-' * 50)"
   ]
  },
  {
   "cell_type": "code",
   "execution_count": 24,
   "id": "58cba2ff-95b2-4def-8917-831cfd69934b",
   "metadata": {},
   "outputs": [],
   "source": [
    "# clf_pca =  RandomForestClassifier(random_state=random_seed)\n",
    "# clf_pca.fit(X_train_pca, y_train)\n",
    "\n",
    "# y_pred_pca = clf_filter.predict(X_test_pca)\n",
    "\n",
    "# cmatrix_fun(\"Rf with ALL features\", y_test, y_pred_pca)"
   ]
  },
  {
   "cell_type": "markdown",
   "id": "63b0d7ba-f699-4e65-a6e7-70b4c7a4ce30",
   "metadata": {},
   "source": [
    "## PCA on original data"
   ]
  },
  {
   "cell_type": "code",
   "execution_count": 25,
   "id": "050aec35-ae2c-4572-915d-4041ce4ba2d2",
   "metadata": {},
   "outputs": [],
   "source": [
    "scaler = StandardScaler()\n",
    "X_scaled = scaler.fit_transform(X)\n",
    "\n",
    "pca = PCA(n_components= 30)  # Example: Retain 10 principal components\n",
    "X_pca = pca.fit_transform(X_scaled)"
   ]
  },
  {
   "cell_type": "code",
   "execution_count": 26,
   "id": "9d649e4d-8d4e-49d0-ad39-2ac2130619f6",
   "metadata": {},
   "outputs": [
    {
     "data": {
      "image/png": "[encoded data removed]",
      "text/plain": [
       "<Figure size 640x480 with 2 Axes>"
      ]
     },
     "metadata": {},
     "output_type": "display_data"
    },
    {
     "data": {
      "text/plain": [
       "<Figure size 2000x2000 with 0 Axes>"
      ]
     },
     "metadata": {},
     "output_type": "display_data"
    }
   ],
   "source": [
    "scatter = plt.scatter(X_pca[:, 10], X_pca[:, 18], c=y, cmap='viridis', edgecolor='k', s=100)\n",
    "\n",
    "# Create a legend with a color for each unique value in y\n",
    "handles = [plt.Line2D([0,0],[0,0],color=scatter.cmap(scatter.norm(label))) for label in np.unique(y)]\n",
    "class_labels = ['normal', 'mild', 'moderate', 'severe']\n",
    "plt.legend(handles, class_labels, title='Target', bbox_to_anchor=(1.05, 1))\n",
    "\n",
    "# Set plot title and axis labels\n",
    "plt.title('PCA Scatter Plot')\n",
    "plt.xlabel('PCA Component 2')\n",
    "plt.ylabel('PCA Component 4')\n",
    "\n",
    "# Add a colorbar with a label\n",
    "cbar = plt.colorbar(scatter)\n",
    "cbar.set_label('Target')\n",
    "\n",
    "# Adjust figure size and layout\n",
    "plt.figure(figsize=(20, 20))\n",
    "plt.tight_layout()\n",
    "plt.savefig('important_img/pca.png', format='png', dpi=300, bbox_inches='tight')\n",
    "# Show the plot\n",
    "plt.show()\n"
   ]
  },
  {
   "cell_type": "code",
   "execution_count": 27,
   "id": "70986ed1-eb66-4798-88ec-ca673012f209",
   "metadata": {},
   "outputs": [
    {
     "name": "stdout",
     "output_type": "stream",
     "text": [
      "Random Forest Training Accuracy: 100.00\n",
      "Random Forest Testing Accuracy: 64.71\n",
      "F1 Score (Random Forest): 0.6153\n",
      "--------------------------------------------------\n",
      "Logistic Regression Training Accuracy: 98.51\n",
      "Logistic Regression Testing Accuracy: 76.47\n",
      "F1 Score (Logistic Regression): 0.7429\n",
      "--------------------------------------------------\n",
      "KNN (k=7) Training Accuracy: 61.19\n",
      "KNN (k=7) Testing Accuracy: 58.82\n",
      "F1 Score (KNN (k=7)): 0.5677\n",
      "--------------------------------------------------\n",
      "XGBoost Training Accuracy: 100.00\n",
      "XGBoost Testing Accuracy: 76.47\n",
      "F1 Score (XGBoost): 0.7500\n",
      "--------------------------------------------------\n",
      "linear SVM Training Accuracy: 98.51\n",
      "linear SVM Testing Accuracy: 76.47\n",
      "F1 Score (linear SVM): 0.7810\n",
      "--------------------------------------------------\n",
      "Poly SVM Training Accuracy: 61.19\n",
      "Poly SVM Testing Accuracy: 41.18\n",
      "F1 Score (Poly SVM): 0.2506\n",
      "--------------------------------------------------\n",
      "rbf SVM Training Accuracy: 88.06\n",
      "rbf SVM Testing Accuracy: 58.82\n",
      "F1 Score (rbf SVM): 0.4804\n",
      "--------------------------------------------------\n",
      "Sigmoid SVM Training Accuracy: 62.69\n",
      "Sigmoid SVM Testing Accuracy: 64.71\n",
      "F1 Score (Sigmoid SVM): 0.5471\n",
      "--------------------------------------------------\n",
      "Lasso Logistic Regression Training Accuracy: 94.03\n",
      "Lasso Logistic Regression Testing Accuracy: 70.59\n",
      "F1 Score (Lasso Logistic Regression): 0.6936\n",
      "--------------------------------------------------\n"
     ]
    }
   ],
   "source": [
    "X_train_pca2, X_test_pca2, y_train, y_test = train_test_split(X_pca, y, test_size=0.2, random_state=random_seed)\n",
    "\n",
    "models_pca2 = {\n",
    "    \"Random Forest\": RandomForestClassifier(random_state=random_seed),\n",
    "    \"Logistic Regression\": LogisticRegression(),\n",
    "    \"KNN (k=7)\": KNeighborsClassifier(n_neighbors=7),\n",
    "    \"XGBoost\": XGBClassifier(),\n",
    "    \"linear SVM\": SVC(kernel='linear', random_state=random_seed),\n",
    "    \"Poly SVM\": SVC(kernel='poly', random_state=random_seed),\n",
    "    \"rbf SVM\": SVC(kernel='rbf', random_state=random_seed),\n",
    "    \"Sigmoid SVM\": SVC(kernel= 'sigmoid', random_state=random_seed),\n",
    "    \"Lasso Logistic Regression\": LogisticRegression(penalty='l1', solver='saga', multi_class='multinomial', max_iter=10000, random_state=random_seed)\n",
    "}\n",
    "\n",
    "for model_name, model in models_pca2.items():\n",
    "    train_and_evaluate(model, model_name, X_train_pca2, y_train, X_test_pca2, y_test)\n",
    "    y_pred = model.predict(X_test_pca2)\n",
    "    f1 = f1_score(y_test, y_pred, average='weighted')\n",
    "    print(f\"F1 Score ({model_name}): {f1:.4f}\")\n",
    "    print('-' * 50)"
   ]
  },
  {
   "cell_type": "code",
   "execution_count": null,
   "id": "966e1cea-95d3-4f52-bda1-f2bb9436a922",
   "metadata": {},
   "outputs": [],
   "source": []
  },
  {
   "cell_type": "code",
   "execution_count": 1,
   "id": "c899a3ef-634b-4d93-a2ad-b76cac1c79d5",
   "metadata": {},
   "outputs": [
    {
     "data": {
      "image/png": "[encoded data removed]",
      "text/plain": [
       "<Figure size 1000x600 with 1 Axes>"
      ]
     },
     "metadata": {},
     "output_type": "display_data"
    }
   ],
   "source": [
    "import matplotlib.pyplot as plt\n",
    "import numpy as np\n",
    "\n",
    "# Example data (replace with your actual data)\n",
    "model1_train_acc =  [0.1, 0.1, 0.1]  # Training phase accuracies for model 1\n",
    "# model1_val_acc = [0.78, 0.82, 0.80]    # Validation phase accuracies for model 1\n",
    "model1_test_acc = [0.71, 0.77, 0.82]   # Test phase accuracies for model 1\n",
    "\n",
    "model2_train_acc = [0.1, 0.1, 0.1]  # Training phase accuracies for model 2\n",
    "# model2_val_acc = [0.72, 0.76, 0.74]    # Validation phase accuracies for model 2\n",
    "model2_test_acc =    [0.82, 0.94, 0.9412]  # Test phase accuracies for model 2\n",
    "\n",
    "phases = ['All features', 'Feature Selection', 'Smote upsampling']\n",
    "bar_width = 0.3\n",
    "index = np.arange(len(phases))\n",
    "\n",
    "# Plotting training accuracies\n",
    "plt.figure(figsize=(10, 6))\n",
    "plt.bar(index - bar_width/2, model1_train_acc, bar_width, label='RF (Train)')\n",
    "plt.bar(index + bar_width/2, model2_train_acc, bar_width, label='XGBoost (Train)')\n",
    "\n",
    "# # Plotting validation accuracies\n",
    "# plt.bar(index - bar_width/2, model1_val_acc, bar_width, label='Model 1 (Validation)', alpha=0.5)\n",
    "# plt.bar(index + bar_width/2, model2_val_acc, bar_width, label='Model 2 (Validation)', alpha=0.5)\n",
    "\n",
    "# Plotting test accuracies\n",
    "plt.bar(index - bar_width/2, model1_test_acc, bar_width, label='RF (Test)', alpha=0.3)\n",
    "plt.bar(index + bar_width/2, model2_test_acc, bar_width, label='XGBoost (Test)', alpha=0.3)\n",
    "\n",
    "plt.xlabel('Phases')\n",
    "plt.ylabel('Accuracy')\n",
    "plt.title('Accuracies of RF Model and XGBoost Model across Phases')\n",
    "plt.xticks(index, phases)\n",
    "plt.legend()\n",
    "plt.tight_layout()\n",
    "\n",
    "plt.show()\n"
   ]
  },
  {
   "cell_type": "code",
   "execution_count": 2,
   "id": "2b168731-779e-47d2-aedc-3457d7478b0b",
   "metadata": {},
   "outputs": [
    {
     "data": {
      "image/png": "[encoded data removed]",
      "text/plain": [
       "<Figure size 1000x600 with 1 Axes>"
      ]
     },
     "metadata": {},
     "output_type": "display_data"
    }
   ],
   "source": [
    "import matplotlib.pyplot as plt\n",
    "import numpy as np\n",
    "\n",
    "# Example data (replace with your actual data)\n",
    "model1_train_acc = [0.1, 0.1, 0.1]   # Training phase accuracies for model 1\n",
    "model1_test_acc = [0.71, 0.77, 0.82]  # Test phase accuracies for model 1\n",
    "\n",
    "model2_train_acc = [0.1, 0.1, 0.1]    # Training phase accuracies for model 2\n",
    "model2_test_acc = [0.82, 0.94, 0.9412] # Test phase accuracies for model 2\n",
    "\n",
    "phases = ['All features', 'Feature Selection', 'Smote upsampling']\n",
    "index = np.arange(len(phases))\n",
    "\n",
    "# Plotting training accuracies as curves\n",
    "plt.figure(figsize=(10, 6))\n",
    "plt.plot(index, model1_train_acc, marker='o', linestyle='-', color='b', label='RF (Train)')\n",
    "plt.plot(index, model2_train_acc, marker='o', linestyle='-', color='g', label='XGBoost (Train)')\n",
    "\n",
    "# Plotting test accuracies as curves\n",
    "plt.plot(index, model1_test_acc, marker='o', linestyle='-', color='b', alpha=0.5, label='RF (Test)')\n",
    "plt.plot(index, model2_test_acc, marker='o', linestyle='-', color='g', alpha=0.5, label='XGBoost (Test)')\n",
    "\n",
    "plt.xlabel('Phases')\n",
    "plt.ylabel('Accuracy')\n",
    "plt.title('Accuracies of RF Model and XGBoost Model across Phases')\n",
    "plt.xticks(index, phases)\n",
    "plt.legend()\n",
    "plt.grid(True)\n",
    "plt.tight_layout()\n",
    "\n",
    "plt.show()\n"
   ]
  },
  {
   "cell_type": "code",
   "execution_count": 11,
   "id": "cd2e5af6-c9ae-4ae9-b412-35308f52a5f9",
   "metadata": {},
   "outputs": [
    {
     "data": {
      "image/png": "[encoded data removed]",
      "text/plain": [
       "<Figure size 1000x600 with 1 Axes>"
      ]
     },
     "metadata": {},
     "output_type": "display_data"
    }
   ],
   "source": [
    "import matplotlib.pyplot as plt\n",
    "import numpy as np\n",
    "\n",
    "# Example data (replace with your actual data)\n",
    "# model1_train_acc = [0.1, 0.1, 0.1]   # Training phase accuracies for model 1\n",
    "model1_test_acc = [0.71, 0.77, 0.82]  # Test phase accuracies for model 1\n",
    "\n",
    "model2_train_acc = [0.1, 0.1, 0.1]    # Training phase accuracies for model 2\n",
    "# model2_test_acc = [0.82, 0.94, 0.9412] # Test phase accuracies for model 2\n",
    "\n",
    "phases = ['All features', 'Feature Selection', 'Smote upsampling']\n",
    "index = np.arange(len(phases))\n",
    "\n",
    "# Calculate differences between accuracies\n",
    "train_diff = np.abs(np.array(model1_train_acc) - np.array(model2_train_acc))\n",
    "test_diff = np.abs(np.array(model1_test_acc) - np.array(model2_test_acc))\n",
    "\n",
    "# Plotting training accuracies as curves with differences\n",
    "plt.figure(figsize=(10, 6))\n",
    "\n",
    "# Plotting training accuracies\n",
    "# plt.plot(index, model1_train_acc, marker='o', linestyle='-', color='b', label='RF (Train)')\n",
    "# plt.plot(index, model2_train_acc, marker='o', linestyle='-', color='g', label='XGBoost (Train)')\n",
    "\n",
    "# Highlighting differences with filled area plot\n",
    "plt.fill_between(index, model1_train_acc, model2_train_acc,  alpha=0.1)\n",
    "\n",
    "# Plotting test accuracies as curves with differences\n",
    "plt.plot(index, model1_test_acc, marker='o', linestyle='-', color='b', alpha=0.5, label='RF (Test)')\n",
    "plt.plot(index, model2_test_acc, marker='o', linestyle='-', color='g', alpha=0.5, label='XGBoost (Test)')\n",
    "\n",
    "# Highlighting differences with filled area plot\n",
    "# plt.fill_between(index, model1_test_acc, model2_test_acc, color='gray', alpha=0.1)\n",
    "\n",
    "plt.xlabel('Phases')\n",
    "plt.ylabel('Accuracy')\n",
    "plt.title('Accuracies of RF Model and XGBoost Model across Phases')\n",
    "plt.xticks(index, phases)\n",
    "plt.legend()\n",
    "plt.grid(True)\n",
    "plt.tight_layout()\n",
    "\n",
    "plt.show()\n"
   ]
  },
  {
   "cell_type": "code",
   "execution_count": null,
   "id": "2e006e7e-8c88-44c5-b8cf-76328d0c9d20",
   "metadata": {},
   "outputs": [],
   "source": []
  }
 ],
 "metadata": {
  "kernelspec": {
   "display_name": "Python 3 (ipykernel)",
   "language": "python",
   "name": "python3"
  },
  "language_info": {
   "codemirror_mode": {
    "name": "ipython",
    "version": 3
   },
   "file_extension": ".py",
   "mimetype": "text/x-python",
   "name": "python",
   "nbconvert_exporter": "python",
   "pygments_lexer": "ipython3",
   "version": "3.11.7"
  }
 },
 "nbformat": 4,
 "nbformat_minor": 5
}
