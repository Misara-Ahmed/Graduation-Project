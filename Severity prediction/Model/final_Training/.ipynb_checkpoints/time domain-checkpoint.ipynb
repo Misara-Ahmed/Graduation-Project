{
 "cells": [
  {
   "cell_type": "code",
   "execution_count": 2,
   "id": "9d138420-16ea-4bd5-828c-db9899b3601c",
   "metadata": {},
   "outputs": [],
   "source": [
    "import pandas as pd\n",
    "import matplotlib.pyplot as plt\n",
    "import numpy as np\n",
    "import matplotlib.pyplot as plt\n",
    "import seaborn as sns\n",
    "\n",
    "from sklearn.preprocessing import LabelEncoder, StandardScaler\n",
    "from sklearn.utils import shuffle\n",
    "from sklearn.model_selection import train_test_split\n",
    "\n",
    "from sklearn.metrics import classification_report, accuracy_score, precision_score, recall_score, f1_score, confusion_matrix, classification_report\n",
    "from sklearn.feature_selection import SelectKBest, f_classif, mutual_info_classif\n",
    "from sklearn.ensemble import RandomForestClassifier\n",
    "from sklearn.linear_model import LogisticRegression\n",
    "from sklearn.neighbors import KNeighborsClassifier\n",
    "from xgboost import XGBClassifier\n",
    "from sklearn.svm import SVC\n",
    "\n",
    "import warnings\n",
    "warnings.filterwarnings('ignore')\n",
    "\n",
    "from sklearn import metrics\n",
    "\n",
    "import random\n",
    "random_seed = 1234\n",
    "random.seed(random_seed)\n",
    "np.random.seed(random_seed)"
   ]
  },
  {
   "cell_type": "code",
   "execution_count": 3,
   "id": "518fb49f-74ca-4210-a9f2-e81b070ffdbf",
   "metadata": {},
   "outputs": [],
   "source": [
    "def cmatrix_fun(model_name, actual, predicted):\n",
    "    # Compute confusion matrix\n",
    "    cm = metrics.confusion_matrix(actual, predicted)\n",
    "    \n",
    "    # Normalize confusion matrix\n",
    "    cm_normalized = (cm.astype('float') / cm.sum(axis=1)[:, np.newaxis]) * 100\n",
    "    \n",
    "    # Plot the normalized confusion matrix\n",
    "    fig, ax = plt.subplots(figsize=(6, 6))\n",
    "    class_labels = ['normal', 'mild', 'moderate', 'severe']\n",
    "    im = ax.imshow(cm_normalized, interpolation='nearest', cmap='Blues')\n",
    "    \n",
    "    # Add colorbar\n",
    "    cbar = ax.figure.colorbar(im, ax=ax)\n",
    "    cbar.ax.set_ylabel('Percentage', rotation=-90, va=\"bottom\")\n",
    "    \n",
    "    # Show all ticks and label them with the respective list entries\n",
    "    ax.set(xticks=np.arange(cm.shape[1]),\n",
    "           yticks=np.arange(cm.shape[0]),\n",
    "           xticklabels=class_labels, yticklabels=class_labels,\n",
    "           title=model_name,\n",
    "           ylabel='True label',\n",
    "           xlabel='Predicted label')\n",
    "    \n",
    "    # Rotate the tick labels and set their alignment.\n",
    "    plt.setp(ax.get_xticklabels(), ha=\"right\",\n",
    "             rotation_mode=\"anchor\")\n",
    "    \n",
    "    # Loop over data dimensions and create text annotations.\n",
    "    fmt = '.2f'  # Format for the percentages\n",
    "    thresh = cm_normalized.max() / 2.\n",
    "    for i in range(cm.shape[0]):\n",
    "        for j in range(cm.shape[1]):\n",
    "            ax.text(j, i, format(cm_normalized[i, j], fmt),\n",
    "                    ha=\"center\", va=\"center\",\n",
    "                    color=\"white\" if cm_normalized[i, j] > thresh else \"black\")\n",
    "    \n",
    "    plt.show()"
   ]
  },
  {
   "cell_type": "code",
   "execution_count": 4,
   "id": "f649ab4f-0ad2-4776-8ad4-81e88056ed6b",
   "metadata": {},
   "outputs": [],
   "source": [
    "def read_csv_file(file_path):\n",
    "    try:\n",
    "        return pd.read_csv(file_path, encoding='utf-8')\n",
    "    except UnicodeDecodeError:\n",
    "        return pd.read_csv(file_path, encoding='latin1')\n",
    "\n",
    "\n",
    "def correlation(dataset, threshold):\n",
    "    col_corr = set()  # Set of all the names of correlated columns\n",
    "    corr_matrix = dataset.corr()\n",
    "    for i in range(len(corr_matrix.columns)):\n",
    "        for j in range(i):\n",
    "            if abs(corr_matrix.iloc[i, j]) > threshold: # we are interested in absolute coeff value\n",
    "                colname = corr_matrix.columns[i]  # getting the name of column\n",
    "                col_corr.add(colname)\n",
    "    return col_corr\n",
    "\n",
    "def Encoding(df):\n",
    "    # Create the ncoder variable\n",
    "    encoder = LabelEncoder()\n",
    "    cat_df = df.select_dtypes(include=['object'])\n",
    "    for i in cat_df:\n",
    "        # fit the categoral feature to the encoding method\n",
    "        df[i] = encoder.fit_transform(df[i]) \n",
    "    return df\n",
    "\n",
    "def MissingValueHandling(merged_df):\n",
    "    null_col =  dict(merged_df.isnull().sum()) \n",
    "    missing_data = []\n",
    "    for key, value in null_col.items():\n",
    "        if (value != 0):\n",
    "            missing_data.append(key) \n",
    "    print(\"Missing Values Column:\", null_col)\n",
    "    for i in missing_data:\n",
    "        fill_list = merged_df[i].dropna().tolist()\n",
    "        merged_df[i] = merged_df[i].fillna(pd.Series(np.random.choice(fill_list , size = len(merged_df.index))))\n",
    "    return merged_df\n",
    "    \n",
    "# Function to train and evaluate models\n",
    "def train_and_evaluate(model, model_name, X_train_scaled, y_train, X_test_scaled, y_test):\n",
    "    model.fit(X_train_scaled, y_train)\n",
    "    train_accuracy = model.score(X_train_scaled, y_train) * 100\n",
    "    test_accuracy = model.score(X_test_scaled, y_test) * 100\n",
    "    # y_pred = model.predict(X_test_scaled)\n",
    "    # accuracy = accuracy_score(y_test, y_pred)\n",
    "    \n",
    "    print(f\"{model_name} Training Accuracy: {train_accuracy:.2f}\")\n",
    "    print(f\"{model_name} Testing Accuracy: {test_accuracy:.2f}\")\n",
    "    # print(f\"{model_name} Model Accuracy: {accuracy:.2f}\")\n",
    "    \n",
    "\n",
    "\n",
    "def evaluate_classification_model(model, X_test, y_test):\n",
    "    # Make predictions on the test set\n",
    "    y_pred = model.predict(X_test)\n",
    "\n",
    "    # Compute evaluation metrics\n",
    "    accuracy = accuracy_score(y_test, y_pred)\n",
    "    precision = precision_score(y_test, y_pred, average='weighted')\n",
    "    recall = recall_score(y_test, y_pred, average='weighted')\n",
    "    f1 = f1_score(y_test, y_pred, average='weighted')\n",
    "    cm = confusion_matrix(y_test, y_pred)\n",
    "\n",
    "    # Print the evaluation metrics\n",
    "    print(\"Precision:\", precision)\n",
    "    print(\"Recall:\", recall)\n",
    "    print(\"F1-score:\", f1)\n",
    "\n",
    "    # Plot the confusion matrix\n",
    "    labels = np.unique(y_test)\n",
    "    sns.heatmap(cm, annot=True, fmt='d', cmap='Blues', xticklabels=labels, yticklabels=labels)\n",
    "    plt.title('Confusion Matrix')\n",
    "    plt.xlabel('Predicted Label')\n",
    "    plt.ylabel('True Label')\n",
    "    plt.show()\n"
   ]
  },
  {
   "cell_type": "markdown",
   "id": "2b1e7e1e-a27c-4614-97d6-68fd013af260",
   "metadata": {},
   "source": [
    "## File Paths:"
   ]
  },
  {
   "cell_type": "code",
   "execution_count": 5,
   "id": "e9c91be2-4040-409a-87f8-af2e5c2ed48a",
   "metadata": {},
   "outputs": [
    {
     "data": {
      "text/html": [
       "<div>\n",
       "<style scoped>\n",
       "    .dataframe tbody tr th:only-of-type {\n",
       "        vertical-align: middle;\n",
       "    }\n",
       "\n",
       "    .dataframe tbody tr th {\n",
       "        vertical-align: top;\n",
       "    }\n",
       "\n",
       "    .dataframe thead th {\n",
       "        text-align: right;\n",
       "    }\n",
       "</style>\n",
       "<table border=\"1\" class=\"dataframe\">\n",
       "  <thead>\n",
       "    <tr style=\"text-align: right;\">\n",
       "      <th></th>\n",
       "      <th>patient_id</th>\n",
       "      <th>swing_time_max</th>\n",
       "      <th>swing_time_min</th>\n",
       "      <th>stance_time_max</th>\n",
       "      <th>stance_time_min</th>\n",
       "      <th>stride_time_max</th>\n",
       "      <th>stride_time_min</th>\n",
       "      <th>setting_angle</th>\n",
       "      <th>mean_hs_angle</th>\n",
       "      <th>mean_to_angle</th>\n",
       "      <th>thrustACCel_C</th>\n",
       "      <th>thrustACCel_T</th>\n",
       "      <th>max_stance_angles</th>\n",
       "      <th>max_swing_angles</th>\n",
       "    </tr>\n",
       "  </thead>\n",
       "  <tbody>\n",
       "    <tr>\n",
       "      <th>0</th>\n",
       "      <td>1</td>\n",
       "      <td>1.04</td>\n",
       "      <td>0.46</td>\n",
       "      <td>1.18</td>\n",
       "      <td>0.81</td>\n",
       "      <td>1.99</td>\n",
       "      <td>1.31</td>\n",
       "      <td>71.29</td>\n",
       "      <td>24.000000</td>\n",
       "      <td>38.840000</td>\n",
       "      <td>4.773602</td>\n",
       "      <td>4.583859</td>\n",
       "      <td>38.570000</td>\n",
       "      <td>48.310000</td>\n",
       "    </tr>\n",
       "    <tr>\n",
       "      <th>1</th>\n",
       "      <td>1</td>\n",
       "      <td>1.22</td>\n",
       "      <td>0.42</td>\n",
       "      <td>1.39</td>\n",
       "      <td>0.08</td>\n",
       "      <td>2.24</td>\n",
       "      <td>0.53</td>\n",
       "      <td>64.05</td>\n",
       "      <td>21.227143</td>\n",
       "      <td>34.982857</td>\n",
       "      <td>3.998539</td>\n",
       "      <td>4.071786</td>\n",
       "      <td>36.245714</td>\n",
       "      <td>44.990000</td>\n",
       "    </tr>\n",
       "    <tr>\n",
       "      <th>2</th>\n",
       "      <td>1</td>\n",
       "      <td>1.01</td>\n",
       "      <td>0.42</td>\n",
       "      <td>1.01</td>\n",
       "      <td>0.23</td>\n",
       "      <td>2.02</td>\n",
       "      <td>0.65</td>\n",
       "      <td>67.16</td>\n",
       "      <td>17.451667</td>\n",
       "      <td>32.843333</td>\n",
       "      <td>5.758030</td>\n",
       "      <td>4.085388</td>\n",
       "      <td>33.476667</td>\n",
       "      <td>45.666667</td>\n",
       "    </tr>\n",
       "    <tr>\n",
       "      <th>3</th>\n",
       "      <td>10</td>\n",
       "      <td>0.90</td>\n",
       "      <td>0.43</td>\n",
       "      <td>0.85</td>\n",
       "      <td>0.52</td>\n",
       "      <td>1.61</td>\n",
       "      <td>1.00</td>\n",
       "      <td>71.26</td>\n",
       "      <td>11.700000</td>\n",
       "      <td>27.365000</td>\n",
       "      <td>4.709792</td>\n",
       "      <td>4.946556</td>\n",
       "      <td>25.715000</td>\n",
       "      <td>52.178333</td>\n",
       "    </tr>\n",
       "    <tr>\n",
       "      <th>4</th>\n",
       "      <td>10</td>\n",
       "      <td>0.61</td>\n",
       "      <td>0.36</td>\n",
       "      <td>0.86</td>\n",
       "      <td>0.34</td>\n",
       "      <td>1.43</td>\n",
       "      <td>0.95</td>\n",
       "      <td>69.07</td>\n",
       "      <td>17.008571</td>\n",
       "      <td>28.935714</td>\n",
       "      <td>4.736628</td>\n",
       "      <td>3.278026</td>\n",
       "      <td>29.624286</td>\n",
       "      <td>48.752857</td>\n",
       "    </tr>\n",
       "  </tbody>\n",
       "</table>\n",
       "</div>"
      ],
      "text/plain": [
       "   patient_id  swing_time_max  swing_time_min  stance_time_max  \\\n",
       "0           1            1.04            0.46             1.18   \n",
       "1           1            1.22            0.42             1.39   \n",
       "2           1            1.01            0.42             1.01   \n",
       "3          10            0.90            0.43             0.85   \n",
       "4          10            0.61            0.36             0.86   \n",
       "\n",
       "   stance_time_min  stride_time_max  stride_time_min  setting_angle  \\\n",
       "0             0.81             1.99             1.31          71.29   \n",
       "1             0.08             2.24             0.53          64.05   \n",
       "2             0.23             2.02             0.65          67.16   \n",
       "3             0.52             1.61             1.00          71.26   \n",
       "4             0.34             1.43             0.95          69.07   \n",
       "\n",
       "   mean_hs_angle  mean_to_angle  thrustACCel_C  thrustACCel_T  \\\n",
       "0      24.000000      38.840000       4.773602       4.583859   \n",
       "1      21.227143      34.982857       3.998539       4.071786   \n",
       "2      17.451667      32.843333       5.758030       4.085388   \n",
       "3      11.700000      27.365000       4.709792       4.946556   \n",
       "4      17.008571      28.935714       4.736628       3.278026   \n",
       "\n",
       "   max_stance_angles  max_swing_angles  \n",
       "0          38.570000         48.310000  \n",
       "1          36.245714         44.990000  \n",
       "2          33.476667         45.666667  \n",
       "3          25.715000         52.178333  \n",
       "4          29.624286         48.752857  "
      ]
     },
     "execution_count": 5,
     "metadata": {},
     "output_type": "execute_result"
    }
   ],
   "source": [
    "womac_path = \"../csv/data_training/classify.csv\"\n",
    "features_path = \"../csv/data_training/one-domain-only/time_FeaturesT.csv\"\n",
    "\n",
    "wdf = read_csv_file(womac_path)\n",
    "fdf = read_csv_file(features_path)\n",
    "\n",
    "fdf.columns = fdf.columns.str.strip()\n",
    "wdf.columns = wdf.columns.str.strip()\n",
    "\n",
    "assert 'patient_id' in fdf.columns, \"'patient_id' not found in fdf columns\"\n",
    "assert 'patient_id' in wdf.columns, \"'patient_id' not found in wdf columns\"\n",
    "\n",
    "fdf.head()\n",
    "# wdf.head()"
   ]
  },
  {
   "cell_type": "markdown",
   "id": "7f02c845-bc9f-4f97-aa18-ff1efa37be19",
   "metadata": {},
   "source": [
    "# Preprocessing:"
   ]
  },
  {
   "cell_type": "markdown",
   "id": "0da73c5b-7492-449d-b737-48a454c36400",
   "metadata": {},
   "source": [
    "## Merging two Dataframes"
   ]
  },
  {
   "cell_type": "code",
   "execution_count": 6,
   "id": "46a79e1b-98da-4c9d-8b45-5d017ed31757",
   "metadata": {},
   "outputs": [
    {
     "name": "stdout",
     "output_type": "stream",
     "text": [
      "trials: {11: 5, 17: 4, 18: 4, 23: 4, 22: 4, 21: 4, 20: 4, 7: 4, 8: 4, 6: 4, 16: 4, 15: 4, 14: 4, 13: 4, 12: 4, 5: 3, 1: 3, 2: 3, 3: 3, 10: 3, 19: 3, 9: 3, 4: 2}\n",
      "features df shape: (84, 14)\n",
      "all df shape: (84, 7)\n"
     ]
    },
    {
     "data": {
      "text/plain": [
       "(84, 20)"
      ]
     },
     "execution_count": 6,
     "metadata": {},
     "output_type": "execute_result"
    }
   ],
   "source": [
    "# Get the count of trials per patient\n",
    "trials_counts = fdf['patient_id'].value_counts().to_dict()\n",
    "print(\"trials:\", trials_counts)\n",
    "# Expand the anthropometric data\n",
    "expanded_wdf = wdf.loc[\n",
    "    wdf.index.repeat(wdf['patient_id'].map(trials_counts))\n",
    "].reset_index(drop=True)\n",
    "print(\"features df shape:\", fdf.shape)\n",
    "print(\"all df shape:\", expanded_wdf.shape)\n",
    "\n",
    "merged_df = pd.merge(fdf, wdf, on='patient_id', how='left')\n",
    "merged_df.shape"
   ]
  },
  {
   "cell_type": "markdown",
   "id": "c7f3d598-ecea-4721-8001-1fdd9f55da84",
   "metadata": {},
   "source": [
    "## Missing Data Handling"
   ]
  },
  {
   "cell_type": "code",
   "execution_count": 7,
   "id": "e06dc0ba-1734-474c-a7f0-2c4cb04d89df",
   "metadata": {},
   "outputs": [
    {
     "name": "stdout",
     "output_type": "stream",
     "text": [
      "Missing Values Column: {'patient_id': 0, 'swing_time_max': 0, 'swing_time_min': 0, 'stance_time_max': 0, 'stance_time_min': 0, 'stride_time_max': 0, 'stride_time_min': 0, 'setting_angle': 0, 'mean_hs_angle': 0, 'mean_to_angle': 0, 'thrustACCel_C': 7, 'thrustACCel_T': 16, 'max_stance_angles': 1, 'max_swing_angles': 0, 'name': 0, 'gender': 0, 'leg': 0, 'age': 3, 'BMI': 0, 'severity': 0}\n",
      "Missing values: [0 0 0 0 0 0 0 0 0 0 0 0 0 0 0 0 0 0 0 0]\n"
     ]
    }
   ],
   "source": [
    "merged_df = MissingValueHandling(merged_df)\n",
    "    \n",
    "null_col =  np.array(merged_df.isnull().sum()) \n",
    "print(\"Missing values:\", null_col)"
   ]
  },
  {
   "cell_type": "markdown",
   "id": "47eaac1b-fb22-4c45-9fb0-eb622dd644b6",
   "metadata": {},
   "source": [
    "## Encoding Categorical Data:"
   ]
  },
  {
   "cell_type": "code",
   "execution_count": 8,
   "id": "ecaf184d-77dc-407f-a3c6-c401367875c1",
   "metadata": {},
   "outputs": [
    {
     "name": "stdout",
     "output_type": "stream",
     "text": [
      "Severity before Encoding:\n",
      "{'normal': 33, 'severe': 21, 'mild': 16, 'moderate': 14}\n",
      "Severity after Encoding:\n"
     ]
    },
    {
     "data": {
      "text/plain": [
       "{2: 33, 3: 21, 0: 16, 1: 14}"
      ]
     },
     "execution_count": 8,
     "metadata": {},
     "output_type": "execute_result"
    }
   ],
   "source": [
    "print('Severity before Encoding:')\n",
    "print(dict(merged_df['severity'].value_counts()))\n",
    "\n",
    "merged_df = Encoding(merged_df)\n",
    "    \n",
    "# # Check that the value transformed successfully \n",
    "print('Severity after Encoding:')\n",
    "dict(merged_df['severity'].value_counts())"
   ]
  },
  {
   "cell_type": "markdown",
   "id": "0c126a98-6c64-44f1-bde3-e652839f6402",
   "metadata": {},
   "source": [
    "## Drop Extra Columns and splitting data from target"
   ]
  },
  {
   "cell_type": "code",
   "execution_count": 9,
   "id": "9ae5abfd-cbca-4495-b416-697ddb99621a",
   "metadata": {},
   "outputs": [
    {
     "data": {
      "text/plain": [
       "Index(['patient_id', 'swing_time_max', 'swing_time_min', 'stance_time_max',\n",
       "       'stance_time_min', 'stride_time_max', 'stride_time_min',\n",
       "       'setting_angle', 'mean_hs_angle', 'mean_to_angle', 'thrustACCel_C',\n",
       "       'thrustACCel_T', 'max_stance_angles', 'max_swing_angles', 'name',\n",
       "       'gender', 'leg', 'age', 'BMI', 'severity'],\n",
       "      dtype='object')"
      ]
     },
     "execution_count": 9,
     "metadata": {},
     "output_type": "execute_result"
    }
   ],
   "source": [
    "merged_df.columns"
   ]
  },
  {
   "cell_type": "code",
   "execution_count": 11,
   "id": "0143a04b-2c97-43ac-813c-b39de9107659",
   "metadata": {},
   "outputs": [
    {
     "data": {
      "text/plain": [
       "(67, 16)"
      ]
     },
     "execution_count": 11,
     "metadata": {},
     "output_type": "execute_result"
    }
   ],
   "source": [
    "merged_df = shuffle(merged_df, random_state=random_seed)\n",
    "\n",
    "columns_to_drop = ['patient_id', 'name', 'leg', 'severity']\n",
    "\n",
    "X = merged_df.drop(columns = columns_to_drop, axis = 1)  \n",
    "y = merged_df['severity']  \n",
    "\n",
    "X_train, X_test, y_train, y_test = train_test_split(X, y, test_size=0.2, random_state=random_seed)\n",
    "X_train.shape"
   ]
  },
  {
   "cell_type": "markdown",
   "id": "a821ae2c-57fb-4304-b0f8-16efb2034b24",
   "metadata": {},
   "source": [
    "# Feature Selection"
   ]
  },
  {
   "cell_type": "markdown",
   "id": "5a95ec96-fbe6-47ba-9f4c-554e73278090",
   "metadata": {},
   "source": [
    "## Filter Method"
   ]
  },
  {
   "cell_type": "code",
   "execution_count": 12,
   "id": "38aa5655-c8c4-4f25-8510-a58265784f94",
   "metadata": {},
   "outputs": [
    {
     "data": {
      "image/png": "[encoded data removed]",
      "text/plain": [
       "<Figure size 1200x1200 with 1 Axes>"
      ]
     },
     "metadata": {},
     "output_type": "display_data"
    }
   ],
   "source": [
    "###################################################### Information Gain ######################################################\n",
    "mi_scores = mutual_info_classif(X, y)\n",
    "mi_scores_df = pd.DataFrame({'Feature': X.columns, 'MI Score': mi_scores})\n",
    "# Sort features by their mutual information scores\n",
    "mi_scores_df = mi_scores_df.sort_values(by='MI Score', ascending=False)\n",
    "# mi_scores_df\n",
    "\n",
    "# Plot feature importance\n",
    "plt.figure(figsize=(12, 12))\n",
    "plt.barh(mi_scores_df['Feature'], mi_scores_df['MI Score'], color='teal')\n",
    "plt.xlabel('Mutual Information Score')\n",
    "plt.ylabel('Feature')\n",
    "plt.title('Feature Importance using Mutual Information')\n",
    "plt.gca().invert_yaxis()  # To display the highest scores at the top\n",
    "\n",
    "# Save the plot as an image\n",
    "# plt.savefig('important_img/Gain_feature_importance.png', format='png', dpi=300, bbox_inches='tight')\n",
    "\n",
    "plt.show()"
   ]
  },
  {
   "cell_type": "code",
   "execution_count": 13,
   "id": "b0d146c8-7131-4711-8bf6-b218036560db",
   "metadata": {},
   "outputs": [
    {
     "data": {
      "text/plain": [
       "['swing_time_max']"
      ]
     },
     "execution_count": 13,
     "metadata": {},
     "output_type": "execute_result"
    }
   ],
   "source": [
    "non_selected_features = []\n",
    "for i in range(len(mi_scores_df[\"Feature\"])):\n",
    "    # print(mi_scores_df[\"Feature\"][i])\n",
    "    if mi_scores_df[\"MI Score\"][i] == 0.000000:\n",
    "        non_selected_features.append(mi_scores_df[\"Feature\"][i])\n",
    "\n",
    "non_selected_features"
   ]
  },
  {
   "cell_type": "markdown",
   "id": "284d47a3-07a2-4ad2-a072-11eecafd097d",
   "metadata": {},
   "source": [
    "### Drop unselected columns from filter method"
   ]
  },
  {
   "cell_type": "code",
   "execution_count": 14,
   "id": "1a833c1f-a2f0-48a7-8563-22623d41ed44",
   "metadata": {},
   "outputs": [
    {
     "data": {
      "text/plain": [
       "Index(['swing_time_min', 'stance_time_max', 'stance_time_min',\n",
       "       'stride_time_max', 'stride_time_min', 'setting_angle', 'mean_hs_angle',\n",
       "       'mean_to_angle', 'thrustACCel_C', 'thrustACCel_T', 'max_stance_angles',\n",
       "       'max_swing_angles', 'gender', 'age', 'BMI'],\n",
       "      dtype='object')"
      ]
     },
     "execution_count": 14,
     "metadata": {},
     "output_type": "execute_result"
    }
   ],
   "source": [
    "X_train_filter = X_train.drop(non_selected_features, axis=1)\n",
    "X_test_filter = X_test.drop(non_selected_features, axis=1)\n",
    "X_train_filter.columns"
   ]
  },
  {
   "cell_type": "markdown",
   "id": "c046edd8-0819-4de0-b02e-c9ff8cd58613",
   "metadata": {},
   "source": [
    "# Scaling Data"
   ]
  },
  {
   "cell_type": "code",
   "execution_count": 15,
   "id": "7e2aab7d-62ef-475f-a1c5-be183eef3f5c",
   "metadata": {},
   "outputs": [],
   "source": [
    "scaler_filter = StandardScaler()\n",
    "X_train_filter = scaler_filter.fit_transform(X_train_filter)\n",
    "X_test_filter = scaler_filter.transform(X_test_filter)"
   ]
  },
  {
   "cell_type": "code",
   "execution_count": 16,
   "id": "d4b81c7d-71c8-4645-91bc-1bff46822576",
   "metadata": {},
   "outputs": [],
   "source": [
    "scaler = StandardScaler()\n",
    "X_train = scaler.fit_transform(X_train)\n",
    "X_test = scaler.transform(X_test)"
   ]
  },
  {
   "cell_type": "markdown",
   "id": "81fb984a-7800-4e4b-b304-b5e8b5b2cceb",
   "metadata": {},
   "source": [
    "# Model Training"
   ]
  },
  {
   "cell_type": "markdown",
   "id": "75f5799e-7e0c-4536-bf00-ca68f9c497ea",
   "metadata": {},
   "source": [
    "## All Features"
   ]
  },
  {
   "cell_type": "code",
   "execution_count": 17,
   "id": "7793b888-2301-4ad7-abeb-234901ca12e4",
   "metadata": {},
   "outputs": [
    {
     "name": "stdout",
     "output_type": "stream",
     "text": [
      "Random Forest Training Accuracy: 100.00\n",
      "Random Forest Testing Accuracy: 70.59\n",
      "F1 Score (Random Forest): 0.6144\n",
      "--------------------------------------------------\n",
      "Logistic Regression Training Accuracy: 92.54\n",
      "Logistic Regression Testing Accuracy: 58.82\n",
      "F1 Score (Logistic Regression): 0.5260\n",
      "--------------------------------------------------\n",
      "KNN (k=7) Training Accuracy: 68.66\n",
      "KNN (k=7) Testing Accuracy: 41.18\n",
      "F1 Score (KNN (k=7)): 0.4512\n",
      "--------------------------------------------------\n",
      "XGBoost Training Accuracy: 100.00\n",
      "XGBoost Testing Accuracy: 58.82\n",
      "F1 Score (XGBoost): 0.5083\n",
      "--------------------------------------------------\n",
      "linear SVM Training Accuracy: 92.54\n",
      "linear SVM Testing Accuracy: 64.71\n",
      "F1 Score (linear SVM): 0.6029\n",
      "--------------------------------------------------\n",
      "Poly SVM Training Accuracy: 71.64\n",
      "Poly SVM Testing Accuracy: 47.06\n",
      "F1 Score (Poly SVM): 0.3791\n",
      "--------------------------------------------------\n",
      "rbf SVM Training Accuracy: 94.03\n",
      "rbf SVM Testing Accuracy: 64.71\n",
      "F1 Score (rbf SVM): 0.5715\n",
      "--------------------------------------------------\n",
      "Sigmoid SVM Training Accuracy: 64.18\n",
      "Sigmoid SVM Testing Accuracy: 41.18\n",
      "F1 Score (Sigmoid SVM): 0.3922\n",
      "--------------------------------------------------\n",
      "Lasso Logistic Regression Training Accuracy: 89.55\n",
      "Lasso Logistic Regression Testing Accuracy: 52.94\n",
      "F1 Score (Lasso Logistic Regression): 0.4706\n",
      "--------------------------------------------------\n"
     ]
    }
   ],
   "source": [
    "models_all = {\n",
    "    \"Random Forest\": RandomForestClassifier(random_state=random_seed),\n",
    "    \"Logistic Regression\": LogisticRegression(),\n",
    "    \"KNN (k=7)\": KNeighborsClassifier(n_neighbors=5),\n",
    "    \"XGBoost\": XGBClassifier(),\n",
    "    \"linear SVM\": SVC(kernel='linear', random_state=random_seed),\n",
    "    \"Poly SVM\": SVC(kernel='poly', random_state=random_seed),\n",
    "    \"rbf SVM\": SVC(kernel='rbf', random_state=random_seed),\n",
    "    \"Sigmoid SVM\": SVC(kernel= 'sigmoid', random_state=random_seed),\n",
    "    \"Lasso Logistic Regression\": LogisticRegression(penalty='l1', solver='saga', multi_class='multinomial', max_iter=10000, random_state=random_seed)\n",
    "}\n",
    "\n",
    "# Train and evaluate each model\n",
    "for model_name, model in models_all.items():\n",
    "    train_and_evaluate(model, model_name, X_train, y_train, X_test, y_test)\n",
    "    y_pred = model.predict(X_test)\n",
    "    f1 = f1_score(y_test, y_pred, average='weighted')\n",
    "    print(f\"F1 Score ({model_name}): {f1:.4f}\")\n",
    "    print('-' * 50)\n"
   ]
  },
  {
   "cell_type": "code",
   "execution_count": 16,
   "id": "9cb787a8-dc4b-49e0-82d8-9f1c021abfea",
   "metadata": {},
   "outputs": [],
   "source": [
    "# clf_all =  RandomForestClassifier(random_state=random_seed)\n",
    "# clf_all.fit(X_train, y_train)\n",
    "\n",
    "# y_pred_all_features = clf_all.predict(X_test)\n",
    "\n",
    "# cmatrix_fun(\"Rf with ALL features\", y_test, y_pred_all_features)"
   ]
  },
  {
   "cell_type": "markdown",
   "id": "40c38aea-d55c-4255-b943-28487fa67870",
   "metadata": {},
   "source": [
    "## Over Sampling"
   ]
  },
  {
   "cell_type": "code",
   "execution_count": 17,
   "id": "bf461c2c-1394-49e6-87a4-6cd87ac3ee1e",
   "metadata": {},
   "outputs": [
    {
     "name": "stdout",
     "output_type": "stream",
     "text": [
      " X_shape: (10000, 16) \n",
      " y_shape: (10000,)\n"
     ]
    }
   ],
   "source": [
    "from imblearn.over_sampling  import RandomOverSampler\n",
    "sampling_strategy = {\n",
    "    0: 2500,\n",
    "    1: 2500,\n",
    "    2: 2500,\n",
    "    3: 2500\n",
    "    # Add more classes as needed\n",
    "}\n",
    "\n",
    "# X_train, X_test, y_train, y_test = train_test_split(X, y, test_size=0.2, random_state=random_seed)\n",
    "\n",
    "# Initialize RandomOverSampler with the specified sampling strategy\n",
    "smoteOver = RandomOverSampler(sampling_strategy=sampling_strategy)\n",
    "# smoteOver = RandomOverSampler(sampling_strategy=1)\n",
    "X_smoteOver, y_smoteOver = smoteOver.fit_resample(X_train , y_train)\n",
    "print(f' X_shape: {X_smoteOver.shape} \\n y_shape: {y_smoteOver.shape}')\n",
    "\n",
    "# Initialize StandardScaler\n",
    "# scaler_corr = StandardScaler()\n",
    "# X_train_smote = scaler_corr.fit_transform(X_smoteOver)\n",
    "# X_test_smote = scaler_corr.transform(X_test)\n",
    "\n"
   ]
  },
  {
   "cell_type": "code",
   "execution_count": 18,
   "id": "42011332-86d8-4f9e-8aa8-f378943c6221",
   "metadata": {},
   "outputs": [
    {
     "name": "stdout",
     "output_type": "stream",
     "text": [
      "Random Forest Training Accuracy: 100.00\n",
      "Random Forest Testing Accuracy: 76.47\n",
      "F1 Score (Random Forest): 0.7608\n",
      "--------------------------------------------------\n",
      "Logistic Regression Training Accuracy: 94.15\n",
      "Logistic Regression Testing Accuracy: 58.82\n",
      "F1 Score (Logistic Regression): 0.5677\n",
      "--------------------------------------------------\n",
      "KNN (k=7) Training Accuracy: 100.00\n",
      "KNN (k=7) Testing Accuracy: 70.59\n",
      "F1 Score (KNN (k=7)): 0.7132\n",
      "--------------------------------------------------\n",
      "XGBoost Training Accuracy: 100.00\n",
      "XGBoost Testing Accuracy: 82.35\n",
      "F1 Score (XGBoost): 0.8357\n",
      "--------------------------------------------------\n",
      "linear SVM Training Accuracy: 96.54\n",
      "linear SVM Testing Accuracy: 64.71\n",
      "F1 Score (linear SVM): 0.6039\n",
      "--------------------------------------------------\n",
      "Poly SVM Training Accuracy: 100.00\n",
      "Poly SVM Testing Accuracy: 82.35\n",
      "F1 Score (Poly SVM): 0.8379\n",
      "--------------------------------------------------\n",
      "rbf SVM Training Accuracy: 100.00\n",
      "rbf SVM Testing Accuracy: 76.47\n",
      "F1 Score (rbf SVM): 0.7835\n",
      "--------------------------------------------------\n",
      "Sigmoid SVM Training Accuracy: 55.86\n",
      "Sigmoid SVM Testing Accuracy: 52.94\n",
      "F1 Score (Sigmoid SVM): 0.5490\n",
      "--------------------------------------------------\n",
      "Lasso Logistic Regression Training Accuracy: 94.00\n",
      "Lasso Logistic Regression Testing Accuracy: 47.06\n",
      "F1 Score (Lasso Logistic Regression): 0.4100\n",
      "--------------------------------------------------\n"
     ]
    }
   ],
   "source": [
    "models_sample = {\n",
    "    \"Random Forest\": RandomForestClassifier(random_state=random_seed),\n",
    "    \"Logistic Regression\": LogisticRegression(),\n",
    "    \"KNN (k=7)\": KNeighborsClassifier(n_neighbors=5),\n",
    "    \"XGBoost\": XGBClassifier(),\n",
    "    \"linear SVM\": SVC(kernel='linear', random_state=random_seed),\n",
    "    \"Poly SVM\": SVC(kernel='poly', random_state=random_seed),\n",
    "    \"rbf SVM\": SVC(kernel='rbf', random_state=random_seed),\n",
    "    \"Sigmoid SVM\": SVC(kernel= 'sigmoid', random_state=random_seed),\n",
    "    \"Lasso Logistic Regression\": LogisticRegression(penalty='l1', solver='saga', multi_class='multinomial', max_iter=10000, random_state=random_seed)\n",
    "}\n",
    "\n",
    "# Train and evaluate each model\n",
    "for model_name, model in models_sample.items():\n",
    "    train_and_evaluate(model, model_name, X_smoteOver, y_smoteOver, X_test, y_test)\n",
    "    y_pred = model.predict(X_test)\n",
    "    f1 = f1_score(y_test, y_pred, average='weighted')\n",
    "    print(f\"F1 Score ({model_name}): {f1:.4f}\")\n",
    "    print('-' * 50)"
   ]
  },
  {
   "cell_type": "code",
   "execution_count": 19,
   "id": "83ae455a-792a-4c55-8af4-1ad297291701",
   "metadata": {},
   "outputs": [],
   "source": [
    "# clf_all =  RandomForestClassifier(random_state=random_seed)\n",
    "# clf_all.fit(X_smoteOver, y_smoteOver)\n",
    "\n",
    "# y_pred_sample = clf_all.predict(X_test)\n",
    "\n",
    "# cmatrix_fun(\"Rf with ALL features\", y_test, y_pred_sample)"
   ]
  },
  {
   "cell_type": "markdown",
   "id": "48e31062-52f5-433a-ad3f-1855c63850bb",
   "metadata": {},
   "source": [
    "## Feature selection training"
   ]
  },
  {
   "cell_type": "code",
   "execution_count": 20,
   "id": "0b0a6be1-747a-437d-9465-8073fffb806a",
   "metadata": {},
   "outputs": [
    {
     "name": "stdout",
     "output_type": "stream",
     "text": [
      "Random Forest Training Accuracy: 100.00\n",
      "Random Forest Testing Accuracy: 76.47\n",
      "F1 Score (Random Forest): 0.7798\n",
      "--------------------------------------------------\n",
      "Logistic Regression Training Accuracy: 80.60\n",
      "Logistic Regression Testing Accuracy: 52.94\n",
      "F1 Score (Logistic Regression): 0.4985\n",
      "--------------------------------------------------\n",
      "KNN (k=7) Training Accuracy: 73.13\n",
      "KNN (k=7) Testing Accuracy: 70.59\n",
      "F1 Score (KNN (k=7)): 0.6768\n",
      "--------------------------------------------------\n",
      "XGBoost Training Accuracy: 100.00\n",
      "XGBoost Testing Accuracy: 76.47\n",
      "F1 Score (XGBoost): 0.7608\n",
      "--------------------------------------------------\n",
      "linear SVM Training Accuracy: 83.58\n",
      "linear SVM Testing Accuracy: 58.82\n",
      "F1 Score (linear SVM): 0.5548\n",
      "--------------------------------------------------\n",
      "Poly SVM Training Accuracy: 61.19\n",
      "Poly SVM Testing Accuracy: 47.06\n",
      "F1 Score (Poly SVM): 0.3389\n",
      "--------------------------------------------------\n",
      "rbf SVM Training Accuracy: 85.07\n",
      "rbf SVM Testing Accuracy: 58.82\n",
      "F1 Score (rbf SVM): 0.5863\n",
      "--------------------------------------------------\n",
      "Sigmoid SVM Training Accuracy: 53.73\n",
      "Sigmoid SVM Testing Accuracy: 47.06\n",
      "F1 Score (Sigmoid SVM): 0.3471\n",
      "--------------------------------------------------\n",
      "Lasso Logistic Regression Training Accuracy: 77.61\n",
      "Lasso Logistic Regression Testing Accuracy: 52.94\n",
      "F1 Score (Lasso Logistic Regression): 0.4985\n",
      "--------------------------------------------------\n"
     ]
    }
   ],
   "source": [
    "models_filter = {\n",
    "    \"Random Forest\": RandomForestClassifier(random_state=random_seed),\n",
    "    \"Logistic Regression\": LogisticRegression(),\n",
    "    \"KNN (k=7)\": KNeighborsClassifier(n_neighbors=7),\n",
    "    \"XGBoost\": XGBClassifier(),\n",
    "    \"linear SVM\": SVC(kernel='linear', random_state=random_seed),\n",
    "    \"Poly SVM\": SVC(kernel='poly', random_state=random_seed),\n",
    "    \"rbf SVM\": SVC(kernel='rbf', random_state=random_seed),\n",
    "    \"Sigmoid SVM\": SVC(kernel= 'sigmoid', random_state=random_seed),\n",
    "    \"Lasso Logistic Regression\": LogisticRegression(penalty='l1', solver='saga', multi_class='multinomial', max_iter=10000, random_state=random_seed)\n",
    "}\n",
    "\n",
    "# Train and evaluate each model\n",
    "for model_name, model in models_filter.items():\n",
    "    train_and_evaluate(model, model_name, X_train_filter, y_train, X_test_filter, y_test)\n",
    "    y_pred = model.predict(X_test_filter)\n",
    "    f1 = f1_score(y_test, y_pred, average='weighted')\n",
    "    print(f\"F1 Score ({model_name}): {f1:.4f}\")\n",
    "    print('-' * 50)\n",
    "    "
   ]
  },
  {
   "cell_type": "code",
   "execution_count": 21,
   "id": "7b7b21a5-81a0-44ef-bf13-256c0dc7e4d5",
   "metadata": {},
   "outputs": [],
   "source": [
    "# clf_filter =  RandomForestClassifier(random_state=random_seed)\n",
    "# clf_filter.fit(X_train_filter, y_train)\n",
    "\n",
    "# y_pred_filter = clf_filter.predict(X_test_filter)\n",
    "\n",
    "# cmatrix_fun(\"Rf with ALL features\", y_test, y_pred_filter)"
   ]
  },
  {
   "cell_type": "markdown",
   "id": "a6663765-1f4b-412e-a22e-4a5ae1b77def",
   "metadata": {},
   "source": [
    "## PCA selection"
   ]
  },
  {
   "cell_type": "code",
   "execution_count": 22,
   "id": "76843aca-9b8b-4734-89f4-87a53483c835",
   "metadata": {},
   "outputs": [
    {
     "ename": "ValueError",
     "evalue": "n_components=10 must be between 0 and min(n_samples, n_features)=5 with svd_solver='full'",
     "output_type": "error",
     "traceback": [
      "\u001b[1;31m---------------------------------------------------------------------------\u001b[0m",
      "\u001b[1;31mValueError\u001b[0m                                Traceback (most recent call last)",
      "Cell \u001b[1;32mIn[22], line 10\u001b[0m\n\u001b[0;32m      8\u001b[0m data_selected \u001b[38;5;241m=\u001b[39m model_pca\u001b[38;5;241m.\u001b[39mtransform(X_train)\n\u001b[0;32m      9\u001b[0m pca \u001b[38;5;241m=\u001b[39m PCA(n_components\u001b[38;5;241m=\u001b[39m\u001b[38;5;241m10\u001b[39m)\n\u001b[1;32m---> 10\u001b[0m X_train_pca \u001b[38;5;241m=\u001b[39m \u001b[43mpca\u001b[49m\u001b[38;5;241;43m.\u001b[39;49m\u001b[43mfit_transform\u001b[49m\u001b[43m(\u001b[49m\u001b[43mdata_selected\u001b[49m\u001b[43m)\u001b[49m\n\u001b[0;32m     12\u001b[0m x1 \u001b[38;5;241m=\u001b[39m model_pca\u001b[38;5;241m.\u001b[39mtransform(X_test)\n\u001b[0;32m     13\u001b[0m X_test_pca \u001b[38;5;241m=\u001b[39m pca\u001b[38;5;241m.\u001b[39mtransform(x1)\n",
      "File \u001b[1;32m~\\anaconda3\\Lib\\site-packages\\sklearn\\utils\\_set_output.py:140\u001b[0m, in \u001b[0;36m_wrap_method_output.<locals>.wrapped\u001b[1;34m(self, X, *args, **kwargs)\u001b[0m\n\u001b[0;32m    138\u001b[0m \u001b[38;5;129m@wraps\u001b[39m(f)\n\u001b[0;32m    139\u001b[0m \u001b[38;5;28;01mdef\u001b[39;00m \u001b[38;5;21mwrapped\u001b[39m(\u001b[38;5;28mself\u001b[39m, X, \u001b[38;5;241m*\u001b[39margs, \u001b[38;5;241m*\u001b[39m\u001b[38;5;241m*\u001b[39mkwargs):\n\u001b[1;32m--> 140\u001b[0m     data_to_wrap \u001b[38;5;241m=\u001b[39m \u001b[43mf\u001b[49m\u001b[43m(\u001b[49m\u001b[38;5;28;43mself\u001b[39;49m\u001b[43m,\u001b[49m\u001b[43m \u001b[49m\u001b[43mX\u001b[49m\u001b[43m,\u001b[49m\u001b[43m \u001b[49m\u001b[38;5;241;43m*\u001b[39;49m\u001b[43margs\u001b[49m\u001b[43m,\u001b[49m\u001b[43m \u001b[49m\u001b[38;5;241;43m*\u001b[39;49m\u001b[38;5;241;43m*\u001b[39;49m\u001b[43mkwargs\u001b[49m\u001b[43m)\u001b[49m\n\u001b[0;32m    141\u001b[0m     \u001b[38;5;28;01mif\u001b[39;00m \u001b[38;5;28misinstance\u001b[39m(data_to_wrap, \u001b[38;5;28mtuple\u001b[39m):\n\u001b[0;32m    142\u001b[0m         \u001b[38;5;66;03m# only wrap the first output for cross decomposition\u001b[39;00m\n\u001b[0;32m    143\u001b[0m         \u001b[38;5;28;01mreturn\u001b[39;00m (\n\u001b[0;32m    144\u001b[0m             _wrap_data_with_container(method, data_to_wrap[\u001b[38;5;241m0\u001b[39m], X, \u001b[38;5;28mself\u001b[39m),\n\u001b[0;32m    145\u001b[0m             \u001b[38;5;241m*\u001b[39mdata_to_wrap[\u001b[38;5;241m1\u001b[39m:],\n\u001b[0;32m    146\u001b[0m         )\n",
      "File \u001b[1;32m~\\anaconda3\\Lib\\site-packages\\sklearn\\decomposition\\_pca.py:462\u001b[0m, in \u001b[0;36mPCA.fit_transform\u001b[1;34m(self, X, y)\u001b[0m\n\u001b[0;32m    439\u001b[0m \u001b[38;5;250m\u001b[39m\u001b[38;5;124;03m\"\"\"Fit the model with X and apply the dimensionality reduction on X.\u001b[39;00m\n\u001b[0;32m    440\u001b[0m \n\u001b[0;32m    441\u001b[0m \u001b[38;5;124;03mParameters\u001b[39;00m\n\u001b[1;32m   (...)\u001b[0m\n\u001b[0;32m    458\u001b[0m \u001b[38;5;124;03mC-ordered array, use 'np.ascontiguousarray'.\u001b[39;00m\n\u001b[0;32m    459\u001b[0m \u001b[38;5;124;03m\"\"\"\u001b[39;00m\n\u001b[0;32m    460\u001b[0m \u001b[38;5;28mself\u001b[39m\u001b[38;5;241m.\u001b[39m_validate_params()\n\u001b[1;32m--> 462\u001b[0m U, S, Vt \u001b[38;5;241m=\u001b[39m \u001b[38;5;28;43mself\u001b[39;49m\u001b[38;5;241;43m.\u001b[39;49m\u001b[43m_fit\u001b[49m\u001b[43m(\u001b[49m\u001b[43mX\u001b[49m\u001b[43m)\u001b[49m\n\u001b[0;32m    463\u001b[0m U \u001b[38;5;241m=\u001b[39m U[:, : \u001b[38;5;28mself\u001b[39m\u001b[38;5;241m.\u001b[39mn_components_]\n\u001b[0;32m    465\u001b[0m \u001b[38;5;28;01mif\u001b[39;00m \u001b[38;5;28mself\u001b[39m\u001b[38;5;241m.\u001b[39mwhiten:\n\u001b[0;32m    466\u001b[0m     \u001b[38;5;66;03m# X_new = X * V / S * sqrt(n_samples) = U * sqrt(n_samples)\u001b[39;00m\n",
      "File \u001b[1;32m~\\anaconda3\\Lib\\site-packages\\sklearn\\decomposition\\_pca.py:512\u001b[0m, in \u001b[0;36mPCA._fit\u001b[1;34m(self, X)\u001b[0m\n\u001b[0;32m    510\u001b[0m \u001b[38;5;66;03m# Call different fits for either full or truncated SVD\u001b[39;00m\n\u001b[0;32m    511\u001b[0m \u001b[38;5;28;01mif\u001b[39;00m \u001b[38;5;28mself\u001b[39m\u001b[38;5;241m.\u001b[39m_fit_svd_solver \u001b[38;5;241m==\u001b[39m \u001b[38;5;124m\"\u001b[39m\u001b[38;5;124mfull\u001b[39m\u001b[38;5;124m\"\u001b[39m:\n\u001b[1;32m--> 512\u001b[0m     \u001b[38;5;28;01mreturn\u001b[39;00m \u001b[38;5;28;43mself\u001b[39;49m\u001b[38;5;241;43m.\u001b[39;49m\u001b[43m_fit_full\u001b[49m\u001b[43m(\u001b[49m\u001b[43mX\u001b[49m\u001b[43m,\u001b[49m\u001b[43m \u001b[49m\u001b[43mn_components\u001b[49m\u001b[43m)\u001b[49m\n\u001b[0;32m    513\u001b[0m \u001b[38;5;28;01melif\u001b[39;00m \u001b[38;5;28mself\u001b[39m\u001b[38;5;241m.\u001b[39m_fit_svd_solver \u001b[38;5;129;01min\u001b[39;00m [\u001b[38;5;124m\"\u001b[39m\u001b[38;5;124marpack\u001b[39m\u001b[38;5;124m\"\u001b[39m, \u001b[38;5;124m\"\u001b[39m\u001b[38;5;124mrandomized\u001b[39m\u001b[38;5;124m\"\u001b[39m]:\n\u001b[0;32m    514\u001b[0m     \u001b[38;5;28;01mreturn\u001b[39;00m \u001b[38;5;28mself\u001b[39m\u001b[38;5;241m.\u001b[39m_fit_truncated(X, n_components, \u001b[38;5;28mself\u001b[39m\u001b[38;5;241m.\u001b[39m_fit_svd_solver)\n",
      "File \u001b[1;32m~\\anaconda3\\Lib\\site-packages\\sklearn\\decomposition\\_pca.py:526\u001b[0m, in \u001b[0;36mPCA._fit_full\u001b[1;34m(self, X, n_components)\u001b[0m\n\u001b[0;32m    522\u001b[0m         \u001b[38;5;28;01mraise\u001b[39;00m \u001b[38;5;167;01mValueError\u001b[39;00m(\n\u001b[0;32m    523\u001b[0m             \u001b[38;5;124m\"\u001b[39m\u001b[38;5;124mn_components=\u001b[39m\u001b[38;5;124m'\u001b[39m\u001b[38;5;124mmle\u001b[39m\u001b[38;5;124m'\u001b[39m\u001b[38;5;124m is only supported if n_samples >= n_features\u001b[39m\u001b[38;5;124m\"\u001b[39m\n\u001b[0;32m    524\u001b[0m         )\n\u001b[0;32m    525\u001b[0m \u001b[38;5;28;01melif\u001b[39;00m \u001b[38;5;129;01mnot\u001b[39;00m \u001b[38;5;241m0\u001b[39m \u001b[38;5;241m<\u001b[39m\u001b[38;5;241m=\u001b[39m n_components \u001b[38;5;241m<\u001b[39m\u001b[38;5;241m=\u001b[39m \u001b[38;5;28mmin\u001b[39m(n_samples, n_features):\n\u001b[1;32m--> 526\u001b[0m     \u001b[38;5;28;01mraise\u001b[39;00m \u001b[38;5;167;01mValueError\u001b[39;00m(\n\u001b[0;32m    527\u001b[0m         \u001b[38;5;124m\"\u001b[39m\u001b[38;5;124mn_components=\u001b[39m\u001b[38;5;132;01m%r\u001b[39;00m\u001b[38;5;124m must be between 0 and \u001b[39m\u001b[38;5;124m\"\u001b[39m\n\u001b[0;32m    528\u001b[0m         \u001b[38;5;124m\"\u001b[39m\u001b[38;5;124mmin(n_samples, n_features)=\u001b[39m\u001b[38;5;132;01m%r\u001b[39;00m\u001b[38;5;124m with \u001b[39m\u001b[38;5;124m\"\u001b[39m\n\u001b[0;32m    529\u001b[0m         \u001b[38;5;124m\"\u001b[39m\u001b[38;5;124msvd_solver=\u001b[39m\u001b[38;5;124m'\u001b[39m\u001b[38;5;124mfull\u001b[39m\u001b[38;5;124m'\u001b[39m\u001b[38;5;124m\"\u001b[39m \u001b[38;5;241m%\u001b[39m (n_components, \u001b[38;5;28mmin\u001b[39m(n_samples, n_features))\n\u001b[0;32m    530\u001b[0m     )\n\u001b[0;32m    532\u001b[0m \u001b[38;5;66;03m# Center data\u001b[39;00m\n\u001b[0;32m    533\u001b[0m \u001b[38;5;28mself\u001b[39m\u001b[38;5;241m.\u001b[39mmean_ \u001b[38;5;241m=\u001b[39m np\u001b[38;5;241m.\u001b[39mmean(X, axis\u001b[38;5;241m=\u001b[39m\u001b[38;5;241m0\u001b[39m)\n",
      "\u001b[1;31mValueError\u001b[0m: n_components=10 must be between 0 and min(n_samples, n_features)=5 with svd_solver='full'"
     ]
    }
   ],
   "source": [
    "from sklearn.feature_selection import SelectFromModel\n",
    "from sklearn.decomposition import PCA\n",
    "\n",
    "\n",
    "selector = RandomForestClassifier(n_estimators=100)\n",
    "selector.fit(X_train, y_train)  \n",
    "model_pca = SelectFromModel(selector, prefit=True)\n",
    "data_selected = model_pca.transform(X_train)\n",
    "pca = PCA(n_components=10)\n",
    "X_train_pca = pca.fit_transform(data_selected)\n",
    "\n",
    "x1 = model_pca.transform(X_test)\n",
    "X_test_pca = pca.transform(x1)"
   ]
  },
  {
   "cell_type": "code",
   "execution_count": null,
   "id": "a7e4fbb3-6fa4-488d-8b4f-6df60dd431e6",
   "metadata": {},
   "outputs": [],
   "source": [
    "models_pca = {\n",
    "    \"Random Forest\": RandomForestClassifier(random_state=random_seed),\n",
    "    \"Logistic Regression\": LogisticRegression(),\n",
    "    \"KNN (k=7)\": KNeighborsClassifier(n_neighbors=5),\n",
    "    \"XGBoost\": XGBClassifier(),\n",
    "    \"linear SVM\": SVC(kernel='linear', random_state=random_seed),\n",
    "    \"Poly SVM\": SVC(kernel='poly', random_state=random_seed),\n",
    "    \"rbf SVM\": SVC(kernel='rbf', random_state=random_seed),\n",
    "    \"Sigmoid SVM\": SVC(kernel= 'sigmoid', random_state=random_seed),\n",
    "    \"Lasso Logistic Regression\": LogisticRegression(penalty='l1', solver='saga', multi_class='multinomial', max_iter=10000, random_state=random_seed)\n",
    "}\n",
    "\n",
    "# Train and evaluate each model\n",
    "for model_name, model in models_pca.items():\n",
    "    train_and_evaluate(model, model_name, X_train_pca, y_train, X_test_pca, y_test)\n",
    "    y_pred = model.predict(X_test_pca)\n",
    "    f1 = f1_score(y_test, y_pred, average='weighted')\n",
    "    print(f\"F1 Score ({model_name}): {f1:.4f}\")\n",
    "    print('-' * 50)"
   ]
  },
  {
   "cell_type": "code",
   "execution_count": null,
   "id": "58cba2ff-95b2-4def-8917-831cfd69934b",
   "metadata": {},
   "outputs": [],
   "source": [
    "# clf_pca =  RandomForestClassifier(random_state=random_seed)\n",
    "# clf_pca.fit(X_train_pca, y_train)\n",
    "\n",
    "# y_pred_pca = clf_filter.predict(X_test_pca)\n",
    "\n",
    "# cmatrix_fun(\"Rf with ALL features\", y_test, y_pred_pca)"
   ]
  },
  {
   "cell_type": "markdown",
   "id": "63b0d7ba-f699-4e65-a6e7-70b4c7a4ce30",
   "metadata": {},
   "source": [
    "## PCA on original data"
   ]
  },
  {
   "cell_type": "code",
   "execution_count": null,
   "id": "050aec35-ae2c-4572-915d-4041ce4ba2d2",
   "metadata": {},
   "outputs": [],
   "source": [
    "scaler = StandardScaler()\n",
    "X_scaled = scaler.fit_transform(X)\n",
    "\n",
    "pca = PCA(n_components= 30)  # Example: Retain 10 principal components\n",
    "X_pca = pca.fit_transform(X_scaled)"
   ]
  },
  {
   "cell_type": "code",
   "execution_count": null,
   "id": "9d649e4d-8d4e-49d0-ad39-2ac2130619f6",
   "metadata": {},
   "outputs": [],
   "source": [
    "scatter = plt.scatter(X_pca[:, 10], X_pca[:, 18], c=y, cmap='viridis', edgecolor='k', s=100)\n",
    "\n",
    "# Create a legend with a color for each unique value in y\n",
    "handles = [plt.Line2D([0,0],[0,0],color=scatter.cmap(scatter.norm(label))) for label in np.unique(y)]\n",
    "class_labels = ['normal', 'mild', 'moderate', 'severe']\n",
    "plt.legend(handles, class_labels, title='Target', bbox_to_anchor=(1.05, 1))\n",
    "\n",
    "# Set plot title and axis labels\n",
    "plt.title('PCA Scatter Plot')\n",
    "plt.xlabel('PCA Component 2')\n",
    "plt.ylabel('PCA Component 4')\n",
    "\n",
    "# Add a colorbar with a label\n",
    "cbar = plt.colorbar(scatter)\n",
    "cbar.set_label('Target')\n",
    "\n",
    "# Adjust figure size and layout\n",
    "plt.figure(figsize=(20, 20))\n",
    "plt.tight_layout()\n",
    "plt.savefig('important_img/pca.png', format='png', dpi=300, bbox_inches='tight')\n",
    "# Show the plot\n",
    "plt.show()\n"
   ]
  },
  {
   "cell_type": "code",
   "execution_count": null,
   "id": "70986ed1-eb66-4798-88ec-ca673012f209",
   "metadata": {},
   "outputs": [],
   "source": [
    "X_train_pca2, X_test_pca2, y_train, y_test = train_test_split(X_pca, y, test_size=0.2, random_state=random_seed)\n",
    "\n",
    "models_pca2 = {\n",
    "    \"Random Forest\": RandomForestClassifier(random_state=random_seed),\n",
    "    \"Logistic Regression\": LogisticRegression(),\n",
    "    \"KNN (k=7)\": KNeighborsClassifier(n_neighbors=7),\n",
    "    \"XGBoost\": XGBClassifier(),\n",
    "    \"linear SVM\": SVC(kernel='linear', random_state=random_seed),\n",
    "    \"Poly SVM\": SVC(kernel='poly', random_state=random_seed),\n",
    "    \"rbf SVM\": SVC(kernel='rbf', random_state=random_seed),\n",
    "    \"Sigmoid SVM\": SVC(kernel= 'sigmoid', random_state=random_seed),\n",
    "    \"Lasso Logistic Regression\": LogisticRegression(penalty='l1', solver='saga', multi_class='multinomial', max_iter=10000, random_state=random_seed)\n",
    "}\n",
    "\n",
    "for model_name, model in models_pca2.items():\n",
    "    train_and_evaluate(model, model_name, X_train_pca2, y_train, X_test_pca2, y_test)\n",
    "    y_pred = model.predict(X_test_pca2)\n",
    "    f1 = f1_score(y_test, y_pred, average='weighted')\n",
    "    print(f\"F1 Score ({model_name}): {f1:.4f}\")\n",
    "    print('-' * 50)"
   ]
  },
  {
   "cell_type": "code",
   "execution_count": null,
   "id": "966e1cea-95d3-4f52-bda1-f2bb9436a922",
   "metadata": {},
   "outputs": [],
   "source": []
  },
  {
   "cell_type": "code",
   "execution_count": null,
   "id": "c899a3ef-634b-4d93-a2ad-b76cac1c79d5",
   "metadata": {},
   "outputs": [],
   "source": []
  }
 ],
 "metadata": {
  "kernelspec": {
   "display_name": "Python 3 (ipykernel)",
   "language": "python",
   "name": "python3"
  },
  "language_info": {
   "codemirror_mode": {
    "name": "ipython",
    "version": 3
   },
   "file_extension": ".py",
   "mimetype": "text/x-python",
   "name": "python",
   "nbconvert_exporter": "python",
   "pygments_lexer": "ipython3",
   "version": "3.9.13"
  }
 },
 "nbformat": 4,
 "nbformat_minor": 5
}
