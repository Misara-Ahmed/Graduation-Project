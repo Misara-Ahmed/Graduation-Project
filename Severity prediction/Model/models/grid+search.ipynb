{
 "cells": [
  {
   "cell_type": "code",
   "execution_count": 26,
   "id": "95277e6b-6980-4d6e-8c87-e21a7cd5180b",
   "metadata": {},
   "outputs": [],
   "source": [
    "import pandas as pd\n",
    "import matplotlib.pyplot as plt\n",
    "import numpy as np\n",
    "import matplotlib.pyplot as plt\n",
    "import seaborn as sns\n",
    "\n",
    "from sklearn.preprocessing import LabelEncoder, StandardScaler\n",
    "from sklearn.utils import shuffle\n",
    "from sklearn.model_selection import train_test_split\n",
    "\n",
    "from sklearn.metrics import classification_report, accuracy_score, precision_score, recall_score, f1_score, confusion_matrix, classification_report\n",
    "from sklearn.feature_selection import SelectKBest, f_classif, mutual_info_classif\n",
    "from sklearn.ensemble import RandomForestClassifier\n",
    "from sklearn.linear_model import LogisticRegression\n",
    "from sklearn.neighbors import KNeighborsClassifier\n",
    "from xgboost import XGBClassifier\n",
    "from sklearn.svm import SVC\n",
    "\n",
    "import warnings\n",
    "warnings.filterwarnings('ignore')\n",
    "\n",
    "from sklearn import metrics"
   ]
  },
  {
   "cell_type": "code",
   "execution_count": 27,
   "id": "f67189e5-8e36-427b-be71-27186ab67e79",
   "metadata": {},
   "outputs": [],
   "source": [
    "def read_csv_file(file_path):\n",
    "    try:\n",
    "        return pd.read_csv(file_path, encoding='utf-8')\n",
    "    except UnicodeDecodeError:\n",
    "        return pd.read_csv(file_path, encoding='latin1')\n",
    "\n",
    "\n",
    "def correlation(dataset, threshold):\n",
    "    col_corr = set()  # Set of all the names of correlated columns\n",
    "    corr_matrix = dataset.corr()\n",
    "    for i in range(len(corr_matrix.columns)):\n",
    "        for j in range(i):\n",
    "            if abs(corr_matrix.iloc[i, j]) > threshold: # we are interested in absolute coeff value\n",
    "                colname = corr_matrix.columns[i]  # getting the name of column\n",
    "                col_corr.add(colname)\n",
    "    return col_corr\n",
    "\n",
    "def Encoding(df):\n",
    "    # Create the ncoder variable\n",
    "    encoder = LabelEncoder()\n",
    "    cat_df = df.select_dtypes(include=['object'])\n",
    "    for i in cat_df:\n",
    "        # fit the categoral feature to the encoding method\n",
    "        df[i] = encoder.fit_transform(df[i]) \n",
    "    return df\n",
    "\n",
    "def MissingValueHandling(merged_df):\n",
    "    null_col =  dict(merged_df.isnull().sum()) \n",
    "    missing_data = []\n",
    "    for key, value in null_col.items():\n",
    "        if (value != 0):\n",
    "            missing_data.append(key) \n",
    "    print(\"Missing Values Column:\", null_col)\n",
    "    for i in missing_data:\n",
    "        fill_list = merged_df[i].dropna().tolist()\n",
    "        merged_df[i] = merged_df[i].fillna(pd.Series(np.random.choice(fill_list , size = len(merged_df.index))))\n",
    "    return merged_df\n",
    "    \n",
    "# Function to train and evaluate models\n",
    "def train_and_evaluate(model, model_name, X_train_scaled, y_train, X_test_scaled, y_test):\n",
    "    model.fit(X_train_scaled, y_train)\n",
    "    train_accuracy = model.score(X_train_scaled, y_train) * 100\n",
    "    test_accuracy = model.score(X_test_scaled, y_test) * 100\n",
    "    # y_pred = model.predict(X_test_scaled)\n",
    "    # accuracy = accuracy_score(y_test, y_pred)\n",
    "    \n",
    "    print(f\"{model_name} Training Accuracy: {train_accuracy:.2f}\")\n",
    "    print(f\"{model_name} Testing Accuracy: {test_accuracy:.2f}\")\n",
    "    # print(f\"{model_name} Model Accuracy: {accuracy:.2f}\")\n",
    "    print('-' * 50)\n",
    "\n",
    "\n",
    "def evaluate_classification_model(model, X_test, y_test):\n",
    "    # Make predictions on the test set\n",
    "    y_pred = model.predict(X_test)\n",
    "\n",
    "    # Compute evaluation metrics\n",
    "    accuracy = accuracy_score(y_test, y_pred)\n",
    "    precision = precision_score(y_test, y_pred, average='weighted')\n",
    "    recall = recall_score(y_test, y_pred, average='weighted')\n",
    "    f1 = f1_score(y_test, y_pred, average='weighted')\n",
    "    cm = confusion_matrix(y_test, y_pred)\n",
    "\n",
    "    # Print the evaluation metrics\n",
    "    print(\"Precision:\", precision)\n",
    "    print(\"Recall:\", recall)\n",
    "    print(\"F1-score:\", f1)\n",
    "\n",
    "    # Plot the confusion matrix\n",
    "    labels = np.unique(y_test)\n",
    "    sns.heatmap(cm, annot=True, fmt='d', cmap='Blues', xticklabels=labels, yticklabels=labels)\n",
    "    plt.title('Confusion Matrix')\n",
    "    plt.xlabel('Predicted Label')\n",
    "    plt.ylabel('True Label')\n",
    "    plt.show()\n",
    "\n",
    "# Function to plot the confusion matrix:\n",
    "def cmatrix_fun(model_name, actual, predicted):\n",
    "    # Compute confusion matrix\n",
    "    cm = metrics.confusion_matrix(actual, predicted)\n",
    "    \n",
    "    # Normalize confusion matrix\n",
    "    cm_normalized = (cm.astype('float') / cm.sum(axis=1)[:, np.newaxis]) * 100\n",
    "    fig, ax = plt.subplots(figsize=(6, 6))\n",
    "    \n",
    "    # Plot the normalized confusion matrix\n",
    "    class_labels = ['normal', 'mild', 'moderate', 'severe']\n",
    "    cm_display = metrics.ConfusionMatrixDisplay(confusion_matrix=cm_normalized, display_labels = class_labels)\n",
    "    cm_display.plot(ax=ax, cmap='Blues')\n",
    "    \n",
    "    # Set axis labels\n",
    "    ax.set_xlabel('Predicted')\n",
    "    ax.set_ylabel('True')\n",
    "    ax.set_title('Confusion Matrix of', model_name)\n",
    "    plt.show()"
   ]
  },
  {
   "cell_type": "code",
   "execution_count": 28,
   "id": "bfdbc5aa-9354-4c6a-8f1d-6976992b6f6c",
   "metadata": {},
   "outputs": [],
   "source": [
    "import random\n",
    "random_seed = 1234\n",
    "random.seed(random_seed)\n",
    "np.random.seed(random_seed)"
   ]
  },
  {
   "cell_type": "code",
   "execution_count": 29,
   "id": "50c069fa-fa21-435b-99ed-39167c3a2f84",
   "metadata": {},
   "outputs": [
    {
     "data": {
      "text/html": [
       "<div>\n",
       "<style scoped>\n",
       "    .dataframe tbody tr th:only-of-type {\n",
       "        vertical-align: middle;\n",
       "    }\n",
       "\n",
       "    .dataframe tbody tr th {\n",
       "        vertical-align: top;\n",
       "    }\n",
       "\n",
       "    .dataframe thead th {\n",
       "        text-align: right;\n",
       "    }\n",
       "</style>\n",
       "<table border=\"1\" class=\"dataframe\">\n",
       "  <thead>\n",
       "    <tr style=\"text-align: right;\">\n",
       "      <th></th>\n",
       "      <th>patient_id</th>\n",
       "      <th>swing_time_max</th>\n",
       "      <th>swing_time_min</th>\n",
       "      <th>stance_time_max</th>\n",
       "      <th>stance_time_min</th>\n",
       "      <th>stride_time_max</th>\n",
       "      <th>stride_time_min</th>\n",
       "      <th>strike_angle</th>\n",
       "      <th>mean_hs_angle</th>\n",
       "      <th>mean_to_angle</th>\n",
       "      <th>...</th>\n",
       "      <th>powerY_ 3_C</th>\n",
       "      <th>powerY_ 4_C</th>\n",
       "      <th>powerY_ 5_C</th>\n",
       "      <th>powerY_ 6_C</th>\n",
       "      <th>powerZ_ 1_C</th>\n",
       "      <th>powerZ_ 2_C</th>\n",
       "      <th>powerZ_ 3_C</th>\n",
       "      <th>powerZ_ 4_C</th>\n",
       "      <th>powerZ_ 5_C</th>\n",
       "      <th>powerZ_ 6_C</th>\n",
       "    </tr>\n",
       "  </thead>\n",
       "  <tbody>\n",
       "    <tr>\n",
       "      <th>0</th>\n",
       "      <td>1</td>\n",
       "      <td>1.04</td>\n",
       "      <td>0.46</td>\n",
       "      <td>1.18</td>\n",
       "      <td>0.81</td>\n",
       "      <td>1.99</td>\n",
       "      <td>1.31</td>\n",
       "      <td>24.491429</td>\n",
       "      <td>24.000000</td>\n",
       "      <td>38.840000</td>\n",
       "      <td>...</td>\n",
       "      <td>1040.211971</td>\n",
       "      <td>73.481629</td>\n",
       "      <td>141.905164</td>\n",
       "      <td>10.216969</td>\n",
       "      <td>1.571939e+06</td>\n",
       "      <td>607.747259</td>\n",
       "      <td>533.161447</td>\n",
       "      <td>2633.837158</td>\n",
       "      <td>3055.918834</td>\n",
       "      <td>173.842186</td>\n",
       "    </tr>\n",
       "    <tr>\n",
       "      <th>1</th>\n",
       "      <td>1</td>\n",
       "      <td>1.22</td>\n",
       "      <td>0.42</td>\n",
       "      <td>1.39</td>\n",
       "      <td>0.08</td>\n",
       "      <td>2.24</td>\n",
       "      <td>0.53</td>\n",
       "      <td>21.702500</td>\n",
       "      <td>21.227143</td>\n",
       "      <td>34.982857</td>\n",
       "      <td>...</td>\n",
       "      <td>1964.301772</td>\n",
       "      <td>816.673624</td>\n",
       "      <td>404.261715</td>\n",
       "      <td>228.916362</td>\n",
       "      <td>2.954191e+06</td>\n",
       "      <td>109.416956</td>\n",
       "      <td>2606.851615</td>\n",
       "      <td>10.729508</td>\n",
       "      <td>5185.243035</td>\n",
       "      <td>25.271313</td>\n",
       "    </tr>\n",
       "    <tr>\n",
       "      <th>2</th>\n",
       "      <td>1</td>\n",
       "      <td>1.01</td>\n",
       "      <td>0.42</td>\n",
       "      <td>1.01</td>\n",
       "      <td>0.23</td>\n",
       "      <td>2.02</td>\n",
       "      <td>0.65</td>\n",
       "      <td>18.201429</td>\n",
       "      <td>17.451667</td>\n",
       "      <td>32.843333</td>\n",
       "      <td>...</td>\n",
       "      <td>4199.071301</td>\n",
       "      <td>3488.940407</td>\n",
       "      <td>113.009892</td>\n",
       "      <td>760.522046</td>\n",
       "      <td>1.902485e+06</td>\n",
       "      <td>860.193745</td>\n",
       "      <td>304.164403</td>\n",
       "      <td>12119.034787</td>\n",
       "      <td>1532.932283</td>\n",
       "      <td>537.452090</td>\n",
       "    </tr>\n",
       "    <tr>\n",
       "      <th>3</th>\n",
       "      <td>10</td>\n",
       "      <td>0.90</td>\n",
       "      <td>0.43</td>\n",
       "      <td>0.85</td>\n",
       "      <td>0.52</td>\n",
       "      <td>1.61</td>\n",
       "      <td>1.00</td>\n",
       "      <td>12.638571</td>\n",
       "      <td>11.700000</td>\n",
       "      <td>27.365000</td>\n",
       "      <td>...</td>\n",
       "      <td>753.474303</td>\n",
       "      <td>535.838457</td>\n",
       "      <td>105.252777</td>\n",
       "      <td>182.907451</td>\n",
       "      <td>9.738762e+05</td>\n",
       "      <td>2350.306948</td>\n",
       "      <td>2954.338341</td>\n",
       "      <td>2614.545432</td>\n",
       "      <td>1978.834077</td>\n",
       "      <td>105.690189</td>\n",
       "    </tr>\n",
       "    <tr>\n",
       "      <th>4</th>\n",
       "      <td>10</td>\n",
       "      <td>0.61</td>\n",
       "      <td>0.36</td>\n",
       "      <td>0.86</td>\n",
       "      <td>0.34</td>\n",
       "      <td>1.43</td>\n",
       "      <td>0.95</td>\n",
       "      <td>16.573750</td>\n",
       "      <td>17.008571</td>\n",
       "      <td>28.935714</td>\n",
       "      <td>...</td>\n",
       "      <td>442.169719</td>\n",
       "      <td>431.027909</td>\n",
       "      <td>176.619568</td>\n",
       "      <td>75.768927</td>\n",
       "      <td>1.519685e+06</td>\n",
       "      <td>72.975955</td>\n",
       "      <td>462.167270</td>\n",
       "      <td>1289.025156</td>\n",
       "      <td>711.321877</td>\n",
       "      <td>26.048736</td>\n",
       "    </tr>\n",
       "  </tbody>\n",
       "</table>\n",
       "<p>5 rows × 56 columns</p>\n",
       "</div>"
      ],
      "text/plain": [
       "   patient_id  swing_time_max  swing_time_min  stance_time_max  \\\n",
       "0           1            1.04            0.46             1.18   \n",
       "1           1            1.22            0.42             1.39   \n",
       "2           1            1.01            0.42             1.01   \n",
       "3          10            0.90            0.43             0.85   \n",
       "4          10            0.61            0.36             0.86   \n",
       "\n",
       "   stance_time_min  stride_time_max  stride_time_min  strike_angle  \\\n",
       "0             0.81             1.99             1.31     24.491429   \n",
       "1             0.08             2.24             0.53     21.702500   \n",
       "2             0.23             2.02             0.65     18.201429   \n",
       "3             0.52             1.61             1.00     12.638571   \n",
       "4             0.34             1.43             0.95     16.573750   \n",
       "\n",
       "   mean_hs_angle  mean_to_angle  ...  powerY_ 3_C  powerY_ 4_C  powerY_ 5_C  \\\n",
       "0      24.000000      38.840000  ...  1040.211971    73.481629   141.905164   \n",
       "1      21.227143      34.982857  ...  1964.301772   816.673624   404.261715   \n",
       "2      17.451667      32.843333  ...  4199.071301  3488.940407   113.009892   \n",
       "3      11.700000      27.365000  ...   753.474303   535.838457   105.252777   \n",
       "4      17.008571      28.935714  ...   442.169719   431.027909   176.619568   \n",
       "\n",
       "   powerY_ 6_C   powerZ_ 1_C  powerZ_ 2_C  powerZ_ 3_C   powerZ_ 4_C  \\\n",
       "0    10.216969  1.571939e+06   607.747259   533.161447   2633.837158   \n",
       "1   228.916362  2.954191e+06   109.416956  2606.851615     10.729508   \n",
       "2   760.522046  1.902485e+06   860.193745   304.164403  12119.034787   \n",
       "3   182.907451  9.738762e+05  2350.306948  2954.338341   2614.545432   \n",
       "4    75.768927  1.519685e+06    72.975955   462.167270   1289.025156   \n",
       "\n",
       "   powerZ_ 5_C  powerZ_ 6_C  \n",
       "0  3055.918834   173.842186  \n",
       "1  5185.243035    25.271313  \n",
       "2  1532.932283   537.452090  \n",
       "3  1978.834077   105.690189  \n",
       "4   711.321877    26.048736  \n",
       "\n",
       "[5 rows x 56 columns]"
      ]
     },
     "execution_count": 29,
     "metadata": {},
     "output_type": "execute_result"
    }
   ],
   "source": [
    "womac_path = \"csv/data_training/Aparameters.csv\"\n",
    "features_path = \"csv/data_training/AllFeatures.csv\"\n",
    "\n",
    "wdf = read_csv_file(womac_path)\n",
    "fdf = read_csv_file(features_path)\n",
    "\n",
    "fdf.columns = fdf.columns.str.strip()\n",
    "wdf.columns = wdf.columns.str.strip()\n",
    "\n",
    "assert 'patient_id' in fdf.columns, \"'patient_id' not found in fdf columns\"\n",
    "assert 'patient_id' in wdf.columns, \"'patient_id' not found in wdf columns\"\n",
    "\n",
    "fdf.head()\n",
    "# wdf.head()"
   ]
  },
  {
   "cell_type": "markdown",
   "id": "b78924e9-8560-43a2-96f9-c3f1371d1dc1",
   "metadata": {},
   "source": [
    "# Preprocessing"
   ]
  },
  {
   "cell_type": "markdown",
   "id": "83c3ee63-d0f7-442d-ae83-bea2f6397d29",
   "metadata": {},
   "source": [
    "## Merging two Dataframes"
   ]
  },
  {
   "cell_type": "code",
   "execution_count": 30,
   "id": "802ce438-8caa-4a06-bfd0-7e58562de31a",
   "metadata": {},
   "outputs": [
    {
     "name": "stdout",
     "output_type": "stream",
     "text": [
      "trials: {11: 5, 17: 4, 18: 4, 23: 4, 22: 4, 21: 4, 20: 4, 7: 4, 8: 4, 6: 4, 16: 4, 15: 4, 14: 4, 13: 4, 12: 4, 5: 3, 1: 3, 2: 3, 3: 3, 10: 3, 19: 3, 9: 3, 4: 2}\n",
      "features df shape: (84, 56)\n",
      "all df shape: (84, 7)\n"
     ]
    }
   ],
   "source": [
    "# Get the count of trials per patient\n",
    "trials_counts = fdf['patient_id'].value_counts().to_dict()\n",
    "print(\"trials:\", trials_counts)\n",
    "# Expand the anthropometric data\n",
    "expanded_wdf = wdf.loc[\n",
    "    wdf.index.repeat(wdf['patient_id'].map(trials_counts))\n",
    "].reset_index(drop=True)\n",
    "print(\"features df shape:\", fdf.shape)\n",
    "print(\"all df shape:\", expanded_wdf.shape)"
   ]
  },
  {
   "cell_type": "code",
   "execution_count": 31,
   "id": "9a7a1d06-958a-48d2-93b0-7cdcc032861c",
   "metadata": {
    "scrolled": true
   },
   "outputs": [
    {
     "data": {
      "text/html": [
       "<div>\n",
       "<style scoped>\n",
       "    .dataframe tbody tr th:only-of-type {\n",
       "        vertical-align: middle;\n",
       "    }\n",
       "\n",
       "    .dataframe tbody tr th {\n",
       "        vertical-align: top;\n",
       "    }\n",
       "\n",
       "    .dataframe thead th {\n",
       "        text-align: right;\n",
       "    }\n",
       "</style>\n",
       "<table border=\"1\" class=\"dataframe\">\n",
       "  <thead>\n",
       "    <tr style=\"text-align: right;\">\n",
       "      <th></th>\n",
       "      <th>patient_id</th>\n",
       "      <th>swing_time_max</th>\n",
       "      <th>swing_time_min</th>\n",
       "      <th>stance_time_max</th>\n",
       "      <th>stance_time_min</th>\n",
       "      <th>stride_time_max</th>\n",
       "      <th>stride_time_min</th>\n",
       "      <th>strike_angle</th>\n",
       "      <th>mean_hs_angle</th>\n",
       "      <th>mean_to_angle</th>\n",
       "      <th>...</th>\n",
       "      <th>powerZ_ 3_C</th>\n",
       "      <th>powerZ_ 4_C</th>\n",
       "      <th>powerZ_ 5_C</th>\n",
       "      <th>powerZ_ 6_C</th>\n",
       "      <th>name</th>\n",
       "      <th>gender</th>\n",
       "      <th>leg</th>\n",
       "      <th>age</th>\n",
       "      <th>BMI</th>\n",
       "      <th>severity</th>\n",
       "    </tr>\n",
       "  </thead>\n",
       "  <tbody>\n",
       "    <tr>\n",
       "      <th>0</th>\n",
       "      <td>1</td>\n",
       "      <td>1.04</td>\n",
       "      <td>0.46</td>\n",
       "      <td>1.18</td>\n",
       "      <td>0.81</td>\n",
       "      <td>1.99</td>\n",
       "      <td>1.31</td>\n",
       "      <td>24.491429</td>\n",
       "      <td>24.000000</td>\n",
       "      <td>38.840000</td>\n",
       "      <td>...</td>\n",
       "      <td>533.161447</td>\n",
       "      <td>2633.837158</td>\n",
       "      <td>3055.918834</td>\n",
       "      <td>173.842186</td>\n",
       "      <td>marwa abdelaly</td>\n",
       "      <td>f</td>\n",
       "      <td>right</td>\n",
       "      <td>40.0</td>\n",
       "      <td>35.755956</td>\n",
       "      <td>mild</td>\n",
       "    </tr>\n",
       "    <tr>\n",
       "      <th>1</th>\n",
       "      <td>1</td>\n",
       "      <td>1.22</td>\n",
       "      <td>0.42</td>\n",
       "      <td>1.39</td>\n",
       "      <td>0.08</td>\n",
       "      <td>2.24</td>\n",
       "      <td>0.53</td>\n",
       "      <td>21.702500</td>\n",
       "      <td>21.227143</td>\n",
       "      <td>34.982857</td>\n",
       "      <td>...</td>\n",
       "      <td>2606.851615</td>\n",
       "      <td>10.729508</td>\n",
       "      <td>5185.243035</td>\n",
       "      <td>25.271313</td>\n",
       "      <td>marwa abdelaly</td>\n",
       "      <td>f</td>\n",
       "      <td>right</td>\n",
       "      <td>40.0</td>\n",
       "      <td>35.755956</td>\n",
       "      <td>mild</td>\n",
       "    </tr>\n",
       "    <tr>\n",
       "      <th>2</th>\n",
       "      <td>1</td>\n",
       "      <td>1.01</td>\n",
       "      <td>0.42</td>\n",
       "      <td>1.01</td>\n",
       "      <td>0.23</td>\n",
       "      <td>2.02</td>\n",
       "      <td>0.65</td>\n",
       "      <td>18.201429</td>\n",
       "      <td>17.451667</td>\n",
       "      <td>32.843333</td>\n",
       "      <td>...</td>\n",
       "      <td>304.164403</td>\n",
       "      <td>12119.034787</td>\n",
       "      <td>1532.932283</td>\n",
       "      <td>537.452090</td>\n",
       "      <td>marwa abdelaly</td>\n",
       "      <td>f</td>\n",
       "      <td>right</td>\n",
       "      <td>40.0</td>\n",
       "      <td>35.755956</td>\n",
       "      <td>mild</td>\n",
       "    </tr>\n",
       "    <tr>\n",
       "      <th>3</th>\n",
       "      <td>10</td>\n",
       "      <td>0.90</td>\n",
       "      <td>0.43</td>\n",
       "      <td>0.85</td>\n",
       "      <td>0.52</td>\n",
       "      <td>1.61</td>\n",
       "      <td>1.00</td>\n",
       "      <td>12.638571</td>\n",
       "      <td>11.700000</td>\n",
       "      <td>27.365000</td>\n",
       "      <td>...</td>\n",
       "      <td>2954.338341</td>\n",
       "      <td>2614.545432</td>\n",
       "      <td>1978.834077</td>\n",
       "      <td>105.690189</td>\n",
       "      <td>rehab helmy</td>\n",
       "      <td>m</td>\n",
       "      <td>right</td>\n",
       "      <td>35.0</td>\n",
       "      <td>29.136316</td>\n",
       "      <td>mild</td>\n",
       "    </tr>\n",
       "    <tr>\n",
       "      <th>4</th>\n",
       "      <td>10</td>\n",
       "      <td>0.61</td>\n",
       "      <td>0.36</td>\n",
       "      <td>0.86</td>\n",
       "      <td>0.34</td>\n",
       "      <td>1.43</td>\n",
       "      <td>0.95</td>\n",
       "      <td>16.573750</td>\n",
       "      <td>17.008571</td>\n",
       "      <td>28.935714</td>\n",
       "      <td>...</td>\n",
       "      <td>462.167270</td>\n",
       "      <td>1289.025156</td>\n",
       "      <td>711.321877</td>\n",
       "      <td>26.048736</td>\n",
       "      <td>rehab helmy</td>\n",
       "      <td>m</td>\n",
       "      <td>right</td>\n",
       "      <td>35.0</td>\n",
       "      <td>29.136316</td>\n",
       "      <td>mild</td>\n",
       "    </tr>\n",
       "    <tr>\n",
       "      <th>...</th>\n",
       "      <td>...</td>\n",
       "      <td>...</td>\n",
       "      <td>...</td>\n",
       "      <td>...</td>\n",
       "      <td>...</td>\n",
       "      <td>...</td>\n",
       "      <td>...</td>\n",
       "      <td>...</td>\n",
       "      <td>...</td>\n",
       "      <td>...</td>\n",
       "      <td>...</td>\n",
       "      <td>...</td>\n",
       "      <td>...</td>\n",
       "      <td>...</td>\n",
       "      <td>...</td>\n",
       "      <td>...</td>\n",
       "      <td>...</td>\n",
       "      <td>...</td>\n",
       "      <td>...</td>\n",
       "      <td>...</td>\n",
       "      <td>...</td>\n",
       "    </tr>\n",
       "    <tr>\n",
       "      <th>79</th>\n",
       "      <td>8</td>\n",
       "      <td>0.70</td>\n",
       "      <td>0.47</td>\n",
       "      <td>1.15</td>\n",
       "      <td>0.82</td>\n",
       "      <td>1.85</td>\n",
       "      <td>1.31</td>\n",
       "      <td>17.150000</td>\n",
       "      <td>16.812000</td>\n",
       "      <td>25.746000</td>\n",
       "      <td>...</td>\n",
       "      <td>1520.306683</td>\n",
       "      <td>1620.084514</td>\n",
       "      <td>810.152477</td>\n",
       "      <td>98.917555</td>\n",
       "      <td>sameh mostafa</td>\n",
       "      <td>m</td>\n",
       "      <td>right</td>\n",
       "      <td>43.0</td>\n",
       "      <td>41.207561</td>\n",
       "      <td>normal</td>\n",
       "    </tr>\n",
       "    <tr>\n",
       "      <th>80</th>\n",
       "      <td>8</td>\n",
       "      <td>2.39</td>\n",
       "      <td>0.52</td>\n",
       "      <td>1.38</td>\n",
       "      <td>0.59</td>\n",
       "      <td>2.98</td>\n",
       "      <td>1.36</td>\n",
       "      <td>25.272857</td>\n",
       "      <td>18.786667</td>\n",
       "      <td>22.300000</td>\n",
       "      <td>...</td>\n",
       "      <td>45.824601</td>\n",
       "      <td>1505.276923</td>\n",
       "      <td>991.774908</td>\n",
       "      <td>18.398063</td>\n",
       "      <td>sameh mostafa</td>\n",
       "      <td>m</td>\n",
       "      <td>right</td>\n",
       "      <td>43.0</td>\n",
       "      <td>41.207561</td>\n",
       "      <td>normal</td>\n",
       "    </tr>\n",
       "    <tr>\n",
       "      <th>81</th>\n",
       "      <td>9</td>\n",
       "      <td>1.35</td>\n",
       "      <td>0.49</td>\n",
       "      <td>1.23</td>\n",
       "      <td>0.57</td>\n",
       "      <td>2.19</td>\n",
       "      <td>1.27</td>\n",
       "      <td>25.482727</td>\n",
       "      <td>24.932000</td>\n",
       "      <td>20.004000</td>\n",
       "      <td>...</td>\n",
       "      <td>2444.744831</td>\n",
       "      <td>38.121232</td>\n",
       "      <td>1453.824808</td>\n",
       "      <td>100.249514</td>\n",
       "      <td>samia abd-allah</td>\n",
       "      <td>f</td>\n",
       "      <td>left</td>\n",
       "      <td>NaN</td>\n",
       "      <td>28.133657</td>\n",
       "      <td>severe</td>\n",
       "    </tr>\n",
       "    <tr>\n",
       "      <th>82</th>\n",
       "      <td>9</td>\n",
       "      <td>1.19</td>\n",
       "      <td>0.38</td>\n",
       "      <td>1.25</td>\n",
       "      <td>0.59</td>\n",
       "      <td>1.78</td>\n",
       "      <td>1.09</td>\n",
       "      <td>20.538571</td>\n",
       "      <td>22.143333</td>\n",
       "      <td>18.550000</td>\n",
       "      <td>...</td>\n",
       "      <td>681.342965</td>\n",
       "      <td>385.500887</td>\n",
       "      <td>252.893451</td>\n",
       "      <td>112.816790</td>\n",
       "      <td>samia abd-allah</td>\n",
       "      <td>f</td>\n",
       "      <td>left</td>\n",
       "      <td>NaN</td>\n",
       "      <td>28.133657</td>\n",
       "      <td>severe</td>\n",
       "    </tr>\n",
       "    <tr>\n",
       "      <th>83</th>\n",
       "      <td>9</td>\n",
       "      <td>1.94</td>\n",
       "      <td>0.46</td>\n",
       "      <td>0.58</td>\n",
       "      <td>0.12</td>\n",
       "      <td>2.06</td>\n",
       "      <td>0.70</td>\n",
       "      <td>24.150000</td>\n",
       "      <td>20.168750</td>\n",
       "      <td>17.265000</td>\n",
       "      <td>...</td>\n",
       "      <td>490.467882</td>\n",
       "      <td>5325.406611</td>\n",
       "      <td>733.122962</td>\n",
       "      <td>728.755712</td>\n",
       "      <td>samia abd-allah</td>\n",
       "      <td>f</td>\n",
       "      <td>left</td>\n",
       "      <td>NaN</td>\n",
       "      <td>28.133657</td>\n",
       "      <td>severe</td>\n",
       "    </tr>\n",
       "  </tbody>\n",
       "</table>\n",
       "<p>84 rows × 62 columns</p>\n",
       "</div>"
      ],
      "text/plain": [
       "    patient_id  swing_time_max  swing_time_min  stance_time_max  \\\n",
       "0            1            1.04            0.46             1.18   \n",
       "1            1            1.22            0.42             1.39   \n",
       "2            1            1.01            0.42             1.01   \n",
       "3           10            0.90            0.43             0.85   \n",
       "4           10            0.61            0.36             0.86   \n",
       "..         ...             ...             ...              ...   \n",
       "79           8            0.70            0.47             1.15   \n",
       "80           8            2.39            0.52             1.38   \n",
       "81           9            1.35            0.49             1.23   \n",
       "82           9            1.19            0.38             1.25   \n",
       "83           9            1.94            0.46             0.58   \n",
       "\n",
       "    stance_time_min  stride_time_max  stride_time_min  strike_angle  \\\n",
       "0              0.81             1.99             1.31     24.491429   \n",
       "1              0.08             2.24             0.53     21.702500   \n",
       "2              0.23             2.02             0.65     18.201429   \n",
       "3              0.52             1.61             1.00     12.638571   \n",
       "4              0.34             1.43             0.95     16.573750   \n",
       "..              ...              ...              ...           ...   \n",
       "79             0.82             1.85             1.31     17.150000   \n",
       "80             0.59             2.98             1.36     25.272857   \n",
       "81             0.57             2.19             1.27     25.482727   \n",
       "82             0.59             1.78             1.09     20.538571   \n",
       "83             0.12             2.06             0.70     24.150000   \n",
       "\n",
       "    mean_hs_angle  mean_to_angle  ...  powerZ_ 3_C   powerZ_ 4_C  powerZ_ 5_C  \\\n",
       "0       24.000000      38.840000  ...   533.161447   2633.837158  3055.918834   \n",
       "1       21.227143      34.982857  ...  2606.851615     10.729508  5185.243035   \n",
       "2       17.451667      32.843333  ...   304.164403  12119.034787  1532.932283   \n",
       "3       11.700000      27.365000  ...  2954.338341   2614.545432  1978.834077   \n",
       "4       17.008571      28.935714  ...   462.167270   1289.025156   711.321877   \n",
       "..            ...            ...  ...          ...           ...          ...   \n",
       "79      16.812000      25.746000  ...  1520.306683   1620.084514   810.152477   \n",
       "80      18.786667      22.300000  ...    45.824601   1505.276923   991.774908   \n",
       "81      24.932000      20.004000  ...  2444.744831     38.121232  1453.824808   \n",
       "82      22.143333      18.550000  ...   681.342965    385.500887   252.893451   \n",
       "83      20.168750      17.265000  ...   490.467882   5325.406611   733.122962   \n",
       "\n",
       "    powerZ_ 6_C             name  gender    leg   age        BMI  severity  \n",
       "0    173.842186   marwa abdelaly       f  right  40.0  35.755956      mild  \n",
       "1     25.271313   marwa abdelaly       f  right  40.0  35.755956      mild  \n",
       "2    537.452090   marwa abdelaly       f  right  40.0  35.755956      mild  \n",
       "3    105.690189      rehab helmy       m  right  35.0  29.136316      mild  \n",
       "4     26.048736      rehab helmy       m  right  35.0  29.136316      mild  \n",
       "..          ...              ...     ...    ...   ...        ...       ...  \n",
       "79    98.917555    sameh mostafa       m  right  43.0  41.207561    normal  \n",
       "80    18.398063    sameh mostafa       m  right  43.0  41.207561    normal  \n",
       "81   100.249514  samia abd-allah       f   left   NaN  28.133657    severe  \n",
       "82   112.816790  samia abd-allah       f   left   NaN  28.133657    severe  \n",
       "83   728.755712  samia abd-allah       f   left   NaN  28.133657    severe  \n",
       "\n",
       "[84 rows x 62 columns]"
      ]
     },
     "execution_count": 31,
     "metadata": {},
     "output_type": "execute_result"
    }
   ],
   "source": [
    "merged_df = pd.merge(fdf, wdf, on='patient_id', how='left')\n",
    "merged_df"
   ]
  },
  {
   "cell_type": "code",
   "execution_count": 32,
   "id": "cdbb1bdb-2d3d-46b3-b8ca-27b39b238b54",
   "metadata": {},
   "outputs": [],
   "source": [
    "# merged_df.to_csv(\"csv/data_training/final_data.csv\", index=False)"
   ]
  },
  {
   "cell_type": "code",
   "execution_count": 33,
   "id": "2932a128-7c93-4fc2-877c-61c508f93f92",
   "metadata": {},
   "outputs": [
    {
     "data": {
      "text/plain": [
       "(84, 62)"
      ]
     },
     "execution_count": 33,
     "metadata": {},
     "output_type": "execute_result"
    }
   ],
   "source": [
    "merged_df.shape"
   ]
  },
  {
   "cell_type": "code",
   "execution_count": 34,
   "id": "16e57919-366c-4059-a3f2-84ffb1afd3a6",
   "metadata": {},
   "outputs": [
    {
     "data": {
      "text/plain": [
       "30.15808152613778"
      ]
     },
     "execution_count": 34,
     "metadata": {},
     "output_type": "execute_result"
    }
   ],
   "source": [
    "np.mean(merged_df[\"BMI\"])"
   ]
  },
  {
   "cell_type": "code",
   "execution_count": 35,
   "id": "87b7845f-de9b-4c49-8de7-ccce965c9653",
   "metadata": {},
   "outputs": [
    {
     "data": {
      "text/plain": [
       "severity\n",
       "mild        31.328903\n",
       "moderate    29.577369\n",
       "normal      28.952814\n",
       "severe      30.076248\n",
       "Name: BMI, dtype: float64"
      ]
     },
     "execution_count": 35,
     "metadata": {},
     "output_type": "execute_result"
    }
   ],
   "source": [
    "mean_bmi_by_severity = merged_df.groupby('severity')['BMI'].mean()\n",
    "mean_bmi_by_severity"
   ]
  },
  {
   "cell_type": "code",
   "execution_count": 36,
   "id": "2cd5de22-9212-40d6-acc5-0ecc16d24003",
   "metadata": {},
   "outputs": [
    {
     "data": {
      "text/plain": [
       "severity   \n",
       "mild      0    32.466181\n",
       "moderate  0    25.816630\n",
       "          1    26.037494\n",
       "normal    0    17.577069\n",
       "          1    26.124567\n",
       "          2    26.222222\n",
       "          3    33.632653\n",
       "          4    41.207561\n",
       "severe    0    27.767098\n",
       "          1    29.068796\n",
       "          2    33.057851\n",
       "Name: BMI, dtype: float64"
      ]
     },
     "execution_count": 36,
     "metadata": {},
     "output_type": "execute_result"
    }
   ],
   "source": [
    "merged_df.groupby('severity')['BMI'].apply(lambda x: x.mode())"
   ]
  },
  {
   "cell_type": "markdown",
   "id": "d2278f77-8bc5-4218-ad62-48ff8d91b9d7",
   "metadata": {},
   "source": [
    "### Missing data handling"
   ]
  },
  {
   "cell_type": "code",
   "execution_count": 37,
   "id": "2224074e-1bd9-491d-bd20-17e30669ce6d",
   "metadata": {
    "scrolled": true
   },
   "outputs": [
    {
     "name": "stdout",
     "output_type": "stream",
     "text": [
      "Missing Values Column: {'patient_id': 0, 'swing_time_max': 0, 'swing_time_min': 0, 'stance_time_max': 0, 'stance_time_min': 0, 'stride_time_max': 0, 'stride_time_min': 0, 'strike_angle': 0, 'mean_hs_angle': 0, 'mean_to_angle': 0, 'thrustACCel_C': 7, 'thrustACCel_T': 16, 'max_stance_angles': 3, 'max_swing_angles': 0, 'Omega_X_T': 0, 'Omega_Y_T': 0, 'Omega_Z_T': 0, 'powerX_ 1_T': 0, 'powerX_ 2_T': 0, 'powerX_ 3_T': 0, 'powerX_ 4_T': 0, 'powerX_ 5_T': 0, 'powerX_ 6_T': 0, 'powerY_ 1_T': 0, 'powerY_ 2_T': 0, 'powerY_ 3_T': 0, 'powerY_ 4_T': 0, 'powerY_ 5_T': 0, 'powerY_ 6_T': 0, 'powerZ_ 1_T': 0, 'powerZ_ 2_T': 0, 'powerZ_ 3_T': 0, 'powerZ_ 4_T': 0, 'powerZ_ 5_T': 0, 'powerZ_ 6_T': 0, 'Omega_X_C': 0, 'Omega_Y_C': 0, 'Omega_Z_C': 0, 'powerX_ 1_C': 0, 'powerX_ 2_C': 0, 'powerX_ 3_C': 0, 'powerX_ 4_C': 0, 'powerX_ 5_C': 0, 'powerX_ 6_C': 0, 'powerY_ 1_C': 0, 'powerY_ 2_T.1': 0, 'powerY_ 3_C': 0, 'powerY_ 4_C': 0, 'powerY_ 5_C': 0, 'powerY_ 6_C': 0, 'powerZ_ 1_C': 0, 'powerZ_ 2_C': 0, 'powerZ_ 3_C': 0, 'powerZ_ 4_C': 0, 'powerZ_ 5_C': 0, 'powerZ_ 6_C': 0, 'name': 0, 'gender': 0, 'leg': 0, 'age': 3, 'BMI': 0, 'severity': 0}\n",
      "Missing values: [0 0 0 0 0 0 0 0 0 0 0 0 0 0 0 0 0 0 0 0 0 0 0 0 0 0 0 0 0 0 0 0 0 0 0 0 0\n",
      " 0 0 0 0 0 0 0 0 0 0 0 0 0 0 0 0 0 0 0 0 0 0 0 0 0]\n"
     ]
    }
   ],
   "source": [
    "merged_df = MissingValueHandling(merged_df)\n",
    "    \n",
    "null_col =  np.array(merged_df.isnull().sum()) \n",
    "print(\"Missing values:\", null_col)"
   ]
  },
  {
   "cell_type": "markdown",
   "id": "88b1c6be-0b81-43aa-a766-e5f6ee0156da",
   "metadata": {},
   "source": [
    "### Encoding Categorical data"
   ]
  },
  {
   "cell_type": "code",
   "execution_count": 38,
   "id": "9c420c5d-095f-4b7d-a85a-3d23e5ad6de8",
   "metadata": {},
   "outputs": [
    {
     "name": "stdout",
     "output_type": "stream",
     "text": [
      "Severity before Encoding:\n",
      "{'mild': 29, 'severe': 21, 'normal': 20, 'moderate': 14}\n",
      "Severity after Encoding:\n"
     ]
    },
    {
     "data": {
      "text/plain": [
       "{0: 29, 3: 21, 2: 20, 1: 14}"
      ]
     },
     "execution_count": 38,
     "metadata": {},
     "output_type": "execute_result"
    }
   ],
   "source": [
    "print('Severity before Encoding:')\n",
    "print(dict(merged_df['severity'].value_counts()))\n",
    "\n",
    "merged_df = Encoding(merged_df)\n",
    "    \n",
    "# # Check that the value transformed successfully \n",
    "print('Severity after Encoding:')\n",
    "dict(merged_df['severity'].value_counts())"
   ]
  },
  {
   "cell_type": "code",
   "execution_count": 39,
   "id": "e590ddf0-66cb-4c51-aade-4f212f254984",
   "metadata": {},
   "outputs": [
    {
     "data": {
      "text/plain": [
       "(67, 58)"
      ]
     },
     "execution_count": 39,
     "metadata": {},
     "output_type": "execute_result"
    }
   ],
   "source": [
    "merged_df = shuffle(merged_df, random_state=random_seed)\n",
    "\n",
    "columns_to_drop = ['patient_id', 'name', 'leg', 'severity']\n",
    "\n",
    "X = merged_df.drop(columns = columns_to_drop, axis = 1)  \n",
    "y = merged_df['severity']  \n",
    "\n",
    "X_train, X_test, y_train, y_test = train_test_split(X, y, test_size=0.2, random_state=random_seed)\n",
    "X_train.shape"
   ]
  },
  {
   "cell_type": "markdown",
   "id": "fe807323-f618-4777-99b7-4ff675c0da39",
   "metadata": {},
   "source": [
    "## Feature Selection"
   ]
  },
  {
   "cell_type": "markdown",
   "id": "d502a27c-6e05-448e-8894-6266827222a3",
   "metadata": {},
   "source": [
    "### Filter Method"
   ]
  },
  {
   "cell_type": "code",
   "execution_count": 40,
   "id": "15310ed7-259e-4412-b13b-e81e4df94658",
   "metadata": {},
   "outputs": [
    {
     "data": {
      "image/png": "[encoded data removed]",
      "text/plain": [
       "<Figure size 864x864 with 1 Axes>"
      ]
     },
     "metadata": {
      "needs_background": "light"
     },
     "output_type": "display_data"
    }
   ],
   "source": [
    "###################################################### Information Gain ######################################################\n",
    "mi_scores = mutual_info_classif(X, y)\n",
    "mi_scores_df = pd.DataFrame({'Feature': X.columns, 'MI Score': mi_scores})\n",
    "# Sort features by their mutual information scores\n",
    "mi_scores_df = mi_scores_df.sort_values(by='MI Score', ascending=False)\n",
    "# mi_scores_df\n",
    "\n",
    "# Plot feature importance\n",
    "plt.figure(figsize=(12, 12))\n",
    "plt.barh(mi_scores_df['Feature'], mi_scores_df['MI Score'], color='teal')\n",
    "plt.xlabel('Mutual Information Score')\n",
    "plt.ylabel('Feature')\n",
    "plt.title('Feature Importance using Mutual Information')\n",
    "plt.gca().invert_yaxis()  # To display the highest scores at the top\n",
    "\n",
    "# Save the plot as an image\n",
    "# plt.savefig('important_img/Gain_feature_importance.png', format='png', dpi=300, bbox_inches='tight')\n",
    "\n",
    "plt.show()"
   ]
  },
  {
   "cell_type": "code",
   "execution_count": 41,
   "id": "4bbb6dde-08f6-4bd5-99b2-79854da89195",
   "metadata": {},
   "outputs": [
    {
     "data": {
      "text/plain": [
       "['stance_time_min',\n",
       " 'thrustACCel_T',\n",
       " 'max_swing_angles',\n",
       " 'powerX_ 3_T',\n",
       " 'powerX_ 4_T',\n",
       " 'powerX_ 6_T',\n",
       " 'powerY_ 3_T',\n",
       " 'powerY_ 4_T',\n",
       " 'powerY_ 5_T',\n",
       " 'powerY_ 6_T',\n",
       " 'powerZ_ 4_T',\n",
       " 'powerZ_ 6_T',\n",
       " 'powerX_ 2_C',\n",
       " 'powerX_ 6_C',\n",
       " 'powerY_ 2_T.1',\n",
       " 'powerY_ 4_C',\n",
       " 'powerY_ 5_C',\n",
       " 'powerY_ 6_C',\n",
       " 'powerZ_ 2_C',\n",
       " 'powerZ_ 4_C']"
      ]
     },
     "execution_count": 41,
     "metadata": {},
     "output_type": "execute_result"
    }
   ],
   "source": [
    "non_selected_features = []\n",
    "for i in range(len(mi_scores_df[\"Feature\"])):\n",
    "    # print(mi_scores_df[\"Feature\"][i])\n",
    "    if mi_scores_df[\"MI Score\"][i] == 0.000000:\n",
    "        non_selected_features.append(mi_scores_df[\"Feature\"][i])\n",
    "\n",
    "non_selected_features"
   ]
  },
  {
   "cell_type": "markdown",
   "id": "fa1e1413-5627-4e3c-83b0-ee8b64866e81",
   "metadata": {},
   "source": [
    "### drop the correlated features"
   ]
  },
  {
   "cell_type": "code",
   "execution_count": 42,
   "id": "5d30c772-a6ee-4c9c-914d-55a47ca43b16",
   "metadata": {},
   "outputs": [],
   "source": [
    "X_train, X_test, y_train, y_test = train_test_split(X, y, test_size=0.2, random_state=random_seed)"
   ]
  },
  {
   "cell_type": "code",
   "execution_count": 43,
   "id": "23a1e3b7-f369-4020-9fa8-dfaace22de50",
   "metadata": {},
   "outputs": [],
   "source": [
    "# X_train_corr = X_train.drop(corr_features,axis=1)\n",
    "# X_test_corr = X_test.drop(corr_features,axis=1)\n",
    "# X_train_corr.columns"
   ]
  },
  {
   "cell_type": "markdown",
   "id": "d08f30ff-9b0b-422f-8022-49487508a25e",
   "metadata": {},
   "source": [
    "### drop selected features from filtering method"
   ]
  },
  {
   "cell_type": "code",
   "execution_count": 44,
   "id": "c9179b18-9123-46d5-a135-9237c328f95d",
   "metadata": {},
   "outputs": [
    {
     "data": {
      "text/plain": [
       "Index(['swing_time_max', 'swing_time_min', 'stance_time_max',\n",
       "       'stride_time_max', 'stride_time_min', 'strike_angle', 'mean_hs_angle',\n",
       "       'mean_to_angle', 'thrustACCel_C', 'max_stance_angles', 'Omega_X_T',\n",
       "       'Omega_Y_T', 'Omega_Z_T', 'powerX_ 1_T', 'powerX_ 2_T', 'powerX_ 5_T',\n",
       "       'powerY_ 1_T', 'powerY_ 2_T', 'powerZ_ 1_T', 'powerZ_ 2_T',\n",
       "       'powerZ_ 3_T', 'powerZ_ 5_T', 'Omega_X_C', 'Omega_Y_C', 'Omega_Z_C',\n",
       "       'powerX_ 1_C', 'powerX_ 3_C', 'powerX_ 4_C', 'powerX_ 5_C',\n",
       "       'powerY_ 1_C', 'powerY_ 3_C', 'powerZ_ 1_C', 'powerZ_ 3_C',\n",
       "       'powerZ_ 5_C', 'powerZ_ 6_C', 'gender', 'age', 'BMI'],\n",
       "      dtype='object')"
      ]
     },
     "execution_count": 44,
     "metadata": {},
     "output_type": "execute_result"
    }
   ],
   "source": [
    "X_train_filter = X_train.drop(non_selected_features, axis=1)\n",
    "X_test_filter = X_test.drop(non_selected_features, axis=1)\n",
    "X_train_filter.columns"
   ]
  },
  {
   "cell_type": "markdown",
   "id": "67d6e7be-eeba-4399-97d3-8ab000015f31",
   "metadata": {},
   "source": [
    "## Scaling the data"
   ]
  },
  {
   "cell_type": "code",
   "execution_count": 45,
   "id": "81e1db15-b353-4fb7-b609-8ab813aad870",
   "metadata": {},
   "outputs": [],
   "source": [
    "# # Initialize StandardScaler\n",
    "# scaler_corr = StandardScaler()\n",
    "# X_train_corr = scaler_corr.fit_transform(X_train_corr)\n",
    "# X_test_corr = scaler_corr.transform(X_test_corr)"
   ]
  },
  {
   "cell_type": "code",
   "execution_count": 46,
   "id": "6afbc49e-f8c5-4916-8b05-2024a4165803",
   "metadata": {},
   "outputs": [],
   "source": [
    "scaler_filter = StandardScaler()\n",
    "X_train_filter = scaler_filter.fit_transform(X_train_filter)\n",
    "X_test_filter = scaler_filter.transform(X_test_filter)"
   ]
  },
  {
   "cell_type": "markdown",
   "id": "5eb7cdc8-b0ef-4958-8a3b-8d6cfdeb4b91",
   "metadata": {},
   "source": [
    "# Models Training"
   ]
  },
  {
   "cell_type": "markdown",
   "id": "6dd084ae-d6fa-448a-b856-96b88aa6a3a5",
   "metadata": {},
   "source": [
    "### Selected feature training"
   ]
  },
  {
   "cell_type": "code",
   "execution_count": 47,
   "id": "61e0d647-cacd-44aa-a1e9-fb5801b3556e",
   "metadata": {},
   "outputs": [
    {
     "name": "stdout",
     "output_type": "stream",
     "text": [
      "Random Forest Training Accuracy: 100.00\n",
      "Random Forest Testing Accuracy: 88.24\n",
      "--------------------------------------------------\n",
      "Logistic Regression Training Accuracy: 100.00\n",
      "Logistic Regression Testing Accuracy: 70.59\n",
      "--------------------------------------------------\n",
      "KNN (k=7) Training Accuracy: 100.00\n",
      "KNN (k=7) Testing Accuracy: 70.59\n",
      "--------------------------------------------------\n",
      "XGBoost Training Accuracy: 100.00\n",
      "XGBoost Testing Accuracy: 82.35\n",
      "--------------------------------------------------\n",
      "linear SVM Training Accuracy: 98.51\n",
      "linear SVM Testing Accuracy: 76.47\n",
      "--------------------------------------------------\n",
      "Poly SVM Training Accuracy: 100.00\n",
      "Poly SVM Testing Accuracy: 64.71\n",
      "--------------------------------------------------\n",
      "rbf SVM Training Accuracy: 100.00\n",
      "rbf SVM Testing Accuracy: 82.35\n",
      "--------------------------------------------------\n",
      "Sigmoid SVM Training Accuracy: 70.15\n",
      "Sigmoid SVM Testing Accuracy: 64.71\n",
      "--------------------------------------------------\n",
      "Lasso Logistic Regression Training Accuracy: 100.00\n",
      "Lasso Logistic Regression Testing Accuracy: 64.71\n",
      "--------------------------------------------------\n"
     ]
    }
   ],
   "source": [
    "from sklearn.model_selection import GridSearchCV\n",
    "# Define models and their parameter grids for Grid Search\n",
    "param_grids = {\n",
    "    \"Random Forest\": {\n",
    "        \"n_estimators\": [100, 200],\n",
    "        \"max_depth\": [10, 20, None],\n",
    "        \"min_samples_split\": [2, 5],\n",
    "    },\n",
    "    \"Logistic Regression\": {\n",
    "        \"C\": np.logspace(-4, 4, 20),\n",
    "        \"solver\": [\"lbfgs\", \"liblinear\"],\n",
    "    },\n",
    "    \"KNN (k=7)\": {\n",
    "        \"n_neighbors\": [5, 7, 9],\n",
    "        \"weights\": [\"uniform\", \"distance\"],\n",
    "    },\n",
    "    \"XGBoost\": {\n",
    "        \"n_estimators\": [100, 200],\n",
    "        \"learning_rate\": [0.01, 0.1],\n",
    "        \"max_depth\": [3, 6, 10],\n",
    "    },\n",
    "    \"linear SVM\": {\n",
    "        \"C\": np.logspace(-4, 4, 20),\n",
    "    },\n",
    "    \"Poly SVM\": {\n",
    "        \"C\": np.logspace(-4, 4, 20),\n",
    "        \"degree\": [2, 3, 4],\n",
    "    },\n",
    "    \"rbf SVM\": {\n",
    "        \"C\": np.logspace(-4, 4, 20),\n",
    "        \"gamma\": [\"scale\", \"auto\"],\n",
    "    },\n",
    "    \"Sigmoid SVM\": {\n",
    "        \"C\": np.logspace(-4, 4, 20),\n",
    "        \"gamma\": [\"scale\", \"auto\"],\n",
    "    },\n",
    "    \"Lasso Logistic Regression\": {\n",
    "        \"C\": np.logspace(-4, 4, 20),\n",
    "    }\n",
    "}\n",
    "\n",
    "# Define models\n",
    "models = {\n",
    "    \"Random Forest\": RandomForestClassifier(random_state=random_seed),\n",
    "    \"Logistic Regression\": LogisticRegression(),\n",
    "    \"KNN (k=7)\": KNeighborsClassifier(),\n",
    "    \"XGBoost\": XGBClassifier(),\n",
    "    \"linear SVM\": SVC(kernel='linear', random_state=random_seed),\n",
    "    \"Poly SVM\": SVC(kernel='poly', random_state=random_seed),\n",
    "    \"rbf SVM\": SVC(kernel='rbf', random_state=random_seed),\n",
    "    \"Sigmoid SVM\": SVC(kernel='sigmoid', random_state=random_seed),\n",
    "    \"Lasso Logistic Regression\": LogisticRegression(penalty='l1', solver='saga', multi_class='multinomial', max_iter=10000, random_state=random_seed)\n",
    "}\n",
    "\n",
    "# Train and evaluate each model using Grid Search\n",
    "for model_name, model in models.items():\n",
    "    param_grid = param_grids[model_name]\n",
    "    grid_search = GridSearchCV(model, param_grid, cv=5, scoring='accuracy', n_jobs=-1)\n",
    "    grid_search.fit(X_train_filter, y_train)\n",
    "    \n",
    "    best_model = grid_search.best_estimator_\n",
    "    train_and_evaluate(best_model, model_name, X_train_filter, y_train, X_test_filter, y_test)\n",
    "    \n",
    "# models = {\n",
    "#     \"Random Forest\": RandomForestClassifier(random_state=random_seed),\n",
    "#     \"Logistic Regression\": LogisticRegression(),\n",
    "#     \"KNN (k=7)\": KNeighborsClassifier(n_neighbors=7),\n",
    "#     \"XGBoost\": XGBClassifier(),\n",
    "#     \"linear SVM\": SVC(kernel='linear', random_state=random_seed),\n",
    "#     \"Poly SVM\": SVC(kernel='poly', random_state=random_seed),\n",
    "#     \"rbf SVM\": SVC(kernel='rbf', random_state=random_seed),\n",
    "#     \"Sigmoid SVM\": SVC(kernel= 'sigmoid', random_state=random_seed),\n",
    "#     \"Lasso Logistic Regression\": LogisticRegression(penalty='l1', solver='saga', multi_class='multinomial', max_iter=10000, random_state=random_seed)\n",
    "# }\n",
    "\n",
    "# # Train and evaluate each model\n",
    "# for model_name, model in models.items():\n",
    "#     train_and_evaluate(model, model_name, X_train_filter, y_train, X_test_filter, y_test)\n"
   ]
  },
  {
   "cell_type": "code",
   "execution_count": 48,
   "id": "bfb18a1b-f902-4acc-9e13-f44dc1a6bd1e",
   "metadata": {},
   "outputs": [
    {
     "ename": "AttributeError",
     "evalue": "'str' object has no attribute 'items'",
     "output_type": "error",
     "traceback": [
      "\u001b[1;31m---------------------------------------------------------------------------\u001b[0m",
      "\u001b[1;31mAttributeError\u001b[0m                            Traceback (most recent call last)",
      "Input \u001b[1;32mIn [48]\u001b[0m, in \u001b[0;36m<cell line: 6>\u001b[1;34m()\u001b[0m\n\u001b[0;32m      2\u001b[0m clf\u001b[38;5;241m.\u001b[39mfit(X_train_filter, y_train)\n\u001b[0;32m      4\u001b[0m y_pred_filter \u001b[38;5;241m=\u001b[39m clf\u001b[38;5;241m.\u001b[39mpredict(X_test_filter)\n\u001b[1;32m----> 6\u001b[0m \u001b[43mcmatrix_fun\u001b[49m\u001b[43m(\u001b[49m\u001b[38;5;124;43m\"\u001b[39;49m\u001b[38;5;124;43mRF with feature selection\u001b[39;49m\u001b[38;5;124;43m\"\u001b[39;49m\u001b[43m,\u001b[49m\u001b[43m \u001b[49m\u001b[43my_test\u001b[49m\u001b[43m,\u001b[49m\u001b[43m \u001b[49m\u001b[43my_pred_filter\u001b[49m\u001b[43m)\u001b[49m\n",
      "Input \u001b[1;32mIn [27]\u001b[0m, in \u001b[0;36mcmatrix_fun\u001b[1;34m(model_name, actual, predicted)\u001b[0m\n\u001b[0;32m     92\u001b[0m ax\u001b[38;5;241m.\u001b[39mset_xlabel(\u001b[38;5;124m'\u001b[39m\u001b[38;5;124mPredicted\u001b[39m\u001b[38;5;124m'\u001b[39m)\n\u001b[0;32m     93\u001b[0m ax\u001b[38;5;241m.\u001b[39mset_ylabel(\u001b[38;5;124m'\u001b[39m\u001b[38;5;124mTrue\u001b[39m\u001b[38;5;124m'\u001b[39m)\n\u001b[1;32m---> 94\u001b[0m \u001b[43max\u001b[49m\u001b[38;5;241;43m.\u001b[39;49m\u001b[43mset_title\u001b[49m\u001b[43m(\u001b[49m\u001b[38;5;124;43m'\u001b[39;49m\u001b[38;5;124;43mConfusion Matrix of\u001b[39;49m\u001b[38;5;124;43m'\u001b[39;49m\u001b[43m,\u001b[49m\u001b[43m \u001b[49m\u001b[43mmodel_name\u001b[49m\u001b[43m)\u001b[49m\n\u001b[0;32m     95\u001b[0m plt\u001b[38;5;241m.\u001b[39mshow()\n",
      "File \u001b[1;32m~\\anaconda3\\lib\\site-packages\\matplotlib\\axes\\_axes.py:168\u001b[0m, in \u001b[0;36mAxes.set_title\u001b[1;34m(self, label, fontdict, loc, pad, y, **kwargs)\u001b[0m\n\u001b[0;32m    166\u001b[0m title\u001b[38;5;241m.\u001b[39mupdate(default)\n\u001b[0;32m    167\u001b[0m \u001b[38;5;28;01mif\u001b[39;00m fontdict \u001b[38;5;129;01mis\u001b[39;00m \u001b[38;5;129;01mnot\u001b[39;00m \u001b[38;5;28;01mNone\u001b[39;00m:\n\u001b[1;32m--> 168\u001b[0m     \u001b[43mtitle\u001b[49m\u001b[38;5;241;43m.\u001b[39;49m\u001b[43mupdate\u001b[49m\u001b[43m(\u001b[49m\u001b[43mfontdict\u001b[49m\u001b[43m)\u001b[49m\n\u001b[0;32m    169\u001b[0m title\u001b[38;5;241m.\u001b[39mupdate(kwargs)\n\u001b[0;32m    170\u001b[0m \u001b[38;5;28;01mreturn\u001b[39;00m title\n",
      "File \u001b[1;32m~\\anaconda3\\lib\\site-packages\\matplotlib\\text.py:164\u001b[0m, in \u001b[0;36mText.update\u001b[1;34m(self, kwargs)\u001b[0m\n\u001b[0;32m    162\u001b[0m \u001b[38;5;28;01mdef\u001b[39;00m \u001b[38;5;21mupdate\u001b[39m(\u001b[38;5;28mself\u001b[39m, kwargs):\n\u001b[0;32m    163\u001b[0m     \u001b[38;5;66;03m# docstring inherited\u001b[39;00m\n\u001b[1;32m--> 164\u001b[0m     kwargs \u001b[38;5;241m=\u001b[39m \u001b[43mcbook\u001b[49m\u001b[38;5;241;43m.\u001b[39;49m\u001b[43mnormalize_kwargs\u001b[49m\u001b[43m(\u001b[49m\u001b[43mkwargs\u001b[49m\u001b[43m,\u001b[49m\u001b[43m \u001b[49m\u001b[43mText\u001b[49m\u001b[43m)\u001b[49m\n\u001b[0;32m    165\u001b[0m     sentinel \u001b[38;5;241m=\u001b[39m \u001b[38;5;28mobject\u001b[39m()  \u001b[38;5;66;03m# bbox can be None, so use another sentinel.\u001b[39;00m\n\u001b[0;32m    166\u001b[0m     \u001b[38;5;66;03m# Update fontproperties first, as it has lowest priority.\u001b[39;00m\n",
      "File \u001b[1;32m~\\anaconda3\\lib\\site-packages\\matplotlib\\cbook\\__init__.py:1736\u001b[0m, in \u001b[0;36mnormalize_kwargs\u001b[1;34m(kw, alias_mapping)\u001b[0m\n\u001b[0;32m   1733\u001b[0m canonical_to_seen \u001b[38;5;241m=\u001b[39m {}\n\u001b[0;32m   1734\u001b[0m ret \u001b[38;5;241m=\u001b[39m {}  \u001b[38;5;66;03m# output dictionary\u001b[39;00m\n\u001b[1;32m-> 1736\u001b[0m \u001b[38;5;28;01mfor\u001b[39;00m k, v \u001b[38;5;129;01min\u001b[39;00m \u001b[43mkw\u001b[49m\u001b[38;5;241;43m.\u001b[39;49m\u001b[43mitems\u001b[49m():\n\u001b[0;32m   1737\u001b[0m     canonical \u001b[38;5;241m=\u001b[39m to_canonical\u001b[38;5;241m.\u001b[39mget(k, k)\n\u001b[0;32m   1738\u001b[0m     \u001b[38;5;28;01mif\u001b[39;00m canonical \u001b[38;5;129;01min\u001b[39;00m canonical_to_seen:\n",
      "\u001b[1;31mAttributeError\u001b[0m: 'str' object has no attribute 'items'"
     ]
    },
    {
     "data": {
      "image/png": "[encoded data removed]",
      "text/plain": [
       "<Figure size 432x432 with 2 Axes>"
      ]
     },
     "metadata": {
      "needs_background": "light"
     },
     "output_type": "display_data"
    }
   ],
   "source": [
    "clf = RandomForestClassifier(random_state=random_seed)\n",
    "clf.fit(X_train_filter, y_train)\n",
    "\n",
    "y_pred_filter = clf.predict(X_test_filter)\n",
    "\n",
    "cmatrix_fun(\"RF with feature selection\", y_test, y_pred_filter)"
   ]
  },
  {
   "cell_type": "markdown",
   "id": "885a2008-8ed9-4fde-b0b0-73ad56e0025f",
   "metadata": {},
   "source": [
    "## PCA feature selection and Training"
   ]
  },
  {
   "cell_type": "code",
   "execution_count": 49,
   "id": "7b4c5beb-094a-41c5-89cd-83d1bbfed3a5",
   "metadata": {},
   "outputs": [],
   "source": [
    "from sklearn.decomposition import PCA\n",
    "\n",
    "scaler = StandardScaler()\n",
    "X_scaled = scaler.fit_transform(X)\n",
    "\n",
    "pca = PCA(n_components= 30)  # Example: Retain 10 principal components\n",
    "X_pca = pca.fit_transform(X_scaled)\n",
    "\n",
    "# X_pca\n",
    "# principal_X = pd.DataFrame(data = X_pca, columns = ['PCA1', 'PCA2', 'PCA3', 'PCA4', 'PCA5', 'PCA6', 'PCA7', 'PCA8', 'PCA9', 'PCA10',\n",
    "#                                                     'PCA11', 'PCA12', 'PCA13', 'PCA14', 'PCA15', 'PCA16', 'PCA17', 'PCA18', 'PCA19', 'PCA20',\n",
    "#                                                    'PCA21', 'PCA22', 'PCA23', 'PCA24', 'PCA25', 'PCA26', 'PCA27', 'PCA28', 'PCA29', 'PCA30'])\n",
    "# finalDf = pd.concat([principal_X, y], axis = 1)\n",
    "# finalDf\n"
   ]
  },
  {
   "cell_type": "code",
   "execution_count": 50,
   "id": "4fddbb3b-7d25-45d0-93a6-eb02d3c7800c",
   "metadata": {},
   "outputs": [
    {
     "data": {
      "image/png": "[encoded data removed]",
      "text/plain": [
       "<Figure size 432x288 with 2 Axes>"
      ]
     },
     "metadata": {
      "needs_background": "light"
     },
     "output_type": "display_data"
    }
   ],
   "source": [
    "scatter = plt.scatter(X_pca[:, 1], X_pca[:, 3], c=y, cmap='viridis', edgecolor='k', s=100)\n",
    "\n",
    "# Create a legend with a color for each unique value in y\n",
    "handles = [plt.Line2D([0,0],[0,0],color=scatter.cmap(scatter.norm(label))) for label in np.unique(y)]\n",
    "plt.legend(handles, np.unique(y), title='Target', bbox_to_anchor=(1.05, 1), loc='upper left')\n",
    "\n",
    "plt.colorbar(scatter, label='Target')\n",
    "plt.show()"
   ]
  },
  {
   "cell_type": "code",
   "execution_count": 51,
   "id": "3ab36c79-6b3a-41db-82e3-0cbd40b037ed",
   "metadata": {},
   "outputs": [
    {
     "name": "stdout",
     "output_type": "stream",
     "text": [
      "Random Forest Training Accuracy: 100.00\n",
      "Random Forest Testing Accuracy: 70.59\n",
      "--------------------------------------------------\n",
      "Logistic Regression Training Accuracy: 98.51\n",
      "Logistic Regression Testing Accuracy: 76.47\n",
      "--------------------------------------------------\n",
      "KNN (k=7) Training Accuracy: 53.73\n",
      "KNN (k=7) Testing Accuracy: 82.35\n",
      "--------------------------------------------------\n",
      "XGBoost Training Accuracy: 100.00\n",
      "XGBoost Testing Accuracy: 76.47\n",
      "--------------------------------------------------\n",
      "linear SVM Training Accuracy: 100.00\n",
      "linear SVM Testing Accuracy: 88.24\n",
      "--------------------------------------------------\n",
      "Poly SVM Training Accuracy: 65.67\n",
      "Poly SVM Testing Accuracy: 11.76\n",
      "--------------------------------------------------\n",
      "rbf SVM Training Accuracy: 89.55\n",
      "rbf SVM Testing Accuracy: 76.47\n",
      "--------------------------------------------------\n",
      "Sigmoid SVM Training Accuracy: 62.69\n",
      "Sigmoid SVM Testing Accuracy: 76.47\n",
      "--------------------------------------------------\n",
      "Lasso Logistic Regression Training Accuracy: 95.52\n",
      "Lasso Logistic Regression Testing Accuracy: 76.47\n",
      "--------------------------------------------------\n"
     ]
    }
   ],
   "source": [
    "X_train_pca, X_test_pca, y_train, y_test = train_test_split(X_pca, y, test_size=0.2, random_state=random_seed)\n",
    "\n",
    "\n",
    "for model_name, model in models.items():\n",
    "    train_and_evaluate(model, model_name, X_train_pca, y_train, X_test_pca, y_test)"
   ]
  },
  {
   "cell_type": "code",
   "execution_count": 52,
   "id": "cbe17461-feeb-4612-98e9-3d6bc9319c9c",
   "metadata": {},
   "outputs": [
    {
     "data": {
      "image/png": "[encoded data removed]",
      "text/plain": [
       "<Figure size 432x432 with 2 Axes>"
      ]
     },
     "metadata": {
      "needs_background": "light"
     },
     "output_type": "display_data"
    }
   ],
   "source": [
    "clf = RandomForestClassifier(random_state=random_seed)\n",
    "clf.fit(X_train_pca, y_train)\n",
    "\n",
    "y_pred = clf.predict(X_test_pca)\n",
    "\n",
    "# Compute confusion matrix\n",
    "cm = metrics.confusion_matrix(y_test, y_pred)\n",
    "\n",
    "# Normalize confusion matrix\n",
    "cm_normalized = (cm.astype('float') / cm.sum(axis=1)[:, np.newaxis]) * 100\n",
    "fig, ax = plt.subplots(figsize=(6, 6))\n",
    "\n",
    "# Plot the normalized confusion matrix\n",
    "class_labels = ['normal', 'mild', 'moderate', 'severe']\n",
    "cm_display = metrics.ConfusionMatrixDisplay(confusion_matrix=cm_normalized, display_labels = class_labels)\n",
    "cm_display.plot(ax=ax, cmap='Blues')\n",
    "\n",
    "# Set axis labels\n",
    "ax.set_xlabel('Predicted')\n",
    "ax.set_ylabel('True')\n",
    "ax.set_title('Confusion Matrix with Percentages')\n",
    "plt.show()"
   ]
  },
  {
   "cell_type": "markdown",
   "id": "714f6378-cc78-45fd-9794-ae05f6ce4c74",
   "metadata": {},
   "source": [
    "## No feature selection"
   ]
  },
  {
   "cell_type": "code",
   "execution_count": 53,
   "id": "2a0cf76e-1047-40a3-a9a3-244a3c482563",
   "metadata": {},
   "outputs": [
    {
     "name": "stdout",
     "output_type": "stream",
     "text": [
      "Random Forest Training Accuracy: 100.00\n",
      "Random Forest Testing Accuracy: 76.47\n",
      "--------------------------------------------------\n",
      "Logistic Regression Training Accuracy: 100.00\n",
      "Logistic Regression Testing Accuracy: 76.47\n",
      "--------------------------------------------------\n",
      "KNN (k=7) Training Accuracy: 58.21\n",
      "KNN (k=7) Testing Accuracy: 82.35\n",
      "--------------------------------------------------\n",
      "XGBoost Training Accuracy: 100.00\n",
      "XGBoost Testing Accuracy: 88.24\n",
      "--------------------------------------------------\n",
      "linear SVM Training Accuracy: 100.00\n",
      "linear SVM Testing Accuracy: 88.24\n",
      "--------------------------------------------------\n",
      "Poly SVM Training Accuracy: 62.69\n",
      "Poly SVM Testing Accuracy: 17.65\n",
      "--------------------------------------------------\n",
      "rbf SVM Training Accuracy: 89.55\n",
      "rbf SVM Testing Accuracy: 76.47\n",
      "--------------------------------------------------\n",
      "Sigmoid SVM Training Accuracy: 70.15\n",
      "Sigmoid SVM Testing Accuracy: 76.47\n",
      "--------------------------------------------------\n",
      "Lasso Logistic Regression Training Accuracy: 100.00\n",
      "Lasso Logistic Regression Testing Accuracy: 76.47\n",
      "--------------------------------------------------\n"
     ]
    }
   ],
   "source": [
    "X_train_all, X_test_all, y_train, y_test = train_test_split(X, y, test_size=0.2, random_state=random_seed)\n",
    "\n",
    "# Initialize StandardScaler\n",
    "scaler_corr = StandardScaler()\n",
    "X_train_all = scaler_corr.fit_transform(X_train_all)\n",
    "X_test_all = scaler_corr.transform(X_test_all)\n",
    "\n",
    "models = {\n",
    "    \"Random Forest\": RandomForestClassifier(random_state=random_seed),\n",
    "    \"Logistic Regression\": LogisticRegression(),\n",
    "    \"KNN (k=7)\": KNeighborsClassifier(n_neighbors=5),\n",
    "    \"XGBoost\": XGBClassifier(),\n",
    "    \"linear SVM\": SVC(kernel='linear', random_state=random_seed),\n",
    "    \"Poly SVM\": SVC(kernel='poly', random_state=random_seed),\n",
    "    \"rbf SVM\": SVC(kernel='rbf', random_state=random_seed),\n",
    "    \"Sigmoid SVM\": SVC(kernel= 'sigmoid', random_state=random_seed),\n",
    "    \"Lasso Logistic Regression\": LogisticRegression(penalty='l1', solver='saga', multi_class='multinomial', max_iter=10000, random_state=random_seed)\n",
    "}\n",
    "\n",
    "# Train and evaluate each model\n",
    "for model_name, model in models.items():\n",
    "    train_and_evaluate(model, model_name, X_train_all, y_train, X_test_all, y_test)"
   ]
  },
  {
   "cell_type": "markdown",
   "id": "730dc11a-4a9d-42eb-84e1-58c54fcc0b49",
   "metadata": {},
   "source": [
    "# new pca"
   ]
  },
  {
   "cell_type": "code",
   "execution_count": 54,
   "id": "3c83837a-c7b7-46fe-abec-316fe41efa0a",
   "metadata": {},
   "outputs": [],
   "source": [
    "from sklearn.feature_selection import SelectFromModel\n",
    "\n",
    "\n",
    "selector = RandomForestClassifier(n_estimators=100)\n",
    "selector.fit(X_train_all, y_train)  \n",
    "model = SelectFromModel(selector, prefit=True)\n",
    "data_selected = model.transform(X_train_all)\n",
    "pca = PCA(n_components=10)\n",
    "data_reduced = pca.fit_transform(data_selected)"
   ]
  },
  {
   "cell_type": "code",
   "execution_count": 55,
   "id": "2e7791a2-b073-49f8-ac55-d10b3dce846e",
   "metadata": {},
   "outputs": [],
   "source": [
    "x1 = model.transform(X_test_all)\n",
    "x_test = pca.transform(x1)"
   ]
  },
  {
   "cell_type": "code",
   "execution_count": null,
   "id": "68d7e899-1b47-4e5e-9ecc-5931906f497a",
   "metadata": {},
   "outputs": [],
   "source": []
  },
  {
   "cell_type": "code",
   "execution_count": 56,
   "id": "7456d555-143d-4907-bd58-98fb96488e8a",
   "metadata": {},
   "outputs": [
    {
     "name": "stdout",
     "output_type": "stream",
     "text": [
      "Random Forest Training Accuracy: 100.00\n",
      "Random Forest Testing Accuracy: 82.35\n",
      "--------------------------------------------------\n",
      "Logistic Regression Training Accuracy: 83.58\n",
      "Logistic Regression Testing Accuracy: 52.94\n",
      "--------------------------------------------------\n",
      "KNN (k=7) Training Accuracy: 100.00\n",
      "KNN (k=7) Testing Accuracy: 100.00\n",
      "--------------------------------------------------\n",
      "XGBoost Training Accuracy: 100.00\n",
      "XGBoost Testing Accuracy: 64.71\n",
      "--------------------------------------------------\n",
      "linear SVM Training Accuracy: 80.60\n",
      "linear SVM Testing Accuracy: 64.71\n",
      "--------------------------------------------------\n",
      "Poly SVM Training Accuracy: 100.00\n",
      "Poly SVM Testing Accuracy: 76.47\n",
      "--------------------------------------------------\n",
      "rbf SVM Training Accuracy: 100.00\n",
      "rbf SVM Testing Accuracy: 76.47\n",
      "--------------------------------------------------\n",
      "Sigmoid SVM Training Accuracy: 56.72\n",
      "Sigmoid SVM Testing Accuracy: 47.06\n",
      "--------------------------------------------------\n",
      "Lasso Logistic Regression Training Accuracy: 83.58\n",
      "Lasso Logistic Regression Testing Accuracy: 52.94\n",
      "--------------------------------------------------\n"
     ]
    }
   ],
   "source": [
    "from sklearn.model_selection import GridSearchCV\n",
    "from sklearn.ensemble import RandomForestClassifier\n",
    "from sklearn.linear_model import LogisticRegression\n",
    "from sklearn.neighbors import KNeighborsClassifier\n",
    "from xgboost import XGBClassifier\n",
    "from sklearn.svm import SVC\n",
    "import numpy as np\n",
    "\n",
    "# Define the parameter grids for Grid Search\n",
    "param_grids = {\n",
    "    \"Random Forest\": {\n",
    "        \"n_estimators\": [100, 200],\n",
    "        \"max_depth\": [10, 20, None],\n",
    "        \"min_samples_split\": [2, 5],\n",
    "    },\n",
    "    \"Logistic Regression\": {\n",
    "        \"C\": np.logspace(-4, 4, 20),\n",
    "        \"solver\": [\"lbfgs\", \"liblinear\"],\n",
    "    },\n",
    "    \"KNN (k=7)\": {\n",
    "        \"n_neighbors\": [3, 5, 7, 9],\n",
    "        \"weights\": [\"uniform\", \"distance\"],\n",
    "    },\n",
    "    \"XGBoost\": {\n",
    "        \"n_estimators\": [100, 200],\n",
    "        \"learning_rate\": [0.01, 0.1],\n",
    "        \"max_depth\": [3, 6, 10],\n",
    "    },\n",
    "    \"linear SVM\": {\n",
    "        \"C\": np.logspace(-4, 4, 20),\n",
    "    },\n",
    "    \"Poly SVM\": {\n",
    "        \"C\": np.logspace(-4, 4, 20),\n",
    "        \"degree\": [2, 3, 4],\n",
    "    },\n",
    "    \"rbf SVM\": {\n",
    "        \"C\": np.logspace(-4, 4, 20),\n",
    "        \"gamma\": [\"scale\", \"auto\"],\n",
    "    },\n",
    "    \"Sigmoid SVM\": {\n",
    "        \"C\": np.logspace(-4, 4, 20),\n",
    "        \"gamma\": [\"scale\", \"auto\"],\n",
    "    },\n",
    "    \"Lasso Logistic Regression\": {\n",
    "        \"C\": np.logspace(-4, 4, 20),\n",
    "    }\n",
    "}\n",
    "\n",
    "# Define models\n",
    "models = {\n",
    "    \"Random Forest\": RandomForestClassifier(random_state=random_seed),\n",
    "    \"Logistic Regression\": LogisticRegression(),\n",
    "    \"KNN (k=7)\": KNeighborsClassifier(),\n",
    "    \"XGBoost\": XGBClassifier(),\n",
    "    \"linear SVM\": SVC(kernel='linear', random_state=random_seed),\n",
    "    \"Poly SVM\": SVC(kernel='poly', random_state=random_seed),\n",
    "    \"rbf SVM\": SVC(kernel='rbf', random_state=random_seed),\n",
    "    \"Sigmoid SVM\": SVC(kernel='sigmoid', random_state=random_seed),\n",
    "    \"Lasso Logistic Regression\": LogisticRegression(penalty='l1', solver='saga', multi_class='multinomial', max_iter=10000, random_state=random_seed)\n",
    "}\n",
    "\n",
    "# Train and evaluate each model using Grid Search\n",
    "for model_name, model in models.items():\n",
    "    param_grid = param_grids[model_name]\n",
    "    grid_search = GridSearchCV(model, param_grid, cv=5, scoring='accuracy', n_jobs=-1)\n",
    "    grid_search.fit(data_reduced, y_train)\n",
    "    \n",
    "    best_model = grid_search.best_estimator_\n",
    "    train_and_evaluate(best_model, model_name, data_reduced, y_train, x_test, y_test)\n"
   ]
  },
  {
   "cell_type": "markdown",
   "id": "1ceddba9-49ff-482d-af0a-66724dac451a",
   "metadata": {},
   "source": [
    "# Over sampling"
   ]
  },
  {
   "cell_type": "code",
   "execution_count": 57,
   "id": "c4656853-3c69-4779-aa15-db6109f8600d",
   "metadata": {},
   "outputs": [
    {
     "name": "stdout",
     "output_type": "stream",
     "text": [
      " X_shape: (8000, 58) \n",
      " y_shape: (8000,)\n"
     ]
    }
   ],
   "source": [
    "from imblearn.over_sampling  import RandomOverSampler\n",
    "sampling_strategy = {\n",
    "    0: 2000,\n",
    "    1: 2000,\n",
    "    2: 2000,\n",
    "    3: 2000\n",
    "    # Add more classes as needed\n",
    "}\n",
    "\n",
    "\n",
    "X_train, X_test, y_train, y_test = train_test_split(X, y, test_size=0.2, random_state=random_seed)\n",
    "\n",
    "# Initialize RandomOverSampler with the specified sampling strategy\n",
    "smoteOver = RandomOverSampler(sampling_strategy=sampling_strategy)\n",
    "# smoteOver = RandomOverSampler(sampling_strategy=1)\n",
    "X_smoteOver, y_smoteOver = smoteOver.fit_resample(X_train , y_train)\n",
    "print(f' X_shape: {X_smoteOver.shape} \\n y_shape: {y_smoteOver.shape}')\n",
    "\n",
    "# Initialize StandardScaler\n",
    "scaler_corr = StandardScaler()\n",
    "X_train = scaler_corr.fit_transform(X_smoteOver)\n",
    "X_test = scaler_corr.transform(X_test)\n",
    "\n"
   ]
  },
  {
   "cell_type": "code",
   "execution_count": 62,
   "id": "c5a39c81-2e75-467d-b11f-90b877b19676",
   "metadata": {},
   "outputs": [
    {
     "name": "stdout",
     "output_type": "stream",
     "text": [
      "Random Forest Training Accuracy: 100.00\n",
      "Random Forest Testing Accuracy: 94.12\n",
      "--------------------------------------------------\n",
      "Logistic Regression Training Accuracy: 100.00\n",
      "Logistic Regression Testing Accuracy: 82.35\n",
      "--------------------------------------------------\n",
      "KNN (k=7) Training Accuracy: 100.00\n",
      "KNN (k=7) Testing Accuracy: 64.71\n",
      "--------------------------------------------------\n",
      "XGBoost Training Accuracy: 100.00\n",
      "XGBoost Testing Accuracy: 58.82\n",
      "--------------------------------------------------\n",
      "linear SVM Training Accuracy: 100.00\n",
      "linear SVM Testing Accuracy: 76.47\n",
      "--------------------------------------------------\n",
      "Poly SVM Training Accuracy: 100.00\n",
      "Poly SVM Testing Accuracy: 76.47\n",
      "--------------------------------------------------\n",
      "rbf SVM Training Accuracy: 100.00\n",
      "rbf SVM Testing Accuracy: 94.12\n",
      "--------------------------------------------------\n",
      "Sigmoid SVM Training Accuracy: 82.39\n",
      "Sigmoid SVM Testing Accuracy: 58.82\n",
      "--------------------------------------------------\n",
      "Lasso Logistic Regression Training Accuracy: 100.00\n",
      "Lasso Logistic Regression Testing Accuracy: 70.59\n",
      "--------------------------------------------------\n"
     ]
    }
   ],
   "source": [
    "from sklearn.model_selection import GridSearchCV\n",
    "from sklearn.ensemble import RandomForestClassifier\n",
    "from sklearn.linear_model import LogisticRegression\n",
    "from sklearn.neighbors import KNeighborsClassifier\n",
    "from xgboost import XGBClassifier\n",
    "from sklearn.svm import SVC\n",
    "import numpy as np\n",
    "\n",
    "# Define the parameter grids for Grid Search\n",
    "param_grids = {\n",
    "    \"Random Forest\": {\n",
    "        \"n_estimators\": [100, 200],\n",
    "        \"max_depth\": [10, 20, None],\n",
    "        \"min_samples_split\": [2, 5],\n",
    "    },\n",
    "    \"Logistic Regression\": {\n",
    "        \"C\": np.logspace(-4, 4, 20),\n",
    "        \"solver\": [\"lbfgs\", \"liblinear\"],\n",
    "    },\n",
    "    \"KNN (k=7)\": {\n",
    "        \"n_neighbors\": [3, 5, 7, 9],\n",
    "        \"weights\": [\"uniform\", \"distance\"],\n",
    "    },\n",
    "    \"XGBoost\": {\n",
    "        \"n_estimators\": [100, 200],\n",
    "        \"learning_rate\": [0.01, 0.1],\n",
    "        \"max_depth\": [3, 6, 10],\n",
    "    },\n",
    "    \"linear SVM\": {\n",
    "        \"C\": np.logspace(-4, 4, 20),\n",
    "    },\n",
    "    \"Poly SVM\": {\n",
    "        \"C\": np.logspace(-4, 4, 20),\n",
    "        \"degree\": [2, 3, 4],\n",
    "    },\n",
    "    \"rbf SVM\": {\n",
    "        \"C\": np.logspace(-4, 4, 20),\n",
    "        \"gamma\": [\"scale\", \"auto\"],\n",
    "    },\n",
    "    \"Sigmoid SVM\": {\n",
    "        \"C\": np.logspace(-4, 4, 20),\n",
    "        \"gamma\": [\"scale\", \"auto\"],\n",
    "    },\n",
    "    \"Lasso Logistic Regression\": {\n",
    "        \"C\": np.logspace(-4, 4, 20),\n",
    "    }\n",
    "}\n",
    "\n",
    "# Define models\n",
    "models = {\n",
    "    \"Random Forest\": RandomForestClassifier(random_state=random_seed),\n",
    "    \"Logistic Regression\": LogisticRegression(),\n",
    "    \"KNN (k=7)\": KNeighborsClassifier(),\n",
    "    \"XGBoost\": XGBClassifier(),\n",
    "    \"linear SVM\": SVC(kernel='linear', random_state=random_seed),\n",
    "    \"Poly SVM\": SVC(kernel='poly', random_state=random_seed),\n",
    "    \"rbf SVM\": SVC(kernel='rbf', random_state=random_seed),\n",
    "    \"Sigmoid SVM\": SVC(kernel='sigmoid', random_state=random_seed),\n",
    "    \"Lasso Logistic Regression\": LogisticRegression(penalty='l1', solver='saga', multi_class='multinomial', max_iter=10000, random_state=random_seed)\n",
    "}\n",
    "\n",
    "# Train and evaluate each model using Grid Search\n",
    "for model_name, model in models.items():\n",
    "    param_grid = param_grids[model_name]\n",
    "    grid_search = GridSearchCV(model, param_grid, cv=5, scoring='accuracy', n_jobs=-1)\n",
    "    grid_search.fit(X_train, y_smoteOver)\n",
    "    \n",
    "    best_model = grid_search.best_estimator_\n",
    "    train_and_evaluate(best_model, model_name, X_train, y_smoteOver, X_test, y_test)\n"
   ]
  },
  {
   "cell_type": "code",
   "execution_count": 63,
   "id": "df9a0770-8ef9-4cbd-9ce8-cc497a0dec8a",
   "metadata": {},
   "outputs": [
    {
     "data": {
      "image/png": "[encoded data removed]",
      "text/plain": [
       "<Figure size 432x432 with 2 Axes>"
      ]
     },
     "metadata": {
      "needs_background": "light"
     },
     "output_type": "display_data"
    }
   ],
   "source": [
    "clf =  XGBClassifier()\n",
    "clf.fit(X_train, y_smoteOver)\n",
    "\n",
    "y_pred = clf.predict(X_test)\n",
    "\n",
    "# Compute confusion matrix\n",
    "cm = metrics.confusion_matrix(y_test, y_pred)\n",
    "\n",
    "# Normalize confusion matrix\n",
    "cm_normalized = (cm.astype('float') / cm.sum(axis=1)[:, np.newaxis]) * 100\n",
    "fig, ax = plt.subplots(figsize=(6, 6))\n",
    "\n",
    "# Plot the normalized confusion matrix\n",
    "class_labels = ['normal', 'mild', 'moderate', 'severe']\n",
    "cm_display = metrics.ConfusionMatrixDisplay(confusion_matrix=cm_normalized, display_labels = class_labels)\n",
    "cm_display.plot(ax=ax, cmap='Blues')\n",
    "\n",
    "# Set axis labels\n",
    "ax.set_xlabel('Predicted')\n",
    "ax.set_ylabel('True')\n",
    "ax.set_title('Confusion Matrix with Percentages')\n",
    "plt.show()"
   ]
  },
  {
   "cell_type": "markdown",
   "id": "abcbdd10-6600-4ae0-859e-ba0952e96fc1",
   "metadata": {},
   "source": [
    "## Feature Selection using wrapper method"
   ]
  },
  {
   "cell_type": "code",
   "execution_count": 64,
   "id": "d576b997-d275-422f-b671-b282eaa4e804",
   "metadata": {},
   "outputs": [],
   "source": [
    "# pip install mlxtend\n",
    "\n",
    "# from sklearn.feature_selection import SequentialFeatureSelector\n",
    "\n",
    "# estimator = LogisticRegression(max_iter=1000)\n",
    "# sfs = SequentialFeatureSelector(estimator, n_features_to_select=\"auto\", direction='forward', scoring='accuracy')\n",
    "# sfs.fit(X_train, y_train)\n",
    "\n",
    "# # Get the selected features\n",
    "# selected_features = X_train.columns[sfs.get_support()]\n",
    "# print(\"Selected Features: \", selected_features)\n",
    "\n",
    "# # Train model with selected features\n",
    "# estimator.fit(X_train[selected_features], y_train)\n",
    "\n",
    "# # Evaluate model on test data\n",
    "# y_pred = estimator.predict(X_test[selected_features])\n",
    "# test_score = accuracy_score(y_test, y_pred)\n",
    "# print(\"Test Accuracy: \", test_score)"
   ]
  },
  {
   "cell_type": "code",
   "execution_count": 61,
   "id": "f4449b15-0ea8-48cb-8528-48aaed182273",
   "metadata": {},
   "outputs": [],
   "source": [
    "from sklearn.feature_selection import RFE"
   ]
  },
  {
   "cell_type": "code",
   "execution_count": null,
   "id": "94db5a85-8600-4b6f-850a-b8fd15495a52",
   "metadata": {},
   "outputs": [],
   "source": []
  },
  {
   "cell_type": "code",
   "execution_count": null,
   "id": "19c922b7-d9b7-4171-88b5-7cef633ab61f",
   "metadata": {},
   "outputs": [],
   "source": []
  },
  {
   "cell_type": "code",
   "execution_count": null,
   "id": "be1c5d0c-1ca3-43eb-af0c-95cbcdaa4fc2",
   "metadata": {},
   "outputs": [],
   "source": []
  },
  {
   "cell_type": "code",
   "execution_count": null,
   "id": "6721162a-de94-410f-af39-03d6df4aecd6",
   "metadata": {},
   "outputs": [],
   "source": []
  },
  {
   "cell_type": "code",
   "execution_count": null,
   "id": "b1b893d9-5747-42c1-83a9-7b2d9a07d673",
   "metadata": {},
   "outputs": [],
   "source": []
  }
 ],
 "metadata": {
  "kernelspec": {
   "display_name": "Python 3 (ipykernel)",
   "language": "python",
   "name": "python3"
  },
  "language_info": {
   "codemirror_mode": {
    "name": "ipython",
    "version": 3
   },
   "file_extension": ".py",
   "mimetype": "text/x-python",
   "name": "python",
   "nbconvert_exporter": "python",
   "pygments_lexer": "ipython3",
   "version": "3.9.12"
  }
 },
 "nbformat": 4,
 "nbformat_minor": 5
}
